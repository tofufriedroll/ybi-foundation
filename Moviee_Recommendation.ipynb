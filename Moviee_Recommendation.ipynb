{
  "nbformat": 4,
  "nbformat_minor": 0,
  "metadata": {
    "colab": {
      "provenance": []
    },
    "kernelspec": {
      "name": "python3",
      "display_name": "Python 3"
    },
    "language_info": {
      "name": "python"
    }
  },
  "cells": [
    {
      "cell_type": "markdown",
      "source": [
        "# **Movie Recommendation System.**"
      ],
      "metadata": {
        "id": "djFafwi14gmj"
      }
    },
    {
      "cell_type": "markdown",
      "source": [
        "\n",
        "A Recommender System is designed to forecast or filter choices based on user preferences. These systems are employed across various domains, such as movies, music, news, books, academic papers, search queries, social tags, and general products. They generate recommendation lists using two primary methods:\n",
        "\n",
        "Collaborative Filtering: This technique creates a model based on the user's previous actions (like purchased or searched items) and the behavior of similar users. This model then predicts items or ratings that might interest the user.\n",
        "\n",
        "Content-Based Filtering: This approach relies on the specific characteristics of items to suggest others with similar attributes. It uses item descriptions and the user's profile to recommend products based on past preferences.\n",
        "\n",
        "In this guide, we will build a simple recommendation system using Python and Pandas. The system will suggest items similar to a chosen movie, focusing solely on identifying movies that closely match the user's selected movie."
      ],
      "metadata": {
        "id": "q6Q04f1W3DtH"
      }
    },
    {
      "cell_type": "markdown",
      "source": [
        "# **Import Library**"
      ],
      "metadata": {
        "id": "r2m2UN_x5MFE"
      }
    },
    {
      "cell_type": "code",
      "execution_count": 1,
      "metadata": {
        "id": "1yv4jJim3KJ4"
      },
      "outputs": [],
      "source": [
        "import pandas as pd"
      ]
    },
    {
      "cell_type": "code",
      "source": [
        "import numpy as np"
      ],
      "metadata": {
        "id": "l1B70HCb3Zqw"
      },
      "execution_count": 2,
      "outputs": []
    },
    {
      "cell_type": "markdown",
      "source": [
        "# **Import  Dataset**"
      ],
      "metadata": {
        "id": "ZlidOzij5ZSs"
      }
    },
    {
      "cell_type": "code",
      "source": [
        "df=pd.read_csv(r'https://raw.githubusercontent.com/YBI-Foundation/Dataset/main/Movies%20Recommendation.csv')"
      ],
      "metadata": {
        "id": "_IEGsSSk3cWT"
      },
      "execution_count": 3,
      "outputs": []
    },
    {
      "cell_type": "code",
      "source": [
        "df.head()"
      ],
      "metadata": {
        "colab": {
          "base_uri": "https://localhost:8080/",
          "height": 672
        },
        "id": "fZODf7Sn6M_5",
        "outputId": "dc8bfe4c-7e92-4b65-ace8-5de94c4e1fa7"
      },
      "execution_count": 4,
      "outputs": [
        {
          "output_type": "execute_result",
          "data": {
            "text/plain": [
              "   Movie_ID      Movie_Title                       Movie_Genre Movie_Language  \\\n",
              "0         1       Four Rooms                      Crime Comedy             en   \n",
              "1         2        Star Wars  Adventure Action Science Fiction             en   \n",
              "2         3     Finding Nemo                  Animation Family             en   \n",
              "3         4     Forrest Gump              Comedy Drama Romance             en   \n",
              "4         5  American Beauty                             Drama             en   \n",
              "\n",
              "   Movie_Budget  Movie_Popularity Movie_Release_Date  Movie_Revenue  \\\n",
              "0       4000000         22.876230         09-12-1995        4300000   \n",
              "1      11000000        126.393695         25-05-1977      775398007   \n",
              "2      94000000         85.688789         30-05-2003      940335536   \n",
              "3      55000000        138.133331         06-07-1994      677945399   \n",
              "4      15000000         80.878605         15-09-1999      356296601   \n",
              "\n",
              "   Movie_Runtime  Movie_Vote  ...  \\\n",
              "0           98.0         6.5  ...   \n",
              "1          121.0         8.1  ...   \n",
              "2          100.0         7.6  ...   \n",
              "3          142.0         8.2  ...   \n",
              "4          122.0         7.9  ...   \n",
              "\n",
              "                                      Movie_Homepage  \\\n",
              "0                                                NaN   \n",
              "1  http://www.starwars.com/films/star-wars-episod...   \n",
              "2              http://movies.disney.com/finding-nemo   \n",
              "3                                                NaN   \n",
              "4                      http://www.dreamworks.com/ab/   \n",
              "\n",
              "                                      Movie_Keywords  \\\n",
              "0          hotel new year's eve witch bet hotel room   \n",
              "1        android galaxy hermit death star lightsaber   \n",
              "2  father son relationship harbor underwater fish...   \n",
              "3  vietnam veteran hippie mentally disabled runni...   \n",
              "4  male nudity female nudity adultery midlife cri...   \n",
              "\n",
              "                                      Movie_Overview  \\\n",
              "0  It's Ted the Bellhop's first night on the job....   \n",
              "1  Princess Leia is captured and held hostage by ...   \n",
              "2  Nemo, an adventurous young clownfish, is unexp...   \n",
              "3  A man with a low IQ has accomplished great thi...   \n",
              "4  Lester Burnham, a depressed suburban father in...   \n",
              "\n",
              "                              Movie_Production_House  \\\n",
              "0  [{\"name\": \"Miramax Films\", \"id\": 14}, {\"name\":...   \n",
              "1  [{\"name\": \"Lucasfilm\", \"id\": 1}, {\"name\": \"Twe...   \n",
              "2     [{\"name\": \"Pixar Animation Studios\", \"id\": 3}]   \n",
              "3          [{\"name\": \"Paramount Pictures\", \"id\": 4}]   \n",
              "4  [{\"name\": \"DreamWorks SKG\", \"id\": 27}, {\"name\"...   \n",
              "\n",
              "                            Movie_Production_Country  \\\n",
              "0  [{\"iso_3166_1\": \"US\", \"name\": \"United States o...   \n",
              "1  [{\"iso_3166_1\": \"US\", \"name\": \"United States o...   \n",
              "2  [{\"iso_3166_1\": \"US\", \"name\": \"United States o...   \n",
              "3  [{\"iso_3166_1\": \"US\", \"name\": \"United States o...   \n",
              "4  [{\"iso_3166_1\": \"US\", \"name\": \"United States o...   \n",
              "\n",
              "                      Movie_Spoken_Language  \\\n",
              "0  [{\"iso_639_1\": \"en\", \"name\": \"English\"}]   \n",
              "1  [{\"iso_639_1\": \"en\", \"name\": \"English\"}]   \n",
              "2  [{\"iso_639_1\": \"en\", \"name\": \"English\"}]   \n",
              "3  [{\"iso_639_1\": \"en\", \"name\": \"English\"}]   \n",
              "4  [{\"iso_639_1\": \"en\", \"name\": \"English\"}]   \n",
              "\n",
              "                                       Movie_Tagline  \\\n",
              "0  Twelve outrageous guests. Four scandalous requ...   \n",
              "1       A long time ago in a galaxy far, far away...   \n",
              "2  There are 3.7 trillion fish in the ocean, they...   \n",
              "3  The world will never be the same, once you've ...   \n",
              "4                                       Look closer.   \n",
              "\n",
              "                                          Movie_Cast  \\\n",
              "0  Tim Roth Antonio Banderas Jennifer Beals Madon...   \n",
              "1  Mark Hamill Harrison Ford Carrie Fisher Peter ...   \n",
              "2  Albert Brooks Ellen DeGeneres Alexander Gould ...   \n",
              "3  Tom Hanks Robin Wright Gary Sinise Mykelti Wil...   \n",
              "4  Kevin Spacey Annette Bening Thora Birch Wes Be...   \n",
              "\n",
              "                                          Movie_Crew   Movie_Director  \n",
              "0  [{'name': 'Allison Anders', 'gender': 1, 'depa...   Allison Anders  \n",
              "1  [{'name': 'George Lucas', 'gender': 2, 'depart...     George Lucas  \n",
              "2  [{'name': 'Andrew Stanton', 'gender': 2, 'depa...   Andrew Stanton  \n",
              "3  [{'name': 'Alan Silvestri', 'gender': 2, 'depa...  Robert Zemeckis  \n",
              "4  [{'name': 'Thomas Newman', 'gender': 2, 'depar...       Sam Mendes  \n",
              "\n",
              "[5 rows x 21 columns]"
            ],
            "text/html": [
              "\n",
              "  <div id=\"df-639ca8ec-a50f-4182-a1a4-ae642ff6b072\" class=\"colab-df-container\">\n",
              "    <div>\n",
              "<style scoped>\n",
              "    .dataframe tbody tr th:only-of-type {\n",
              "        vertical-align: middle;\n",
              "    }\n",
              "\n",
              "    .dataframe tbody tr th {\n",
              "        vertical-align: top;\n",
              "    }\n",
              "\n",
              "    .dataframe thead th {\n",
              "        text-align: right;\n",
              "    }\n",
              "</style>\n",
              "<table border=\"1\" class=\"dataframe\">\n",
              "  <thead>\n",
              "    <tr style=\"text-align: right;\">\n",
              "      <th></th>\n",
              "      <th>Movie_ID</th>\n",
              "      <th>Movie_Title</th>\n",
              "      <th>Movie_Genre</th>\n",
              "      <th>Movie_Language</th>\n",
              "      <th>Movie_Budget</th>\n",
              "      <th>Movie_Popularity</th>\n",
              "      <th>Movie_Release_Date</th>\n",
              "      <th>Movie_Revenue</th>\n",
              "      <th>Movie_Runtime</th>\n",
              "      <th>Movie_Vote</th>\n",
              "      <th>...</th>\n",
              "      <th>Movie_Homepage</th>\n",
              "      <th>Movie_Keywords</th>\n",
              "      <th>Movie_Overview</th>\n",
              "      <th>Movie_Production_House</th>\n",
              "      <th>Movie_Production_Country</th>\n",
              "      <th>Movie_Spoken_Language</th>\n",
              "      <th>Movie_Tagline</th>\n",
              "      <th>Movie_Cast</th>\n",
              "      <th>Movie_Crew</th>\n",
              "      <th>Movie_Director</th>\n",
              "    </tr>\n",
              "  </thead>\n",
              "  <tbody>\n",
              "    <tr>\n",
              "      <th>0</th>\n",
              "      <td>1</td>\n",
              "      <td>Four Rooms</td>\n",
              "      <td>Crime Comedy</td>\n",
              "      <td>en</td>\n",
              "      <td>4000000</td>\n",
              "      <td>22.876230</td>\n",
              "      <td>09-12-1995</td>\n",
              "      <td>4300000</td>\n",
              "      <td>98.0</td>\n",
              "      <td>6.5</td>\n",
              "      <td>...</td>\n",
              "      <td>NaN</td>\n",
              "      <td>hotel new year's eve witch bet hotel room</td>\n",
              "      <td>It's Ted the Bellhop's first night on the job....</td>\n",
              "      <td>[{\"name\": \"Miramax Films\", \"id\": 14}, {\"name\":...</td>\n",
              "      <td>[{\"iso_3166_1\": \"US\", \"name\": \"United States o...</td>\n",
              "      <td>[{\"iso_639_1\": \"en\", \"name\": \"English\"}]</td>\n",
              "      <td>Twelve outrageous guests. Four scandalous requ...</td>\n",
              "      <td>Tim Roth Antonio Banderas Jennifer Beals Madon...</td>\n",
              "      <td>[{'name': 'Allison Anders', 'gender': 1, 'depa...</td>\n",
              "      <td>Allison Anders</td>\n",
              "    </tr>\n",
              "    <tr>\n",
              "      <th>1</th>\n",
              "      <td>2</td>\n",
              "      <td>Star Wars</td>\n",
              "      <td>Adventure Action Science Fiction</td>\n",
              "      <td>en</td>\n",
              "      <td>11000000</td>\n",
              "      <td>126.393695</td>\n",
              "      <td>25-05-1977</td>\n",
              "      <td>775398007</td>\n",
              "      <td>121.0</td>\n",
              "      <td>8.1</td>\n",
              "      <td>...</td>\n",
              "      <td>http://www.starwars.com/films/star-wars-episod...</td>\n",
              "      <td>android galaxy hermit death star lightsaber</td>\n",
              "      <td>Princess Leia is captured and held hostage by ...</td>\n",
              "      <td>[{\"name\": \"Lucasfilm\", \"id\": 1}, {\"name\": \"Twe...</td>\n",
              "      <td>[{\"iso_3166_1\": \"US\", \"name\": \"United States o...</td>\n",
              "      <td>[{\"iso_639_1\": \"en\", \"name\": \"English\"}]</td>\n",
              "      <td>A long time ago in a galaxy far, far away...</td>\n",
              "      <td>Mark Hamill Harrison Ford Carrie Fisher Peter ...</td>\n",
              "      <td>[{'name': 'George Lucas', 'gender': 2, 'depart...</td>\n",
              "      <td>George Lucas</td>\n",
              "    </tr>\n",
              "    <tr>\n",
              "      <th>2</th>\n",
              "      <td>3</td>\n",
              "      <td>Finding Nemo</td>\n",
              "      <td>Animation Family</td>\n",
              "      <td>en</td>\n",
              "      <td>94000000</td>\n",
              "      <td>85.688789</td>\n",
              "      <td>30-05-2003</td>\n",
              "      <td>940335536</td>\n",
              "      <td>100.0</td>\n",
              "      <td>7.6</td>\n",
              "      <td>...</td>\n",
              "      <td>http://movies.disney.com/finding-nemo</td>\n",
              "      <td>father son relationship harbor underwater fish...</td>\n",
              "      <td>Nemo, an adventurous young clownfish, is unexp...</td>\n",
              "      <td>[{\"name\": \"Pixar Animation Studios\", \"id\": 3}]</td>\n",
              "      <td>[{\"iso_3166_1\": \"US\", \"name\": \"United States o...</td>\n",
              "      <td>[{\"iso_639_1\": \"en\", \"name\": \"English\"}]</td>\n",
              "      <td>There are 3.7 trillion fish in the ocean, they...</td>\n",
              "      <td>Albert Brooks Ellen DeGeneres Alexander Gould ...</td>\n",
              "      <td>[{'name': 'Andrew Stanton', 'gender': 2, 'depa...</td>\n",
              "      <td>Andrew Stanton</td>\n",
              "    </tr>\n",
              "    <tr>\n",
              "      <th>3</th>\n",
              "      <td>4</td>\n",
              "      <td>Forrest Gump</td>\n",
              "      <td>Comedy Drama Romance</td>\n",
              "      <td>en</td>\n",
              "      <td>55000000</td>\n",
              "      <td>138.133331</td>\n",
              "      <td>06-07-1994</td>\n",
              "      <td>677945399</td>\n",
              "      <td>142.0</td>\n",
              "      <td>8.2</td>\n",
              "      <td>...</td>\n",
              "      <td>NaN</td>\n",
              "      <td>vietnam veteran hippie mentally disabled runni...</td>\n",
              "      <td>A man with a low IQ has accomplished great thi...</td>\n",
              "      <td>[{\"name\": \"Paramount Pictures\", \"id\": 4}]</td>\n",
              "      <td>[{\"iso_3166_1\": \"US\", \"name\": \"United States o...</td>\n",
              "      <td>[{\"iso_639_1\": \"en\", \"name\": \"English\"}]</td>\n",
              "      <td>The world will never be the same, once you've ...</td>\n",
              "      <td>Tom Hanks Robin Wright Gary Sinise Mykelti Wil...</td>\n",
              "      <td>[{'name': 'Alan Silvestri', 'gender': 2, 'depa...</td>\n",
              "      <td>Robert Zemeckis</td>\n",
              "    </tr>\n",
              "    <tr>\n",
              "      <th>4</th>\n",
              "      <td>5</td>\n",
              "      <td>American Beauty</td>\n",
              "      <td>Drama</td>\n",
              "      <td>en</td>\n",
              "      <td>15000000</td>\n",
              "      <td>80.878605</td>\n",
              "      <td>15-09-1999</td>\n",
              "      <td>356296601</td>\n",
              "      <td>122.0</td>\n",
              "      <td>7.9</td>\n",
              "      <td>...</td>\n",
              "      <td>http://www.dreamworks.com/ab/</td>\n",
              "      <td>male nudity female nudity adultery midlife cri...</td>\n",
              "      <td>Lester Burnham, a depressed suburban father in...</td>\n",
              "      <td>[{\"name\": \"DreamWorks SKG\", \"id\": 27}, {\"name\"...</td>\n",
              "      <td>[{\"iso_3166_1\": \"US\", \"name\": \"United States o...</td>\n",
              "      <td>[{\"iso_639_1\": \"en\", \"name\": \"English\"}]</td>\n",
              "      <td>Look closer.</td>\n",
              "      <td>Kevin Spacey Annette Bening Thora Birch Wes Be...</td>\n",
              "      <td>[{'name': 'Thomas Newman', 'gender': 2, 'depar...</td>\n",
              "      <td>Sam Mendes</td>\n",
              "    </tr>\n",
              "  </tbody>\n",
              "</table>\n",
              "<p>5 rows × 21 columns</p>\n",
              "</div>\n",
              "    <div class=\"colab-df-buttons\">\n",
              "\n",
              "  <div class=\"colab-df-container\">\n",
              "    <button class=\"colab-df-convert\" onclick=\"convertToInteractive('df-639ca8ec-a50f-4182-a1a4-ae642ff6b072')\"\n",
              "            title=\"Convert this dataframe to an interactive table.\"\n",
              "            style=\"display:none;\">\n",
              "\n",
              "  <svg xmlns=\"http://www.w3.org/2000/svg\" height=\"24px\" viewBox=\"0 -960 960 960\">\n",
              "    <path d=\"M120-120v-720h720v720H120Zm60-500h600v-160H180v160Zm220 220h160v-160H400v160Zm0 220h160v-160H400v160ZM180-400h160v-160H180v160Zm440 0h160v-160H620v160ZM180-180h160v-160H180v160Zm440 0h160v-160H620v160Z\"/>\n",
              "  </svg>\n",
              "    </button>\n",
              "\n",
              "  <style>\n",
              "    .colab-df-container {\n",
              "      display:flex;\n",
              "      gap: 12px;\n",
              "    }\n",
              "\n",
              "    .colab-df-convert {\n",
              "      background-color: #E8F0FE;\n",
              "      border: none;\n",
              "      border-radius: 50%;\n",
              "      cursor: pointer;\n",
              "      display: none;\n",
              "      fill: #1967D2;\n",
              "      height: 32px;\n",
              "      padding: 0 0 0 0;\n",
              "      width: 32px;\n",
              "    }\n",
              "\n",
              "    .colab-df-convert:hover {\n",
              "      background-color: #E2EBFA;\n",
              "      box-shadow: 0px 1px 2px rgba(60, 64, 67, 0.3), 0px 1px 3px 1px rgba(60, 64, 67, 0.15);\n",
              "      fill: #174EA6;\n",
              "    }\n",
              "\n",
              "    .colab-df-buttons div {\n",
              "      margin-bottom: 4px;\n",
              "    }\n",
              "\n",
              "    [theme=dark] .colab-df-convert {\n",
              "      background-color: #3B4455;\n",
              "      fill: #D2E3FC;\n",
              "    }\n",
              "\n",
              "    [theme=dark] .colab-df-convert:hover {\n",
              "      background-color: #434B5C;\n",
              "      box-shadow: 0px 1px 3px 1px rgba(0, 0, 0, 0.15);\n",
              "      filter: drop-shadow(0px 1px 2px rgba(0, 0, 0, 0.3));\n",
              "      fill: #FFFFFF;\n",
              "    }\n",
              "  </style>\n",
              "\n",
              "    <script>\n",
              "      const buttonEl =\n",
              "        document.querySelector('#df-639ca8ec-a50f-4182-a1a4-ae642ff6b072 button.colab-df-convert');\n",
              "      buttonEl.style.display =\n",
              "        google.colab.kernel.accessAllowed ? 'block' : 'none';\n",
              "\n",
              "      async function convertToInteractive(key) {\n",
              "        const element = document.querySelector('#df-639ca8ec-a50f-4182-a1a4-ae642ff6b072');\n",
              "        const dataTable =\n",
              "          await google.colab.kernel.invokeFunction('convertToInteractive',\n",
              "                                                    [key], {});\n",
              "        if (!dataTable) return;\n",
              "\n",
              "        const docLinkHtml = 'Like what you see? Visit the ' +\n",
              "          '<a target=\"_blank\" href=https://colab.research.google.com/notebooks/data_table.ipynb>data table notebook</a>'\n",
              "          + ' to learn more about interactive tables.';\n",
              "        element.innerHTML = '';\n",
              "        dataTable['output_type'] = 'display_data';\n",
              "        await google.colab.output.renderOutput(dataTable, element);\n",
              "        const docLink = document.createElement('div');\n",
              "        docLink.innerHTML = docLinkHtml;\n",
              "        element.appendChild(docLink);\n",
              "      }\n",
              "    </script>\n",
              "  </div>\n",
              "\n",
              "\n",
              "<div id=\"df-d0598ad1-e200-4f1a-91a5-e94c4134a2c2\">\n",
              "  <button class=\"colab-df-quickchart\" onclick=\"quickchart('df-d0598ad1-e200-4f1a-91a5-e94c4134a2c2')\"\n",
              "            title=\"Suggest charts\"\n",
              "            style=\"display:none;\">\n",
              "\n",
              "<svg xmlns=\"http://www.w3.org/2000/svg\" height=\"24px\"viewBox=\"0 0 24 24\"\n",
              "     width=\"24px\">\n",
              "    <g>\n",
              "        <path d=\"M19 3H5c-1.1 0-2 .9-2 2v14c0 1.1.9 2 2 2h14c1.1 0 2-.9 2-2V5c0-1.1-.9-2-2-2zM9 17H7v-7h2v7zm4 0h-2V7h2v10zm4 0h-2v-4h2v4z\"/>\n",
              "    </g>\n",
              "</svg>\n",
              "  </button>\n",
              "\n",
              "<style>\n",
              "  .colab-df-quickchart {\n",
              "      --bg-color: #E8F0FE;\n",
              "      --fill-color: #1967D2;\n",
              "      --hover-bg-color: #E2EBFA;\n",
              "      --hover-fill-color: #174EA6;\n",
              "      --disabled-fill-color: #AAA;\n",
              "      --disabled-bg-color: #DDD;\n",
              "  }\n",
              "\n",
              "  [theme=dark] .colab-df-quickchart {\n",
              "      --bg-color: #3B4455;\n",
              "      --fill-color: #D2E3FC;\n",
              "      --hover-bg-color: #434B5C;\n",
              "      --hover-fill-color: #FFFFFF;\n",
              "      --disabled-bg-color: #3B4455;\n",
              "      --disabled-fill-color: #666;\n",
              "  }\n",
              "\n",
              "  .colab-df-quickchart {\n",
              "    background-color: var(--bg-color);\n",
              "    border: none;\n",
              "    border-radius: 50%;\n",
              "    cursor: pointer;\n",
              "    display: none;\n",
              "    fill: var(--fill-color);\n",
              "    height: 32px;\n",
              "    padding: 0;\n",
              "    width: 32px;\n",
              "  }\n",
              "\n",
              "  .colab-df-quickchart:hover {\n",
              "    background-color: var(--hover-bg-color);\n",
              "    box-shadow: 0 1px 2px rgba(60, 64, 67, 0.3), 0 1px 3px 1px rgba(60, 64, 67, 0.15);\n",
              "    fill: var(--button-hover-fill-color);\n",
              "  }\n",
              "\n",
              "  .colab-df-quickchart-complete:disabled,\n",
              "  .colab-df-quickchart-complete:disabled:hover {\n",
              "    background-color: var(--disabled-bg-color);\n",
              "    fill: var(--disabled-fill-color);\n",
              "    box-shadow: none;\n",
              "  }\n",
              "\n",
              "  .colab-df-spinner {\n",
              "    border: 2px solid var(--fill-color);\n",
              "    border-color: transparent;\n",
              "    border-bottom-color: var(--fill-color);\n",
              "    animation:\n",
              "      spin 1s steps(1) infinite;\n",
              "  }\n",
              "\n",
              "  @keyframes spin {\n",
              "    0% {\n",
              "      border-color: transparent;\n",
              "      border-bottom-color: var(--fill-color);\n",
              "      border-left-color: var(--fill-color);\n",
              "    }\n",
              "    20% {\n",
              "      border-color: transparent;\n",
              "      border-left-color: var(--fill-color);\n",
              "      border-top-color: var(--fill-color);\n",
              "    }\n",
              "    30% {\n",
              "      border-color: transparent;\n",
              "      border-left-color: var(--fill-color);\n",
              "      border-top-color: var(--fill-color);\n",
              "      border-right-color: var(--fill-color);\n",
              "    }\n",
              "    40% {\n",
              "      border-color: transparent;\n",
              "      border-right-color: var(--fill-color);\n",
              "      border-top-color: var(--fill-color);\n",
              "    }\n",
              "    60% {\n",
              "      border-color: transparent;\n",
              "      border-right-color: var(--fill-color);\n",
              "    }\n",
              "    80% {\n",
              "      border-color: transparent;\n",
              "      border-right-color: var(--fill-color);\n",
              "      border-bottom-color: var(--fill-color);\n",
              "    }\n",
              "    90% {\n",
              "      border-color: transparent;\n",
              "      border-bottom-color: var(--fill-color);\n",
              "    }\n",
              "  }\n",
              "</style>\n",
              "\n",
              "  <script>\n",
              "    async function quickchart(key) {\n",
              "      const quickchartButtonEl =\n",
              "        document.querySelector('#' + key + ' button');\n",
              "      quickchartButtonEl.disabled = true;  // To prevent multiple clicks.\n",
              "      quickchartButtonEl.classList.add('colab-df-spinner');\n",
              "      try {\n",
              "        const charts = await google.colab.kernel.invokeFunction(\n",
              "            'suggestCharts', [key], {});\n",
              "      } catch (error) {\n",
              "        console.error('Error during call to suggestCharts:', error);\n",
              "      }\n",
              "      quickchartButtonEl.classList.remove('colab-df-spinner');\n",
              "      quickchartButtonEl.classList.add('colab-df-quickchart-complete');\n",
              "    }\n",
              "    (() => {\n",
              "      let quickchartButtonEl =\n",
              "        document.querySelector('#df-d0598ad1-e200-4f1a-91a5-e94c4134a2c2 button');\n",
              "      quickchartButtonEl.style.display =\n",
              "        google.colab.kernel.accessAllowed ? 'block' : 'none';\n",
              "    })();\n",
              "  </script>\n",
              "</div>\n",
              "\n",
              "    </div>\n",
              "  </div>\n"
            ],
            "application/vnd.google.colaboratory.intrinsic+json": {
              "type": "dataframe",
              "variable_name": "df"
            }
          },
          "metadata": {},
          "execution_count": 4
        }
      ]
    },
    {
      "cell_type": "code",
      "source": [
        "df.info()"
      ],
      "metadata": {
        "colab": {
          "base_uri": "https://localhost:8080/"
        },
        "id": "6MijQxtj6Ru-",
        "outputId": "ca956cb2-2db9-4359-f7e3-4e6abbd6c5f0"
      },
      "execution_count": 5,
      "outputs": [
        {
          "output_type": "stream",
          "name": "stdout",
          "text": [
            "<class 'pandas.core.frame.DataFrame'>\n",
            "RangeIndex: 4760 entries, 0 to 4759\n",
            "Data columns (total 21 columns):\n",
            " #   Column                    Non-Null Count  Dtype  \n",
            "---  ------                    --------------  -----  \n",
            " 0   Movie_ID                  4760 non-null   int64  \n",
            " 1   Movie_Title               4760 non-null   object \n",
            " 2   Movie_Genre               4760 non-null   object \n",
            " 3   Movie_Language            4760 non-null   object \n",
            " 4   Movie_Budget              4760 non-null   int64  \n",
            " 5   Movie_Popularity          4760 non-null   float64\n",
            " 6   Movie_Release_Date        4760 non-null   object \n",
            " 7   Movie_Revenue             4760 non-null   int64  \n",
            " 8   Movie_Runtime             4758 non-null   float64\n",
            " 9   Movie_Vote                4760 non-null   float64\n",
            " 10  Movie_Vote_Count          4760 non-null   int64  \n",
            " 11  Movie_Homepage            1699 non-null   object \n",
            " 12  Movie_Keywords            4373 non-null   object \n",
            " 13  Movie_Overview            4757 non-null   object \n",
            " 14  Movie_Production_House    4760 non-null   object \n",
            " 15  Movie_Production_Country  4760 non-null   object \n",
            " 16  Movie_Spoken_Language     4760 non-null   object \n",
            " 17  Movie_Tagline             3942 non-null   object \n",
            " 18  Movie_Cast                4733 non-null   object \n",
            " 19  Movie_Crew                4760 non-null   object \n",
            " 20  Movie_Director            4738 non-null   object \n",
            "dtypes: float64(3), int64(4), object(14)\n",
            "memory usage: 781.1+ KB\n"
          ]
        }
      ]
    },
    {
      "cell_type": "code",
      "source": [
        "df.shape"
      ],
      "metadata": {
        "colab": {
          "base_uri": "https://localhost:8080/"
        },
        "id": "t2PPE9_h6i72",
        "outputId": "dc8f3051-2429-4869-b74a-8f26650d0a1f"
      },
      "execution_count": 6,
      "outputs": [
        {
          "output_type": "execute_result",
          "data": {
            "text/plain": [
              "(4760, 21)"
            ]
          },
          "metadata": {},
          "execution_count": 6
        }
      ]
    },
    {
      "cell_type": "code",
      "source": [
        "df.columns"
      ],
      "metadata": {
        "colab": {
          "base_uri": "https://localhost:8080/"
        },
        "id": "mNx1okxK6m_-",
        "outputId": "12a21013-1a1c-42e7-e49b-f01737e75d9e"
      },
      "execution_count": 7,
      "outputs": [
        {
          "output_type": "execute_result",
          "data": {
            "text/plain": [
              "Index(['Movie_ID', 'Movie_Title', 'Movie_Genre', 'Movie_Language',\n",
              "       'Movie_Budget', 'Movie_Popularity', 'Movie_Release_Date',\n",
              "       'Movie_Revenue', 'Movie_Runtime', 'Movie_Vote', 'Movie_Vote_Count',\n",
              "       'Movie_Homepage', 'Movie_Keywords', 'Movie_Overview',\n",
              "       'Movie_Production_House', 'Movie_Production_Country',\n",
              "       'Movie_Spoken_Language', 'Movie_Tagline', 'Movie_Cast', 'Movie_Crew',\n",
              "       'Movie_Director'],\n",
              "      dtype='object')"
            ]
          },
          "metadata": {},
          "execution_count": 7
        }
      ]
    },
    {
      "cell_type": "markdown",
      "source": [
        "# **Get Feature Selection**"
      ],
      "metadata": {
        "id": "8Ljz-hqe6Fa-"
      }
    },
    {
      "cell_type": "code",
      "source": [
        "df_features=df[['Movie_Genre','Movie_Keywords','Movie_Tagline','Movie_Cast','Movie_Director']].fillna('')"
      ],
      "metadata": {
        "id": "LVOXrHKe6st6"
      },
      "execution_count": 8,
      "outputs": []
    },
    {
      "cell_type": "code",
      "source": [
        "df_features.shape"
      ],
      "metadata": {
        "colab": {
          "base_uri": "https://localhost:8080/"
        },
        "id": "hdwZfJkH7mq1",
        "outputId": "3200a246-7482-46d5-c9ae-ca69ac242ed4"
      },
      "execution_count": 9,
      "outputs": [
        {
          "output_type": "execute_result",
          "data": {
            "text/plain": [
              "(4760, 5)"
            ]
          },
          "metadata": {},
          "execution_count": 9
        }
      ]
    },
    {
      "cell_type": "code",
      "source": [
        "df_features"
      ],
      "metadata": {
        "colab": {
          "base_uri": "https://localhost:8080/",
          "height": 424
        },
        "id": "QBYn7ndf70wU",
        "outputId": "71d44e60-9d87-4051-de78-7d102e8e9021"
      },
      "execution_count": 10,
      "outputs": [
        {
          "output_type": "execute_result",
          "data": {
            "text/plain": [
              "                           Movie_Genre  \\\n",
              "0                         Crime Comedy   \n",
              "1     Adventure Action Science Fiction   \n",
              "2                     Animation Family   \n",
              "3                 Comedy Drama Romance   \n",
              "4                                Drama   \n",
              "...                                ...   \n",
              "4755                            Horror   \n",
              "4756               Comedy Family Drama   \n",
              "4757                    Thriller Drama   \n",
              "4758                            Family   \n",
              "4759                       Documentary   \n",
              "\n",
              "                                         Movie_Keywords  \\\n",
              "0             hotel new year's eve witch bet hotel room   \n",
              "1           android galaxy hermit death star lightsaber   \n",
              "2     father son relationship harbor underwater fish...   \n",
              "3     vietnam veteran hippie mentally disabled runni...   \n",
              "4     male nudity female nudity adultery midlife cri...   \n",
              "...                                                 ...   \n",
              "4755                                                      \n",
              "4756                                                      \n",
              "4757                     christian film sex trafficking   \n",
              "4758                                                      \n",
              "4759  music actors legendary perfomer classic hollyw...   \n",
              "\n",
              "                                          Movie_Tagline  \\\n",
              "0     Twelve outrageous guests. Four scandalous requ...   \n",
              "1          A long time ago in a galaxy far, far away...   \n",
              "2     There are 3.7 trillion fish in the ocean, they...   \n",
              "3     The world will never be the same, once you've ...   \n",
              "4                                          Look closer.   \n",
              "...                                                 ...   \n",
              "4755                The hot spot where Satan's waitin'.   \n",
              "4756           It’s better to stand out than to fit in.   \n",
              "4757           She never knew it could happen to her...   \n",
              "4758                                                      \n",
              "4759                                                      \n",
              "\n",
              "                                             Movie_Cast     Movie_Director  \n",
              "0     Tim Roth Antonio Banderas Jennifer Beals Madon...     Allison Anders  \n",
              "1     Mark Hamill Harrison Ford Carrie Fisher Peter ...       George Lucas  \n",
              "2     Albert Brooks Ellen DeGeneres Alexander Gould ...     Andrew Stanton  \n",
              "3     Tom Hanks Robin Wright Gary Sinise Mykelti Wil...    Robert Zemeckis  \n",
              "4     Kevin Spacey Annette Bening Thora Birch Wes Be...         Sam Mendes  \n",
              "...                                                 ...                ...  \n",
              "4755  Lisa Hart Carroll Michael Des Barres Paul Drak...         Pece Dingo  \n",
              "4756  Roni Akurati Brighton Sharbino Jason Lee Anjul...       Frank Lotito  \n",
              "4757  Nicole Smolen Kim Baldwin Ariana Stephens Brys...       Jaco Booyens  \n",
              "4758                                                                        \n",
              "4759                                    Tony Oppedisano  Simon Napier-Bell  \n",
              "\n",
              "[4760 rows x 5 columns]"
            ],
            "text/html": [
              "\n",
              "  <div id=\"df-ac1e3961-978e-4bdb-a13f-0ce54dd45896\" class=\"colab-df-container\">\n",
              "    <div>\n",
              "<style scoped>\n",
              "    .dataframe tbody tr th:only-of-type {\n",
              "        vertical-align: middle;\n",
              "    }\n",
              "\n",
              "    .dataframe tbody tr th {\n",
              "        vertical-align: top;\n",
              "    }\n",
              "\n",
              "    .dataframe thead th {\n",
              "        text-align: right;\n",
              "    }\n",
              "</style>\n",
              "<table border=\"1\" class=\"dataframe\">\n",
              "  <thead>\n",
              "    <tr style=\"text-align: right;\">\n",
              "      <th></th>\n",
              "      <th>Movie_Genre</th>\n",
              "      <th>Movie_Keywords</th>\n",
              "      <th>Movie_Tagline</th>\n",
              "      <th>Movie_Cast</th>\n",
              "      <th>Movie_Director</th>\n",
              "    </tr>\n",
              "  </thead>\n",
              "  <tbody>\n",
              "    <tr>\n",
              "      <th>0</th>\n",
              "      <td>Crime Comedy</td>\n",
              "      <td>hotel new year's eve witch bet hotel room</td>\n",
              "      <td>Twelve outrageous guests. Four scandalous requ...</td>\n",
              "      <td>Tim Roth Antonio Banderas Jennifer Beals Madon...</td>\n",
              "      <td>Allison Anders</td>\n",
              "    </tr>\n",
              "    <tr>\n",
              "      <th>1</th>\n",
              "      <td>Adventure Action Science Fiction</td>\n",
              "      <td>android galaxy hermit death star lightsaber</td>\n",
              "      <td>A long time ago in a galaxy far, far away...</td>\n",
              "      <td>Mark Hamill Harrison Ford Carrie Fisher Peter ...</td>\n",
              "      <td>George Lucas</td>\n",
              "    </tr>\n",
              "    <tr>\n",
              "      <th>2</th>\n",
              "      <td>Animation Family</td>\n",
              "      <td>father son relationship harbor underwater fish...</td>\n",
              "      <td>There are 3.7 trillion fish in the ocean, they...</td>\n",
              "      <td>Albert Brooks Ellen DeGeneres Alexander Gould ...</td>\n",
              "      <td>Andrew Stanton</td>\n",
              "    </tr>\n",
              "    <tr>\n",
              "      <th>3</th>\n",
              "      <td>Comedy Drama Romance</td>\n",
              "      <td>vietnam veteran hippie mentally disabled runni...</td>\n",
              "      <td>The world will never be the same, once you've ...</td>\n",
              "      <td>Tom Hanks Robin Wright Gary Sinise Mykelti Wil...</td>\n",
              "      <td>Robert Zemeckis</td>\n",
              "    </tr>\n",
              "    <tr>\n",
              "      <th>4</th>\n",
              "      <td>Drama</td>\n",
              "      <td>male nudity female nudity adultery midlife cri...</td>\n",
              "      <td>Look closer.</td>\n",
              "      <td>Kevin Spacey Annette Bening Thora Birch Wes Be...</td>\n",
              "      <td>Sam Mendes</td>\n",
              "    </tr>\n",
              "    <tr>\n",
              "      <th>...</th>\n",
              "      <td>...</td>\n",
              "      <td>...</td>\n",
              "      <td>...</td>\n",
              "      <td>...</td>\n",
              "      <td>...</td>\n",
              "    </tr>\n",
              "    <tr>\n",
              "      <th>4755</th>\n",
              "      <td>Horror</td>\n",
              "      <td></td>\n",
              "      <td>The hot spot where Satan's waitin'.</td>\n",
              "      <td>Lisa Hart Carroll Michael Des Barres Paul Drak...</td>\n",
              "      <td>Pece Dingo</td>\n",
              "    </tr>\n",
              "    <tr>\n",
              "      <th>4756</th>\n",
              "      <td>Comedy Family Drama</td>\n",
              "      <td></td>\n",
              "      <td>It’s better to stand out than to fit in.</td>\n",
              "      <td>Roni Akurati Brighton Sharbino Jason Lee Anjul...</td>\n",
              "      <td>Frank Lotito</td>\n",
              "    </tr>\n",
              "    <tr>\n",
              "      <th>4757</th>\n",
              "      <td>Thriller Drama</td>\n",
              "      <td>christian film sex trafficking</td>\n",
              "      <td>She never knew it could happen to her...</td>\n",
              "      <td>Nicole Smolen Kim Baldwin Ariana Stephens Brys...</td>\n",
              "      <td>Jaco Booyens</td>\n",
              "    </tr>\n",
              "    <tr>\n",
              "      <th>4758</th>\n",
              "      <td>Family</td>\n",
              "      <td></td>\n",
              "      <td></td>\n",
              "      <td></td>\n",
              "      <td></td>\n",
              "    </tr>\n",
              "    <tr>\n",
              "      <th>4759</th>\n",
              "      <td>Documentary</td>\n",
              "      <td>music actors legendary perfomer classic hollyw...</td>\n",
              "      <td></td>\n",
              "      <td>Tony Oppedisano</td>\n",
              "      <td>Simon Napier-Bell</td>\n",
              "    </tr>\n",
              "  </tbody>\n",
              "</table>\n",
              "<p>4760 rows × 5 columns</p>\n",
              "</div>\n",
              "    <div class=\"colab-df-buttons\">\n",
              "\n",
              "  <div class=\"colab-df-container\">\n",
              "    <button class=\"colab-df-convert\" onclick=\"convertToInteractive('df-ac1e3961-978e-4bdb-a13f-0ce54dd45896')\"\n",
              "            title=\"Convert this dataframe to an interactive table.\"\n",
              "            style=\"display:none;\">\n",
              "\n",
              "  <svg xmlns=\"http://www.w3.org/2000/svg\" height=\"24px\" viewBox=\"0 -960 960 960\">\n",
              "    <path d=\"M120-120v-720h720v720H120Zm60-500h600v-160H180v160Zm220 220h160v-160H400v160Zm0 220h160v-160H400v160ZM180-400h160v-160H180v160Zm440 0h160v-160H620v160ZM180-180h160v-160H180v160Zm440 0h160v-160H620v160Z\"/>\n",
              "  </svg>\n",
              "    </button>\n",
              "\n",
              "  <style>\n",
              "    .colab-df-container {\n",
              "      display:flex;\n",
              "      gap: 12px;\n",
              "    }\n",
              "\n",
              "    .colab-df-convert {\n",
              "      background-color: #E8F0FE;\n",
              "      border: none;\n",
              "      border-radius: 50%;\n",
              "      cursor: pointer;\n",
              "      display: none;\n",
              "      fill: #1967D2;\n",
              "      height: 32px;\n",
              "      padding: 0 0 0 0;\n",
              "      width: 32px;\n",
              "    }\n",
              "\n",
              "    .colab-df-convert:hover {\n",
              "      background-color: #E2EBFA;\n",
              "      box-shadow: 0px 1px 2px rgba(60, 64, 67, 0.3), 0px 1px 3px 1px rgba(60, 64, 67, 0.15);\n",
              "      fill: #174EA6;\n",
              "    }\n",
              "\n",
              "    .colab-df-buttons div {\n",
              "      margin-bottom: 4px;\n",
              "    }\n",
              "\n",
              "    [theme=dark] .colab-df-convert {\n",
              "      background-color: #3B4455;\n",
              "      fill: #D2E3FC;\n",
              "    }\n",
              "\n",
              "    [theme=dark] .colab-df-convert:hover {\n",
              "      background-color: #434B5C;\n",
              "      box-shadow: 0px 1px 3px 1px rgba(0, 0, 0, 0.15);\n",
              "      filter: drop-shadow(0px 1px 2px rgba(0, 0, 0, 0.3));\n",
              "      fill: #FFFFFF;\n",
              "    }\n",
              "  </style>\n",
              "\n",
              "    <script>\n",
              "      const buttonEl =\n",
              "        document.querySelector('#df-ac1e3961-978e-4bdb-a13f-0ce54dd45896 button.colab-df-convert');\n",
              "      buttonEl.style.display =\n",
              "        google.colab.kernel.accessAllowed ? 'block' : 'none';\n",
              "\n",
              "      async function convertToInteractive(key) {\n",
              "        const element = document.querySelector('#df-ac1e3961-978e-4bdb-a13f-0ce54dd45896');\n",
              "        const dataTable =\n",
              "          await google.colab.kernel.invokeFunction('convertToInteractive',\n",
              "                                                    [key], {});\n",
              "        if (!dataTable) return;\n",
              "\n",
              "        const docLinkHtml = 'Like what you see? Visit the ' +\n",
              "          '<a target=\"_blank\" href=https://colab.research.google.com/notebooks/data_table.ipynb>data table notebook</a>'\n",
              "          + ' to learn more about interactive tables.';\n",
              "        element.innerHTML = '';\n",
              "        dataTable['output_type'] = 'display_data';\n",
              "        await google.colab.output.renderOutput(dataTable, element);\n",
              "        const docLink = document.createElement('div');\n",
              "        docLink.innerHTML = docLinkHtml;\n",
              "        element.appendChild(docLink);\n",
              "      }\n",
              "    </script>\n",
              "  </div>\n",
              "\n",
              "\n",
              "<div id=\"df-aec912b3-5380-4329-87f1-6461fa7b6d4e\">\n",
              "  <button class=\"colab-df-quickchart\" onclick=\"quickchart('df-aec912b3-5380-4329-87f1-6461fa7b6d4e')\"\n",
              "            title=\"Suggest charts\"\n",
              "            style=\"display:none;\">\n",
              "\n",
              "<svg xmlns=\"http://www.w3.org/2000/svg\" height=\"24px\"viewBox=\"0 0 24 24\"\n",
              "     width=\"24px\">\n",
              "    <g>\n",
              "        <path d=\"M19 3H5c-1.1 0-2 .9-2 2v14c0 1.1.9 2 2 2h14c1.1 0 2-.9 2-2V5c0-1.1-.9-2-2-2zM9 17H7v-7h2v7zm4 0h-2V7h2v10zm4 0h-2v-4h2v4z\"/>\n",
              "    </g>\n",
              "</svg>\n",
              "  </button>\n",
              "\n",
              "<style>\n",
              "  .colab-df-quickchart {\n",
              "      --bg-color: #E8F0FE;\n",
              "      --fill-color: #1967D2;\n",
              "      --hover-bg-color: #E2EBFA;\n",
              "      --hover-fill-color: #174EA6;\n",
              "      --disabled-fill-color: #AAA;\n",
              "      --disabled-bg-color: #DDD;\n",
              "  }\n",
              "\n",
              "  [theme=dark] .colab-df-quickchart {\n",
              "      --bg-color: #3B4455;\n",
              "      --fill-color: #D2E3FC;\n",
              "      --hover-bg-color: #434B5C;\n",
              "      --hover-fill-color: #FFFFFF;\n",
              "      --disabled-bg-color: #3B4455;\n",
              "      --disabled-fill-color: #666;\n",
              "  }\n",
              "\n",
              "  .colab-df-quickchart {\n",
              "    background-color: var(--bg-color);\n",
              "    border: none;\n",
              "    border-radius: 50%;\n",
              "    cursor: pointer;\n",
              "    display: none;\n",
              "    fill: var(--fill-color);\n",
              "    height: 32px;\n",
              "    padding: 0;\n",
              "    width: 32px;\n",
              "  }\n",
              "\n",
              "  .colab-df-quickchart:hover {\n",
              "    background-color: var(--hover-bg-color);\n",
              "    box-shadow: 0 1px 2px rgba(60, 64, 67, 0.3), 0 1px 3px 1px rgba(60, 64, 67, 0.15);\n",
              "    fill: var(--button-hover-fill-color);\n",
              "  }\n",
              "\n",
              "  .colab-df-quickchart-complete:disabled,\n",
              "  .colab-df-quickchart-complete:disabled:hover {\n",
              "    background-color: var(--disabled-bg-color);\n",
              "    fill: var(--disabled-fill-color);\n",
              "    box-shadow: none;\n",
              "  }\n",
              "\n",
              "  .colab-df-spinner {\n",
              "    border: 2px solid var(--fill-color);\n",
              "    border-color: transparent;\n",
              "    border-bottom-color: var(--fill-color);\n",
              "    animation:\n",
              "      spin 1s steps(1) infinite;\n",
              "  }\n",
              "\n",
              "  @keyframes spin {\n",
              "    0% {\n",
              "      border-color: transparent;\n",
              "      border-bottom-color: var(--fill-color);\n",
              "      border-left-color: var(--fill-color);\n",
              "    }\n",
              "    20% {\n",
              "      border-color: transparent;\n",
              "      border-left-color: var(--fill-color);\n",
              "      border-top-color: var(--fill-color);\n",
              "    }\n",
              "    30% {\n",
              "      border-color: transparent;\n",
              "      border-left-color: var(--fill-color);\n",
              "      border-top-color: var(--fill-color);\n",
              "      border-right-color: var(--fill-color);\n",
              "    }\n",
              "    40% {\n",
              "      border-color: transparent;\n",
              "      border-right-color: var(--fill-color);\n",
              "      border-top-color: var(--fill-color);\n",
              "    }\n",
              "    60% {\n",
              "      border-color: transparent;\n",
              "      border-right-color: var(--fill-color);\n",
              "    }\n",
              "    80% {\n",
              "      border-color: transparent;\n",
              "      border-right-color: var(--fill-color);\n",
              "      border-bottom-color: var(--fill-color);\n",
              "    }\n",
              "    90% {\n",
              "      border-color: transparent;\n",
              "      border-bottom-color: var(--fill-color);\n",
              "    }\n",
              "  }\n",
              "</style>\n",
              "\n",
              "  <script>\n",
              "    async function quickchart(key) {\n",
              "      const quickchartButtonEl =\n",
              "        document.querySelector('#' + key + ' button');\n",
              "      quickchartButtonEl.disabled = true;  // To prevent multiple clicks.\n",
              "      quickchartButtonEl.classList.add('colab-df-spinner');\n",
              "      try {\n",
              "        const charts = await google.colab.kernel.invokeFunction(\n",
              "            'suggestCharts', [key], {});\n",
              "      } catch (error) {\n",
              "        console.error('Error during call to suggestCharts:', error);\n",
              "      }\n",
              "      quickchartButtonEl.classList.remove('colab-df-spinner');\n",
              "      quickchartButtonEl.classList.add('colab-df-quickchart-complete');\n",
              "    }\n",
              "    (() => {\n",
              "      let quickchartButtonEl =\n",
              "        document.querySelector('#df-aec912b3-5380-4329-87f1-6461fa7b6d4e button');\n",
              "      quickchartButtonEl.style.display =\n",
              "        google.colab.kernel.accessAllowed ? 'block' : 'none';\n",
              "    })();\n",
              "  </script>\n",
              "</div>\n",
              "\n",
              "  <div id=\"id_d752ac4e-a479-4691-bad1-419475cdf407\">\n",
              "    <style>\n",
              "      .colab-df-generate {\n",
              "        background-color: #E8F0FE;\n",
              "        border: none;\n",
              "        border-radius: 50%;\n",
              "        cursor: pointer;\n",
              "        display: none;\n",
              "        fill: #1967D2;\n",
              "        height: 32px;\n",
              "        padding: 0 0 0 0;\n",
              "        width: 32px;\n",
              "      }\n",
              "\n",
              "      .colab-df-generate:hover {\n",
              "        background-color: #E2EBFA;\n",
              "        box-shadow: 0px 1px 2px rgba(60, 64, 67, 0.3), 0px 1px 3px 1px rgba(60, 64, 67, 0.15);\n",
              "        fill: #174EA6;\n",
              "      }\n",
              "\n",
              "      [theme=dark] .colab-df-generate {\n",
              "        background-color: #3B4455;\n",
              "        fill: #D2E3FC;\n",
              "      }\n",
              "\n",
              "      [theme=dark] .colab-df-generate:hover {\n",
              "        background-color: #434B5C;\n",
              "        box-shadow: 0px 1px 3px 1px rgba(0, 0, 0, 0.15);\n",
              "        filter: drop-shadow(0px 1px 2px rgba(0, 0, 0, 0.3));\n",
              "        fill: #FFFFFF;\n",
              "      }\n",
              "    </style>\n",
              "    <button class=\"colab-df-generate\" onclick=\"generateWithVariable('df_features')\"\n",
              "            title=\"Generate code using this dataframe.\"\n",
              "            style=\"display:none;\">\n",
              "\n",
              "  <svg xmlns=\"http://www.w3.org/2000/svg\" height=\"24px\"viewBox=\"0 0 24 24\"\n",
              "       width=\"24px\">\n",
              "    <path d=\"M7,19H8.4L18.45,9,17,7.55,7,17.6ZM5,21V16.75L18.45,3.32a2,2,0,0,1,2.83,0l1.4,1.43a1.91,1.91,0,0,1,.58,1.4,1.91,1.91,0,0,1-.58,1.4L9.25,21ZM18.45,9,17,7.55Zm-12,3A5.31,5.31,0,0,0,4.9,8.1,5.31,5.31,0,0,0,1,6.5,5.31,5.31,0,0,0,4.9,4.9,5.31,5.31,0,0,0,6.5,1,5.31,5.31,0,0,0,8.1,4.9,5.31,5.31,0,0,0,12,6.5,5.46,5.46,0,0,0,6.5,12Z\"/>\n",
              "  </svg>\n",
              "    </button>\n",
              "    <script>\n",
              "      (() => {\n",
              "      const buttonEl =\n",
              "        document.querySelector('#id_d752ac4e-a479-4691-bad1-419475cdf407 button.colab-df-generate');\n",
              "      buttonEl.style.display =\n",
              "        google.colab.kernel.accessAllowed ? 'block' : 'none';\n",
              "\n",
              "      buttonEl.onclick = () => {\n",
              "        google.colab.notebook.generateWithVariable('df_features');\n",
              "      }\n",
              "      })();\n",
              "    </script>\n",
              "  </div>\n",
              "\n",
              "    </div>\n",
              "  </div>\n"
            ],
            "application/vnd.google.colaboratory.intrinsic+json": {
              "type": "dataframe",
              "variable_name": "df_features",
              "summary": "{\n  \"name\": \"df_features\",\n  \"rows\": 4760,\n  \"fields\": [\n    {\n      \"column\": \"Movie_Genre\",\n      \"properties\": {\n        \"dtype\": \"category\",\n        \"num_unique_values\": 1164,\n        \"samples\": [\n          \"Family Animation Adventure\",\n          \"Adventure Science Fiction Action\",\n          \"Action Crime Drama Romance Thriller\"\n        ],\n        \"semantic_type\": \"\",\n        \"description\": \"\"\n      }\n    },\n    {\n      \"column\": \"Movie_Keywords\",\n      \"properties\": {\n        \"dtype\": \"string\",\n        \"num_unique_values\": 4203,\n        \"samples\": [\n          \"canada nazis sequel spin off ancient evil\",\n          \"sex professor wedding woman director columbia university\",\n          \"prophecy sea beach gold small town\"\n        ],\n        \"semantic_type\": \"\",\n        \"description\": \"\"\n      }\n    },\n    {\n      \"column\": \"Movie_Tagline\",\n      \"properties\": {\n        \"dtype\": \"string\",\n        \"num_unique_values\": 3928,\n        \"samples\": [\n          \"The messenger must be silenced.\",\n          \"It's not the house that's haunted.\",\n          \"The final hunt begins.\"\n        ],\n        \"semantic_type\": \"\",\n        \"description\": \"\"\n      }\n    },\n    {\n      \"column\": \"Movie_Cast\",\n      \"properties\": {\n        \"dtype\": \"string\",\n        \"num_unique_values\": 4715,\n        \"samples\": [\n          \"Robin Tunney Fairuza Balk Neve Campbell Rachel True Skeet Ulrich\",\n          \"Peter Sellers Christopher Plummer Herbert Lom Catherine Schell Peter Arne\",\n          \"John Wayne Laraine Day Cedric Hardwicke Judith Anderson Anthony Quinn\"\n        ],\n        \"semantic_type\": \"\",\n        \"description\": \"\"\n      }\n    },\n    {\n      \"column\": \"Movie_Director\",\n      \"properties\": {\n        \"dtype\": \"category\",\n        \"num_unique_values\": 2332,\n        \"samples\": [\n          \"Rob McKittrick\",\n          \"Terron R. Parsons\",\n          \"Cyrus Nowrasteh\"\n        ],\n        \"semantic_type\": \"\",\n        \"description\": \"\"\n      }\n    }\n  ]\n}"
            }
          },
          "metadata": {},
          "execution_count": 10
        }
      ]
    },
    {
      "cell_type": "code",
      "source": [
        "X=df_features['Movie_Genre']+ ' '+df_features['Movie_Keywords']+' '+df_features['Movie_Tagline']+' '+df_features['Movie_Cast']+' '+df_features['Movie_Director']+' '"
      ],
      "metadata": {
        "id": "WQspwBI674Zd"
      },
      "execution_count": 11,
      "outputs": []
    },
    {
      "cell_type": "code",
      "source": [
        "X.shape"
      ],
      "metadata": {
        "colab": {
          "base_uri": "https://localhost:8080/"
        },
        "id": "XNCbiT8r8TZr",
        "outputId": "c8dc689f-b3ad-41dd-b966-df6558b0f8ee"
      },
      "execution_count": 12,
      "outputs": [
        {
          "output_type": "execute_result",
          "data": {
            "text/plain": [
              "(4760,)"
            ]
          },
          "metadata": {},
          "execution_count": 12
        }
      ]
    },
    {
      "cell_type": "markdown",
      "source": [
        "# **Get Feature  Text Conversion to Tokens**"
      ],
      "metadata": {
        "id": "nvaTeTLX6c2O"
      }
    },
    {
      "cell_type": "code",
      "source": [
        "from sklearn.feature_extraction.text import TfidfVectorizer"
      ],
      "metadata": {
        "id": "Ok5urU2K8X_p"
      },
      "execution_count": 13,
      "outputs": []
    },
    {
      "cell_type": "code",
      "source": [
        "tfidf=TfidfVectorizer()"
      ],
      "metadata": {
        "id": "ogYotvNX8e_M"
      },
      "execution_count": 14,
      "outputs": []
    },
    {
      "cell_type": "code",
      "source": [
        "X=tfidf.fit_transform(X)"
      ],
      "metadata": {
        "id": "4-zU_BJ-8tyY"
      },
      "execution_count": 15,
      "outputs": []
    },
    {
      "cell_type": "code",
      "source": [
        "X.shape"
      ],
      "metadata": {
        "colab": {
          "base_uri": "https://localhost:8080/"
        },
        "id": "aynuP0fQ80NF",
        "outputId": "5f77e7dd-35cb-493a-8461-0bcf2ef01fc7"
      },
      "execution_count": 16,
      "outputs": [
        {
          "output_type": "execute_result",
          "data": {
            "text/plain": [
              "(4760, 17258)"
            ]
          },
          "metadata": {},
          "execution_count": 16
        }
      ]
    },
    {
      "cell_type": "code",
      "source": [
        "print(X)"
      ],
      "metadata": {
        "colab": {
          "base_uri": "https://localhost:8080/"
        },
        "id": "ZHOYfYVh88xo",
        "outputId": "7cc8b511-04be-4a24-8451-53d9dc0da486"
      },
      "execution_count": 17,
      "outputs": [
        {
          "output_type": "stream",
          "name": "stdout",
          "text": [
            "  (0, 617)\t0.1633382144407513\n",
            "  (0, 492)\t0.1432591540388685\n",
            "  (0, 15413)\t0.1465525095337543\n",
            "  (0, 9675)\t0.14226057295252661\n",
            "  (0, 9465)\t0.1659841367820977\n",
            "  (0, 1390)\t0.16898383612799558\n",
            "  (0, 7825)\t0.09799561597509843\n",
            "  (0, 1214)\t0.13865857545144072\n",
            "  (0, 729)\t0.13415063359531618\n",
            "  (0, 13093)\t0.1432591540388685\n",
            "  (0, 15355)\t0.10477815972666779\n",
            "  (0, 9048)\t0.0866842116160778\n",
            "  (0, 11161)\t0.06250380151644369\n",
            "  (0, 16773)\t0.17654247479915475\n",
            "  (0, 5612)\t0.08603537588547631\n",
            "  (0, 16735)\t0.10690083751525419\n",
            "  (0, 7904)\t0.13348000542112332\n",
            "  (0, 15219)\t0.09800472886453934\n",
            "  (0, 11242)\t0.07277788238484746\n",
            "  (0, 3878)\t0.11998399582562203\n",
            "  (0, 5499)\t0.11454057510303811\n",
            "  (0, 7071)\t0.19822417598406614\n",
            "  (0, 7454)\t0.14745635785412262\n",
            "  (0, 1495)\t0.19712637387361423\n",
            "  (0, 9206)\t0.15186283580984414\n",
            "  :\t:\n",
            "  (4757, 5455)\t0.12491480594769522\n",
            "  (4757, 2967)\t0.16273475835631626\n",
            "  (4757, 8464)\t0.23522565554066333\n",
            "  (4757, 6938)\t0.17088173678136628\n",
            "  (4757, 8379)\t0.17480603856721913\n",
            "  (4757, 15303)\t0.07654356007668191\n",
            "  (4757, 15384)\t0.09754322497537371\n",
            "  (4757, 7649)\t0.11479421494340192\n",
            "  (4757, 10896)\t0.14546473055066447\n",
            "  (4757, 4494)\t0.05675298448720501\n",
            "  (4758, 5238)\t1.0\n",
            "  (4759, 11264)\t0.33947721804318337\n",
            "  (4759, 11708)\t0.33947721804318337\n",
            "  (4759, 205)\t0.3237911628497312\n",
            "  (4759, 8902)\t0.3040290704566037\n",
            "  (4759, 14062)\t0.3237911628497312\n",
            "  (4759, 3058)\t0.2812896191863103\n",
            "  (4759, 7130)\t0.26419662449963793\n",
            "  (4759, 10761)\t0.3126617295732147\n",
            "  (4759, 4358)\t0.18306542312175342\n",
            "  (4759, 14051)\t0.20084315377640435\n",
            "  (4759, 5690)\t0.19534291014627303\n",
            "  (4759, 15431)\t0.19628653185946862\n",
            "  (4759, 1490)\t0.21197258705292082\n",
            "  (4759, 10666)\t0.15888268987343043\n"
          ]
        }
      ]
    },
    {
      "cell_type": "markdown",
      "source": [
        "# **Get similarity Score using Cosine Similarity**\n",
        "cosine similarity computes L-2normalized dot product of vectors.Euclidean (L2) normalized projects the vectors onto the unit sphere.and their dot product  is then the cosine of the angle between the points denoted by vectors."
      ],
      "metadata": {
        "id": "A8AiF7G962Wd"
      }
    },
    {
      "cell_type": "code",
      "source": [
        "from sklearn.metrics.pairwise import cosine_similarity"
      ],
      "metadata": {
        "id": "XZ0uRHVm9CpG"
      },
      "execution_count": 18,
      "outputs": []
    },
    {
      "cell_type": "code",
      "source": [
        "Similarity_Score=cosine_similarity(X)"
      ],
      "metadata": {
        "id": "8teIBTsx9Kvd"
      },
      "execution_count": 19,
      "outputs": []
    },
    {
      "cell_type": "code",
      "source": [
        "Similarity_Score"
      ],
      "metadata": {
        "colab": {
          "base_uri": "https://localhost:8080/"
        },
        "id": "MC_MiCuo-BTq",
        "outputId": "baab76c3-cacc-4f00-bdef-e4ba29a8887b"
      },
      "execution_count": 20,
      "outputs": [
        {
          "output_type": "execute_result",
          "data": {
            "text/plain": [
              "array([[1.        , 0.01351235, 0.03570468, ..., 0.        , 0.        ,\n",
              "        0.        ],\n",
              "       [0.01351235, 1.        , 0.00806674, ..., 0.        , 0.        ,\n",
              "        0.        ],\n",
              "       [0.03570468, 0.00806674, 1.        , ..., 0.        , 0.08014876,\n",
              "        0.        ],\n",
              "       ...,\n",
              "       [0.        , 0.        , 0.        , ..., 1.        , 0.        ,\n",
              "        0.        ],\n",
              "       [0.        , 0.        , 0.08014876, ..., 0.        , 1.        ,\n",
              "        0.        ],\n",
              "       [0.        , 0.        , 0.        , ..., 0.        , 0.        ,\n",
              "        1.        ]])"
            ]
          },
          "metadata": {},
          "execution_count": 20
        }
      ]
    },
    {
      "cell_type": "code",
      "source": [
        "Similarity_Score.shape"
      ],
      "metadata": {
        "colab": {
          "base_uri": "https://localhost:8080/"
        },
        "id": "9hQbATs0-GyB",
        "outputId": "a0dac48f-bd40-4c31-9a33-e78ea4710618"
      },
      "execution_count": 21,
      "outputs": [
        {
          "output_type": "execute_result",
          "data": {
            "text/plain": [
              "(4760, 4760)"
            ]
          },
          "metadata": {},
          "execution_count": 21
        }
      ]
    },
    {
      "cell_type": "markdown",
      "source": [
        "# **Get  Movie Name from User and validate for closet spelling**"
      ],
      "metadata": {
        "id": "Q-cIdzu873pO"
      }
    },
    {
      "cell_type": "code",
      "source": [
        "Favourie_Movie_Name = input('Enter your favourite movie:')\n"
      ],
      "metadata": {
        "colab": {
          "base_uri": "https://localhost:8080/"
        },
        "id": "P4Y3fLdk-QNI",
        "outputId": "a8baa9b0-9fa3-4f48-cdc0-f6f21370a223"
      },
      "execution_count": 22,
      "outputs": [
        {
          "name": "stdout",
          "output_type": "stream",
          "text": [
            "Enter your favourite movie:athadu\n"
          ]
        }
      ]
    },
    {
      "cell_type": "code",
      "source": [
        "All_Movies_Title_List=df['Movie_Title'].tolist()"
      ],
      "metadata": {
        "id": "LrfpmwdI-oHK"
      },
      "execution_count": 23,
      "outputs": []
    },
    {
      "cell_type": "code",
      "source": [
        "import difflib"
      ],
      "metadata": {
        "id": "1m_GsQVU_AJI"
      },
      "execution_count": 24,
      "outputs": []
    },
    {
      "cell_type": "code",
      "source": [
        "Movie_Recommendation=difflib.get_close_matches(Favourie_Movie_Name,All_Movies_Title_List)\n",
        "print(Movie_Recommendation)"
      ],
      "metadata": {
        "colab": {
          "base_uri": "https://localhost:8080/"
        },
        "id": "uLsr8mfz_FeC",
        "outputId": "00bce7fb-85ad-412a-e160-f6aedeed362a"
      },
      "execution_count": 25,
      "outputs": [
        {
          "output_type": "stream",
          "name": "stdout",
          "text": [
            "['Jarhead', 'Baghead']\n"
          ]
        }
      ]
    },
    {
      "cell_type": "code",
      "source": [
        "Close_Match=Movie_Recommendation[0]\n",
        "print(Close_Match)"
      ],
      "metadata": {
        "colab": {
          "base_uri": "https://localhost:8080/"
        },
        "id": "kmy8Zk65_NY8",
        "outputId": "ba5a7571-1c2a-433a-a7c3-e48db08b7bb0"
      },
      "execution_count": 26,
      "outputs": [
        {
          "output_type": "stream",
          "name": "stdout",
          "text": [
            "Jarhead\n"
          ]
        }
      ]
    },
    {
      "cell_type": "code",
      "source": [
        "Index_of_Close_Match_Movie=df[df.Movie_Title==Close_Match]['Movie_ID'].values[0]\n",
        "print(Index_of_Close_Match_Movie)"
      ],
      "metadata": {
        "colab": {
          "base_uri": "https://localhost:8080/"
        },
        "id": "6CrfCcxx_V_R",
        "outputId": "94d8e5f6-f7bc-4f5c-c77a-9defdd507b86"
      },
      "execution_count": 27,
      "outputs": [
        {
          "output_type": "stream",
          "name": "stdout",
          "text": [
            "12\n"
          ]
        }
      ]
    },
    {
      "cell_type": "code",
      "source": [
        "Recommendation_Score=list(enumerate(Similarity_Score[Index_of_Close_Match_Movie]))\n",
        "print(Recommendation_Score)"
      ],
      "metadata": {
        "colab": {
          "base_uri": "https://localhost:8080/"
        },
        "id": "vBfCyOMl_a9s",
        "outputId": "9c68a879-332f-4112-ca6a-bc96ce6da109"
      },
      "execution_count": 28,
      "outputs": [
        {
          "output_type": "stream",
          "name": "stdout",
          "text": [
            "[(0, 0.00713630406974853), (1, 0.02761127168417841), (2, 0.0042603051915136225), (3, 0.12113761972627259), (4, 0.026752023538746995), (5, 0.0031281756116451507), (6, 0.010777473083004111), (7, 0.012940759564003207), (8, 0.0033871707494619635), (9, 0.004594743340940757), (10, 0.0052912125590450915), (11, 0.06369899650805284), (12, 1.0000000000000004), (13, 0.0), (14, 0.0045433665812068405), (15, 0.012116041462444549), (16, 0.0025995607491428093), (17, 0.010640616060690902), (18, 0.0077516642350473315), (19, 0.0030091881966334594), (20, 0.01373961461475804), (21, 0.003335302318991981), (22, 0.013856887106378266), (23, 0.028231670322143444), (24, 0.028206339828311028), (25, 0.023259076964837564), (26, 0.040227867473162135), (27, 0.0), (28, 0.00504112663038358), (29, 0.00769830131245329), (30, 0.0), (31, 0.03200586043802464), (32, 0.00273508469757173), (33, 0.00714420743471645), (34, 0.003245426053331772), (35, 0.04226843963291241), (36, 0.028249319398135953), (37, 0.07079490708952084), (38, 0.04074592864750177), (39, 0.009970997897445981), (40, 0.0), (41, 0.0034704596087059983), (42, 0.0), (43, 0.07758568608701158), (44, 0.002596256673736641), (45, 0.01795723115084391), (46, 0.0), (47, 0.0), (48, 0.03532160991496436), (49, 0.0), (50, 0.04619838477580379), (51, 0.0032814444112732413), (52, 0.03609138047583116), (53, 0.009491944367428111), (54, 0.0), (55, 0.010466627243461396), (56, 0.020309035411684905), (57, 0.012284635653788971), (58, 0.004163191025917083), (59, 0.0), (60, 0.00691528629872029), (61, 0.0030792285993788307), (62, 0.014502675131805169), (63, 0.002482225154767513), (64, 0.012548065808263955), (65, 0.028696362795461144), (66, 0.048174049193627076), (67, 0.04796064712065593), (68, 0.003307749027383721), (69, 0.0), (70, 0.0), (71, 0.003195204493550827), (72, 0.01453005133200358), (73, 0.012082186971333363), (74, 0.013878229749959196), (75, 0.016681072762512753), (76, 0.012725960192692851), (77, 0.0), (78, 0.0041736053140637355), (79, 0.021970982296093552), (80, 0.00454938836373475), (81, 0.0), (82, 0.009902379015732952), (83, 0.005031422164856527), (84, 0.01466923917967405), (85, 0.04264499382133801), (86, 0.016272043311459178), (87, 0.003010818434204973), (88, 0.015605734813605117), (89, 0.027029580743348228), (90, 0.0), (91, 0.03598420796984925), (92, 0.016470340263459123), (93, 0.009594109978147624), (94, 0.004559586983703623), (95, 0.0), (96, 0.039530912714389736), (97, 0.02078133055400464), (98, 0.01671930487692676), (99, 0.0), (100, 0.0), (101, 0.045285759028946486), (102, 0.016368084539632843), (103, 0.0027014112278552394), (104, 0.029997891229384004), (105, 0.008017450440994636), (106, 0.0965561329518462), (107, 0.014898178525239955), (108, 0.04847154267342692), (109, 0.27039884280217236), (110, 0.005074467856750098), (111, 0.17172562311982126), (112, 0.1642250572370629), (113, 0.0025647574710902918), (114, 0.003121862066742827), (115, 0.03479818140948222), (116, 0.0029436260490727927), (117, 0.0), (118, 0.01027801778998817), (119, 0.012802383485778812), (120, 0.003216601979174001), (121, 0.0028665285268448157), (122, 0.00914754020729721), (123, 0.00884453307903598), (124, 0.011915332754306854), (125, 0.04061147308594843), (126, 0.0029426994755465167), (127, 0.012790244332192299), (128, 0.015482025798426818), (129, 0.002177923876158063), (130, 0.04801596871794352), (131, 0.005030360326520627), (132, 0.002765121022321432), (133, 0.0), (134, 0.0), (135, 0.009921697972994357), (136, 0.021970036790986767), (137, 0.005111859444452657), (138, 0.014385370356178763), (139, 0.0), (140, 0.0029215598347171134), (141, 0.0), (142, 0.014126814039528836), (143, 0.0), (144, 0.0), (145, 0.021073827581850297), (146, 0.0), (147, 0.0026983500164547126), (148, 0.02422094989104931), (149, 0.01545497628760497), (150, 0.02662680411722456), (151, 0.0), (152, 0.047513554020240885), (153, 0.00583558726558707), (154, 0.002927580278965006), (155, 0.0), (156, 0.006567105729464045), (157, 0.01626170436382684), (158, 0.002797665522178506), (159, 0.010212906572585405), (160, 0.0), (161, 0.0028034281421529155), (162, 0.016360127822743032), (163, 0.0), (164, 0.002967754728832892), (165, 0.042633417270775985), (166, 0.007139439011287567), (167, 0.04233747199093764), (168, 0.024032607978831652), (169, 0.017784075397436105), (170, 0.018073304660992093), (171, 0.004713064682811977), (172, 0.003128785285818312), (173, 0.0032687635540384428), (174, 0.0030806881625553657), (175, 0.006826177550810543), (176, 0.003204794528447536), (177, 0.008465350739224987), (178, 0.03609494580569166), (179, 0.004772480800167162), (180, 0.0), (181, 0.0), (182, 0.013153188070041733), (183, 0.03146809325703608), (184, 0.03458682196832946), (185, 0.0), (186, 0.01719502765961794), (187, 0.0), (188, 0.013864589836838016), (189, 0.00514158565115877), (190, 0.002661545437365883), (191, 0.03763654714157948), (192, 0.008743422825469306), (193, 0.013888386458921674), (194, 0.0025023656533130945), (195, 0.006794875648198539), (196, 0.002619687322732167), (197, 0.0029448929695835907), (198, 0.04897380880817199), (199, 0.002843856890281509), (200, 0.002755875689604676), (201, 0.005180264038130034), (202, 0.008562482770260508), (203, 0.002951084944742967), (204, 0.040319417749390817), (205, 0.0), (206, 0.003308470937686219), (207, 0.0), (208, 0.003311216077220005), (209, 0.008157245550242987), (210, 0.0033613862439401234), (211, 0.00844981705891535), (212, 0.021505161785156435), (213, 0.0029028253521907028), (214, 0.013431655777864442), (215, 0.02825084276642359), (216, 0.0442809696935215), (217, 0.0), (218, 0.002847407588096433), (219, 0.010191777556899635), (220, 0.07417583575148032), (221, 0.01240691264106274), (222, 0.03405027040604287), (223, 0.01442696009850376), (224, 0.0023862637261604287), (225, 0.017230421930847364), (226, 0.013134024371508212), (227, 0.05692610319981062), (228, 0.017469169000525107), (229, 0.00290772565917331), (230, 0.021654190947913366), (231, 0.02331689653846588), (232, 0.02928642076563688), (233, 0.0), (234, 0.012894284802672908), (235, 0.003520317193358156), (236, 0.0029296277406795157), (237, 0.03338937044690584), (238, 0.003181053348964598), (239, 0.02006925361301633), (240, 0.004595724214401563), (241, 0.021672313668011606), (242, 0.011373047926168486), (243, 0.009186988315260512), (244, 0.0), (245, 0.0), (246, 0.034744937322488845), (247, 0.0030838082119005582), (248, 0.0), (249, 0.04215279858043014), (250, 0.0055559275134531485), (251, 0.2558709081964983), (252, 0.002762667344344571), (253, 0.0143616820619835), (254, 0.018819696408999834), (255, 0.0032660012569866908), (256, 0.0023300836204128406), (257, 0.0384216515257894), (258, 0.0), (259, 0.009873379423366713), (260, 0.004709371178122053), (261, 0.04144836968709261), (262, 0.017937374909651135), (263, 0.014095860787595286), (264, 0.0049719529593271975), (265, 0.0), (266, 0.038284541990679155), (267, 0.015860281730659988), (268, 0.0027817484600845006), (269, 0.04222327574966957), (270, 0.003261862148245638), (271, 0.0023902574113274133), (272, 0.014977570021272672), (273, 0.0), (274, 0.01960507096832589), (275, 0.0), (276, 0.0029407717827656444), (277, 0.008728856110682094), (278, 0.0026861908936705093), (279, 0.036507243005168354), (280, 0.06406264466652742), (281, 0.05448988935178306), (282, 0.047054725867984204), (283, 0.04787617664098201), (284, 0.004735132841356097), (285, 0.016950171213243825), (286, 0.02944381173368432), (287, 0.11103078888892327), (288, 0.020284866284282305), (289, 0.01659149474624599), (290, 0.0), (291, 0.013656258035960794), (292, 0.007843236165807777), (293, 0.005747952450711762), (294, 0.01192903711356971), (295, 0.008168939254403441), (296, 0.002337545749563127), (297, 0.010505699684030603), (298, 0.01565039008647734), (299, 0.026686497877965183), (300, 0.0), (301, 0.005252156783741379), (302, 0.028351062521925777), (303, 0.040499823108702926), (304, 0.0), (305, 0.004960300562212926), (306, 0.01837845489419708), (307, 0.016015874094620047), (308, 0.01909335134212235), (309, 0.010378920645641145), (310, 0.009540790809710929), (311, 0.0), (312, 0.014052254887991148), (313, 0.03780826506863897), (314, 0.0), (315, 0.0), (316, 0.0), (317, 0.0905693534152036), (318, 0.0034084306681940618), (319, 0.008136519950589482), (320, 0.0), (321, 0.0), (322, 0.023606146658938378), (323, 0.018491382639488997), (324, 0.007450903211080308), (325, 0.0029472529211729192), (326, 0.031050517384828953), (327, 0.03141127725473528), (328, 0.024792002354167494), (329, 0.012742770667316904), (330, 0.009016423630742627), (331, 0.0), (332, 0.0), (333, 0.0), (334, 0.021571125368206538), (335, 0.004590167143596016), (336, 0.02988723299968647), (337, 0.024687957214694523), (338, 0.029346568775067604), (339, 0.02151773877972121), (340, 0.0), (341, 0.010692227023183308), (342, 0.04652864794462086), (343, 0.03957501698197659), (344, 0.005222041496766205), (345, 0.004812143976050788), (346, 0.00803280311231185), (347, 0.015032778582534868), (348, 0.023441778497374215), (349, 0.0030249343924968228), (350, 0.0033954182656367065), (351, 0.0023795249514360806), (352, 0.004512699964948512), (353, 0.14944504251289242), (354, 0.013710517641035811), (355, 0.0028759185995099875), (356, 0.017265695858388698), (357, 0.03817832493003275), (358, 0.003033346003222459), (359, 0.00286222849350997), (360, 0.0), (361, 0.005270555810781333), (362, 0.0), (363, 0.0), (364, 0.0026832022115260306), (365, 0.0), (366, 0.01138094883391707), (367, 0.0), (368, 0.02271139366500817), (369, 0.0037999291201321196), (370, 0.017046928512712025), (371, 0.07753485078511826), (372, 0.026690475858865068), (373, 0.002955844821256516), (374, 0.07839865183050371), (375, 0.0), (376, 0.0), (377, 0.024512954676869696), (378, 0.0031322533102050463), (379, 0.0), (380, 0.005703951484318637), (381, 0.004055285408633794), (382, 0.0), (383, 0.0), (384, 0.033101027439865524), (385, 0.0), (386, 0.03248083513276611), (387, 0.09061835549730557), (388, 0.007631467245181815), (389, 0.0354721228087665), (390, 0.0), (391, 0.0), (392, 0.005274140968811832), (393, 0.0), (394, 0.0), (395, 0.0033462586639330214), (396, 0.023874797676523493), (397, 0.0), (398, 0.0), (399, 0.002889983425868489), (400, 0.016917816975778145), (401, 0.0), (402, 0.0038021222986815524), (403, 0.03749934037768909), (404, 0.0), (405, 0.0), (406, 0.0453052820685936), (407, 0.039482368974143846), (408, 0.007643059622956298), (409, 0.004571197586487243), (410, 0.0075208945208078675), (411, 0.004557323555430794), (412, 0.010660803317111021), (413, 0.023743823250339344), (414, 0.0), (415, 0.02948091101840257), (416, 0.03599253337517734), (417, 0.013916381809715366), (418, 0.010503743343222125), (419, 0.0386443893566876), (420, 0.005339005605381018), (421, 0.011586937282729425), (422, 0.0), (423, 0.0), (424, 0.005637563569148996), (425, 0.005632672355737967), (426, 0.004644069284233836), (427, 0.004762456016793774), (428, 0.04608448603569268), (429, 0.0032686866597167736), (430, 0.04425210743604053), (431, 0.0036781903260160163), (432, 0.01452564640916051), (433, 0.0025512376947300665), (434, 0.002950632432662772), (435, 0.0), (436, 0.03031075673049847), (437, 0.002959403523603681), (438, 0.0), (439, 0.014893877571494839), (440, 0.03698156805599498), (441, 0.036560259920920574), (442, 0.006703046547358042), (443, 0.0036074237254502275), (444, 0.0034751296530818004), (445, 0.0026699917419772874), (446, 0.03764803538421749), (447, 0.0032385700878331614), (448, 0.009330948328704411), (449, 0.040160702318024974), (450, 0.0034223279470085334), (451, 0.032391919287561355), (452, 0.03706146001237576), (453, 0.036909113030888216), (454, 0.004608084287286754), (455, 0.023537274490428195), (456, 0.003304426887905857), (457, 0.015671227972637414), (458, 0.0034800817697180305), (459, 0.0), (460, 0.009884081014851089), (461, 0.0), (462, 0.0), (463, 0.012173902400029876), (464, 0.0030828756988961438), (465, 0.0028474058774587267), (466, 0.0030834831563307285), (467, 0.08290499675382135), (468, 0.0729650626445994), (469, 0.03905010258698999), (470, 0.0032894494976785323), (471, 0.002912598323879137), (472, 0.018634976410543402), (473, 0.0028216903751862492), (474, 0.0), (475, 0.001090333613154162), (476, 0.0034236324222453748), (477, 0.01591134135458638), (478, 0.0035297928540330846), (479, 0.003115212904846066), (480, 0.016422784406920778), (481, 0.08693279512222804), (482, 0.0032554122786713404), (483, 0.008535376607213093), (484, 0.025223220110316216), (485, 0.026624712796056937), (486, 0.004768110459334482), (487, 0.0029856515245692177), (488, 0.01810256344214575), (489, 0.0037309799531230997), (490, 0.047796656627861644), (491, 0.005804540715390548), (492, 0.004635631069354096), (493, 0.013946842881108232), (494, 0.0), (495, 0.0071500051985783145), (496, 0.028695234007813424), (497, 0.00441840675181707), (498, 0.004733478117001255), (499, 0.0033941919984384946), (500, 0.03849777896647007), (501, 0.0), (502, 0.003265136673823127), (503, 0.0), (504, 0.0081328697891952), (505, 0.0029628906374611205), (506, 0.0), (507, 0.007590663829555821), (508, 0.009295236710275889), (509, 0.003198489220345908), (510, 0.00646186476156559), (511, 0.01723189985481589), (512, 0.017806996914016774), (513, 0.0), (514, 0.0), (515, 0.00281133319695816), (516, 0.0), (517, 0.0), (518, 0.04425165945617287), (519, 0.002753819785054523), (520, 0.0), (521, 0.004780419561489902), (522, 0.003027512093132222), (523, 0.020968469982683556), (524, 0.011970945291438698), (525, 0.004938536657043149), (526, 0.003921959690603893), (527, 0.014816378401615725), (528, 0.0), (529, 0.019037753919474102), (530, 0.05372247344249988), (531, 0.0), (532, 0.01295901524430707), (533, 0.0035079736037225725), (534, 0.016863942714441336), (535, 0.0), (536, 0.0), (537, 0.0), (538, 0.008191395450207625), (539, 0.0), (540, 0.009164954713334818), (541, 0.0030167579033080305), (542, 0.0021871137487955586), (543, 0.0032483713725893464), (544, 0.0031650271204513862), (545, 0.013161191854095377), (546, 0.0), (547, 0.00681570864153558), (548, 0.03343455959806742), (549, 0.0046066574401199606), (550, 0.04178755208947842), (551, 0.008395599889341545), (552, 0.04533520018904991), (553, 0.014185485508173005), (554, 0.0), (555, 0.01633546126044572), (556, 0.0), (557, 0.0), (558, 0.0028759896824032904), (559, 0.0), (560, 0.004980135074684705), (561, 0.01830649133374302), (562, 0.013732280962636411), (563, 0.00281237381185862), (564, 0.0032675080408977797), (565, 0.0), (566, 0.02682153533844156), (567, 0.01360903537866832), (568, 0.018500407537554785), (569, 0.018276955544842204), (570, 0.04222256665731419), (571, 0.026455117208688813), (572, 0.015988847031859307), (573, 0.027402586744165524), (574, 0.0), (575, 0.004165283029516306), (576, 0.003515884340503623), (577, 0.013418206261354787), (578, 0.0029435984529171478), (579, 0.0031616251428604916), (580, 0.0032591201516582757), (581, 0.002810624431165357), (582, 0.0), (583, 0.004501152778015054), (584, 0.019365307427827223), (585, 0.004776387364282879), (586, 0.0), (587, 0.026165003379438966), (588, 0.018809175652375974), (589, 0.04159204307419351), (590, 0.007450742496053785), (591, 0.01712805628811333), (592, 0.0), (593, 0.0031811743396897136), (594, 0.011663539431842968), (595, 0.10989125671281569), (596, 0.003494570603778995), (597, 0.03477609034737211), (598, 0.044972567529079154), (599, 0.03774508761096585), (600, 0.03775224261287021), (601, 0.0), (602, 0.0), (603, 0.01593523773962837), (604, 0.01721244784127791), (605, 0.0027443724842558157), (606, 0.0032206449478118814), (607, 0.02985883854646794), (608, 0.022520915826171387), (609, 0.10176577049833248), (610, 0.004936589703116687), (611, 0.005010956020658708), (612, 0.0033114137770183395), (613, 0.10377226288757163), (614, 0.034787418515711946), (615, 0.005143284868546565), (616, 0.002599112915858481), (617, 0.0026332533315478832), (618, 0.01462621368929497), (619, 0.0), (620, 0.016399540352889312), (621, 0.0), (622, 0.01814319964143975), (623, 0.07170353567749449), (624, 0.0028527722337505263), (625, 0.0), (626, 0.0026431229039333933), (627, 0.004223243674077329), (628, 0.003144540649846452), (629, 0.0), (630, 0.0), (631, 0.02434811600215037), (632, 0.0), (633, 0.03574020565798233), (634, 0.0), (635, 0.010841614407322134), (636, 0.0031498364913841947), (637, 0.0032297532878942463), (638, 0.0028745660070818636), (639, 0.004192636196411368), (640, 0.008313143348581829), (641, 0.05104085017876834), (642, 0.0026939892549073547), (643, 0.05670923040165919), (644, 0.007679468222233777), (645, 0.0025473322183197705), (646, 0.017997777136776857), (647, 0.0027365223287239004), (648, 0.009361390271333326), (649, 0.0), (650, 0.0), (651, 0.018068873392624377), (652, 0.00319015154397205), (653, 0.03795847835592776), (654, 0.01579059683287957), (655, 0.002912513064373013), (656, 0.0), (657, 0.015997027849560374), (658, 0.05121740909701035), (659, 0.012235910620074595), (660, 0.03641563511779625), (661, 0.004657730188557653), (662, 0.043775249240621886), (663, 0.0), (664, 0.004450686997263392), (665, 0.0), (666, 0.005587157980749865), (667, 0.0), (668, 0.003928096618591723), (669, 0.007438203856578265), (670, 0.02104248987939023), (671, 0.0), (672, 0.0027811225739602283), (673, 0.0034035312971316674), (674, 0.0), (675, 0.01973973229546295), (676, 0.032157234953646016), (677, 0.06071716229816479), (678, 0.034604771423815114), (679, 0.016083612418831394), (680, 0.019250044775652717), (681, 0.005621263736818787), (682, 0.0), (683, 0.03618958636958527), (684, 0.09932738284053746), (685, 0.030780845586853817), (686, 0.0), (687, 0.04072590322288626), (688, 0.0034550198068866067), (689, 0.0180016651083807), (690, 0.004619578767403122), (691, 0.010546584815387658), (692, 0.008582654438013529), (693, 0.0030355981479883924), (694, 0.00293292264908223), (695, 0.0), (696, 0.018838163940029233), (697, 0.003131933653928668), (698, 0.002950865496736274), (699, 0.028926330839906096), (700, 0.04459497614832365), (701, 0.009023997059083862), (702, 0.02080354502012207), (703, 0.015166956050283207), (704, 0.005368675597798594), (705, 0.002761160414622974), (706, 0.014308103459409346), (707, 0.0026233079690847682), (708, 0.0), (709, 0.0), (710, 0.009305748737994071), (711, 0.0), (712, 0.002755523732607809), (713, 0.009536669261370596), (714, 0.014120770326342286), (715, 0.0034416760995542267), (716, 0.003270588995896998), (717, 0.008430277802878408), (718, 0.021463245169798754), (719, 0.02700222051768487), (720, 0.0), (721, 0.0035735924003440327), (722, 0.007263816627331173), (723, 0.012609620319361917), (724, 0.0), (725, 0.016095540271515517), (726, 0.008303217604545807), (727, 0.012820525928655315), (728, 0.0033639336691455722), (729, 0.0034779202735462883), (730, 0.0), (731, 0.03700639591100043), (732, 0.031120865791935456), (733, 0.019957384103746468), (734, 0.06133905017522439), (735, 0.0324867639729385), (736, 0.004998411009138102), (737, 0.024858443021003283), (738, 0.008180518601957877), (739, 0.0035589421153628524), (740, 0.008812047307216133), (741, 0.013251434687977024), (742, 0.007598954218600877), (743, 0.0032049505365601655), (744, 0.048969752825583496), (745, 0.0), (746, 0.0), (747, 0.005535611041928955), (748, 0.01589780243319786), (749, 0.013056978557134998), (750, 0.0031774541652499376), (751, 0.02683205354548385), (752, 0.0), (753, 0.016177472990069), (754, 0.0), (755, 0.003031029871315754), (756, 0.004359941782425362), (757, 0.014389517422437624), (758, 0.02189421467393676), (759, 0.011959779588812855), (760, 0.0), (761, 0.0031193589014982693), (762, 0.008607321880844438), (763, 0.009374799654315497), (764, 0.0), (765, 0.005247443497269021), (766, 0.0028858355636506103), (767, 0.1033595376333984), (768, 0.010130316101793211), (769, 0.04398273243306931), (770, 0.009252012057784685), (771, 0.0), (772, 0.0), (773, 0.004803147555185809), (774, 0.013610639884225133), (775, 0.02421788186483656), (776, 0.004531708712466089), (777, 0.0037485641613936734), (778, 0.005109709137141442), (779, 0.012806782811080646), (780, 0.028508581538733854), (781, 0.0052289229832158295), (782, 0.042485845930233045), (783, 0.036144904661490604), (784, 0.0), (785, 0.009936122735774227), (786, 0.0), (787, 0.007981775673255002), (788, 0.010286106279473569), (789, 0.02554666066195003), (790, 0.004812353163276644), (791, 0.014111452001638249), (792, 0.04717927330156113), (793, 0.0), (794, 0.003370585368978844), (795, 0.0), (796, 0.0155379840473106), (797, 0.014564749351532201), (798, 0.01245279571887434), (799, 0.0030404477225415257), (800, 0.03084078374578672), (801, 0.0), (802, 0.026230513028337725), (803, 0.032730862618943354), (804, 0.03086100345661733), (805, 0.05047439267044448), (806, 0.0032186259033837477), (807, 0.020355301688337785), (808, 0.002749562760252109), (809, 0.010283699407016952), (810, 0.00463886154921051), (811, 0.010155424254112966), (812, 0.021024631514117816), (813, 0.014656033855405322), (814, 0.0), (815, 0.030654185916859956), (816, 0.002538502172154928), (817, 0.0030182095802991993), (818, 0.02187255763098246), (819, 0.0), (820, 0.013234222364643234), (821, 0.004547239886323903), (822, 0.0), (823, 0.021572410743705007), (824, 0.009147358968236314), (825, 0.0), (826, 0.0033262749758712234), (827, 0.0), (828, 0.017679519244989145), (829, 0.027852537795451236), (830, 0.026652565349954915), (831, 0.00220180772075528), (832, 0.00821969323524213), (833, 0.0), (834, 0.0), (835, 0.0), (836, 0.0), (837, 0.0347065678736054), (838, 0.002900135742974422), (839, 0.040079475907008125), (840, 0.014421150922430213), (841, 0.049950944189481164), (842, 0.0), (843, 0.015391023515866348), (844, 0.006723426687930117), (845, 0.00326519540933624), (846, 0.04679306762112412), (847, 0.009270202847243192), (848, 0.013247508720558094), (849, 0.0), (850, 0.008229817903409428), (851, 0.0027322657090211484), (852, 0.04707059717256956), (853, 0.04221038034066281), (854, 0.028935695946106003), (855, 0.0), (856, 0.04161984995912964), (857, 0.003444138708301193), (858, 0.002105871146308784), (859, 0.03000505677411453), (860, 0.003613674711893562), (861, 0.002685759651033975), (862, 0.017377569504987464), (863, 0.0028509300570665557), (864, 0.00816863164522756), (865, 0.0032024776312697878), (866, 0.0075152440162308785), (867, 0.003073812649338641), (868, 0.02667691335322317), (869, 0.0), (870, 0.007904699366033387), (871, 0.03473710548623358), (872, 0.0033389572573153253), (873, 0.0), (874, 0.011253256763703397), (875, 0.017117970966524544), (876, 0.003559949778673304), (877, 0.0), (878, 0.03182773891966602), (879, 0.02645201941766423), (880, 0.0030741090602056163), (881, 0.015666756424550368), (882, 0.0044012548582720214), (883, 0.05214052683931482), (884, 0.013666597904946528), (885, 0.007250983448888715), (886, 0.0029239842270747285), (887, 0.03552444635621202), (888, 0.014558457186575577), (889, 0.004013916486818796), (890, 0.0084310981673625), (891, 0.015781632117576803), (892, 0.0), (893, 0.02161672326707969), (894, 0.008008074444779283), (895, 0.016783141308098853), (896, 0.003407165738034482), (897, 0.01823860524786219), (898, 0.017969204672717922), (899, 0.007451965316114591), (900, 0.002916119940595416), (901, 0.0025833052154410653), (902, 0.01599901153446414), (903, 0.0029235531281772142), (904, 0.01763613095894404), (905, 0.0), (906, 0.0), (907, 0.00743415032073119), (908, 0.019329310571387964), (909, 0.03606339422359205), (910, 0.01563003211764317), (911, 0.04191441155961814), (912, 0.0), (913, 0.021810435456295938), (914, 0.0), (915, 0.034523759854615456), (916, 0.04643588370619586), (917, 0.0027917003259571535), (918, 0.019580619996394672), (919, 0.005045713084081648), (920, 0.0), (921, 0.002902705462477812), (922, 0.028446192710515183), (923, 0.03357241188798431), (924, 0.007041555374389208), (925, 0.003586207298894153), (926, 0.0), (927, 0.015298587486079183), (928, 0.026753867272650805), (929, 0.00941318462968873), (930, 0.0138505099385464), (931, 0.004961691383731603), (932, 0.0), (933, 0.0031852549777600945), (934, 0.05453588599212132), (935, 0.016755531830292415), (936, 0.016839595140747884), (937, 0.0036438858927899916), (938, 0.015017565544190335), (939, 0.03659692998861993), (940, 0.00218277987289421), (941, 0.002921155800757914), (942, 0.0025355577835097457), (943, 0.0), (944, 0.0029058128191405738), (945, 0.005027491679753262), (946, 0.05238201555069489), (947, 0.0042071735343642315), (948, 0.006251690809975308), (949, 0.09891695124124568), (950, 0.1371035139824308), (951, 0.0026329343399394594), (952, 0.003371489859379843), (953, 0.002511196912416476), (954, 0.0), (955, 0.02561616969057845), (956, 0.017087953274118866), (957, 0.01652830980342543), (958, 0.0), (959, 0.003029395707865851), (960, 0.014811168904916433), (961, 0.0), (962, 0.012373399700985329), (963, 0.06015391635732273), (964, 0.0), (965, 0.0), (966, 0.00763273935199186), (967, 0.02799286227845659), (968, 0.002825256923738728), (969, 0.025358429293402353), (970, 0.004194971562379042), (971, 0.005110638285880052), (972, 0.0), (973, 0.012856198256641816), (974, 0.004647984299987035), (975, 0.002919764511984923), (976, 0.0), (977, 0.010926292101847928), (978, 0.004592492435439526), (979, 0.0), (980, 0.01357621562260342), (981, 0.0809718628879715), (982, 0.0109236726618011), (983, 0.0), (984, 0.012494873849528182), (985, 0.0035677855502437177), (986, 0.0031165149209547885), (987, 0.019411949230205894), (988, 0.033470310424768085), (989, 0.0030676685151857738), (990, 0.0), (991, 0.0033479054744869775), (992, 0.0), (993, 0.022201799022101894), (994, 0.023528787426514215), (995, 0.014592037905343101), (996, 0.0), (997, 0.009008887373210255), (998, 0.0035356804012858936), (999, 0.0035327866933007606), (1000, 0.007271083331053422), (1001, 0.012436827751831093), (1002, 0.012433158345556103), (1003, 0.0), (1004, 0.0027955233063099495), (1005, 0.02189527089434044), (1006, 0.008445731663339352), (1007, 0.0032834213654885894), (1008, 0.01861647068343629), (1009, 0.050164962516352225), (1010, 0.016003042067207734), (1011, 0.005607339032583743), (1012, 0.015450495734251658), (1013, 0.04533792656444591), (1014, 0.0), (1015, 0.0033714393946497113), (1016, 0.01856861996625806), (1017, 0.01276776207775025), (1018, 0.004329716347300743), (1019, 0.020719390141002672), (1020, 0.0029922340351885932), (1021, 0.0031066799787646884), (1022, 0.014913525306069013), (1023, 0.003505852965866455), (1024, 0.0), (1025, 0.0044245748281116935), (1026, 0.0030604920964674037), (1027, 0.0029823888934372633), (1028, 0.0), (1029, 0.009397030869737998), (1030, 0.012715360343879952), (1031, 0.01592925077312187), (1032, 0.0029458178062044117), (1033, 0.012507930316609595), (1034, 0.0029868283515747866), (1035, 0.007853420239259758), (1036, 0.0029415814840399097), (1037, 0.015224351092798554), (1038, 0.0), (1039, 0.027821205720628656), (1040, 0.0024359914449111814), (1041, 0.02165153258319521), (1042, 0.023996836719489753), (1043, 0.008834158419899584), (1044, 0.04294241466516264), (1045, 0.0), (1046, 0.021775366886438892), (1047, 0.015609571467055713), (1048, 0.029882422341163815), (1049, 0.003698294091667794), (1050, 0.011190735252775388), (1051, 0.0), (1052, 0.02192297334500572), (1053, 0.003668427650811972), (1054, 0.017866270756889988), (1055, 0.0), (1056, 0.016300653175939275), (1057, 0.0), (1058, 0.0), (1059, 0.008002163347224669), (1060, 0.032535361074451326), (1061, 0.0), (1062, 0.0), (1063, 0.013483996682524785), (1064, 0.0037786482496599823), (1065, 0.002850656508825704), (1066, 0.009145780190652545), (1067, 0.009553771752660015), (1068, 0.004591740380295047), (1069, 0.011207345296660514), (1070, 0.0), (1071, 0.02452252930717825), (1072, 0.003089120529160376), (1073, 0.0), (1074, 0.0), (1075, 0.003285537330730878), (1076, 0.0), (1077, 0.008258736079508899), (1078, 0.019812805784671643), (1079, 0.0028681163887428847), (1080, 0.015371099376589321), (1081, 0.0), (1082, 0.0), (1083, 0.0032450812017093), (1084, 0.0429427307696921), (1085, 0.0), (1086, 0.02606955069047529), (1087, 0.027454511574392056), (1088, 0.0026661558023756368), (1089, 0.0), (1090, 0.01306781146139055), (1091, 0.010966292111258661), (1092, 0.0), (1093, 0.0), (1094, 0.0), (1095, 0.008874378124384326), (1096, 0.003034257596309664), (1097, 0.021806708471439125), (1098, 0.0025432762873035222), (1099, 0.0), (1100, 0.0030672779232762295), (1101, 0.0), (1102, 0.003095441718506776), (1103, 0.0), (1104, 0.005226020047765239), (1105, 0.02024334742068861), (1106, 0.014071710602248929), (1107, 0.049829586736366394), (1108, 0.0), (1109, 0.014469578857200585), (1110, 0.003065674458978273), (1111, 0.010147562962243664), (1112, 0.003106424984894047), (1113, 0.009586274365621468), (1114, 0.016672109146246197), (1115, 0.0), (1116, 0.0), (1117, 0.0029961823084775105), (1118, 0.014311879969691436), (1119, 0.0033299403375338507), (1120, 0.004233095175033202), (1121, 0.02980649418545232), (1122, 0.054525559856294654), (1123, 0.03234343539509545), (1124, 0.028087054897995532), (1125, 0.0), (1126, 0.02145320219792426), (1127, 0.0), (1128, 0.0), (1129, 0.00993398755851099), (1130, 0.004865284854450005), (1131, 0.05007517229788851), (1132, 0.007682763671965354), (1133, 0.021678967186255758), (1134, 0.009029188028660392), (1135, 0.014473145574851798), (1136, 0.011439977268898992), (1137, 0.008224217378047499), (1138, 0.003154980917005623), (1139, 0.013126469684088366), (1140, 0.008655752587632806), (1141, 0.00333307688832554), (1142, 0.0), (1143, 0.0), (1144, 0.006445117056234786), (1145, 0.004312837318738507), (1146, 0.0048007804084309845), (1147, 0.0), (1148, 0.003521439586431793), (1149, 0.0), (1150, 0.00535531753082642), (1151, 0.0), (1152, 0.0), (1153, 0.0), (1154, 0.0), (1155, 0.005149617067207317), (1156, 0.0), (1157, 0.004555656409947363), (1158, 0.0), (1159, 0.0), (1160, 0.032567805140653786), (1161, 0.01689429829127009), (1162, 0.0), (1163, 0.013112673270386387), (1164, 0.0), (1165, 0.0), (1166, 0.0), (1167, 0.0), (1168, 0.02173613990304349), (1169, 0.01998343550221102), (1170, 0.008093097692631647), (1171, 0.004497580641858845), (1172, 0.0), (1173, 0.023200840702979716), (1174, 0.0031884483570781916), (1175, 0.017231669630969827), (1176, 0.003183670006060834), (1177, 0.0029380087761899276), (1178, 0.040667916607685976), (1179, 0.07883541855445007), (1180, 0.0), (1181, 0.0), (1182, 0.003182119013076326), (1183, 0.0028949567202661707), (1184, 0.014985739563877337), (1185, 0.06335124847045706), (1186, 0.043283206791901126), (1187, 0.003664404457478293), (1188, 0.0032735988796505928), (1189, 0.0), (1190, 0.0), (1191, 0.013100598081543288), (1192, 0.036434489288035866), (1193, 0.0227657441794488), (1194, 0.05357425880299579), (1195, 0.005146711753635706), (1196, 0.0), (1197, 0.018419961125124663), (1198, 0.0), (1199, 0.011587701300066542), (1200, 0.0), (1201, 0.0), (1202, 0.0026455178314084707), (1203, 0.002928379951983842), (1204, 0.0031644279552611194), (1205, 0.0), (1206, 0.00755705108117765), (1207, 0.0), (1208, 0.010306390404897862), (1209, 0.0025990541962677832), (1210, 0.01444172294207967), (1211, 0.0), (1212, 0.0), (1213, 0.039660887114425857), (1214, 0.008326690303888589), (1215, 0.03361981107541638), (1216, 0.067248962059176), (1217, 0.014823519846888063), (1218, 0.035504960296465306), (1219, 0.04861394503891855), (1220, 0.007296355928141016), (1221, 0.004127881840743939), (1222, 0.03040426935531529), (1223, 0.008115282687590295), (1224, 0.05672998810780428), (1225, 0.05092019154740532), (1226, 0.0), (1227, 0.02221311134172236), (1228, 0.0), (1229, 0.017825780307126754), (1230, 0.0), (1231, 0.0), (1232, 0.003142954950901069), (1233, 0.05284718435245389), (1234, 0.04346620872286016), (1235, 0.0), (1236, 0.009109692435338356), (1237, 0.030892598248558854), (1238, 0.004931272633989741), (1239, 0.04848202636480471), (1240, 0.0), (1241, 0.06246547242037298), (1242, 0.0), (1243, 0.0034018541105424135), (1244, 0.010332276852343685), (1245, 0.051914432949960565), (1246, 0.040206371159094256), (1247, 0.026166702942317967), (1248, 0.0029965972996247), (1249, 0.0), (1250, 0.10730475808720989), (1251, 0.002759895991857262), (1252, 0.0030900866939998417), (1253, 0.04284498563134851), (1254, 0.013373857330910857), (1255, 0.016223467251727127), (1256, 0.009457823020995432), (1257, 0.07405850620700831), (1258, 0.0), (1259, 0.03702516499309244), (1260, 0.0), (1261, 0.003019713004075979), (1262, 0.00495188484727859), (1263, 0.04181001605653464), (1264, 0.003756943678793682), (1265, 0.010886903099433787), (1266, 0.005065503679211967), (1267, 0.025801988465346502), (1268, 0.0), (1269, 0.0), (1270, 0.009103671304722996), (1271, 0.01050977317244735), (1272, 0.0), (1273, 0.022537243908819928), (1274, 0.004715294004929043), (1275, 0.0035987472358895213), (1276, 0.010409268469607111), (1277, 0.00604526726119543), (1278, 0.021506895296037984), (1279, 0.0041803218759054045), (1280, 0.0), (1281, 0.0), (1282, 0.005308105928443007), (1283, 0.0), (1284, 0.034432435576992104), (1285, 0.0), (1286, 0.003057608302571131), (1287, 0.0), (1288, 0.013631602790373768), (1289, 0.0), (1290, 0.0027631242014148835), (1291, 0.009198367548535022), (1292, 0.0), (1293, 0.05497915115580728), (1294, 0.054979732442126755), (1295, 0.0), (1296, 0.01281884442977028), (1297, 0.01893665532002529), (1298, 0.0031016167037420284), (1299, 0.0), (1300, 0.008470051090255044), (1301, 0.015813874742911693), (1302, 0.0), (1303, 0.002514635171213239), (1304, 0.013053470102514926), (1305, 0.010787872913745902), (1306, 0.032652523359701355), (1307, 0.009344960200055092), (1308, 0.027349225587638575), (1309, 0.0), (1310, 0.0), (1311, 0.0), (1312, 0.03360960127031507), (1313, 0.003073380889412683), (1314, 0.020226892744402286), (1315, 0.0), (1316, 0.0), (1317, 0.0025270105655153217), (1318, 0.0027815583901597556), (1319, 0.017673774337287056), (1320, 0.0), (1321, 0.0467798441913425), (1322, 0.005054348573086612), (1323, 0.0), (1324, 0.0033269428425185916), (1325, 0.003380512964719585), (1326, 0.0), (1327, 0.0), (1328, 0.014716801577747617), (1329, 0.009799299847270484), (1330, 0.0), (1331, 0.0), (1332, 0.011160565341448034), (1333, 0.0), (1334, 0.0032017136680425173), (1335, 0.02338329001663394), (1336, 0.005213370939470713), (1337, 0.0031828519786697954), (1338, 0.0703916311774763), (1339, 0.0033151324622576876), (1340, 0.01450047925582651), (1341, 0.01637153236860535), (1342, 0.0), (1343, 0.005902356843780728), (1344, 0.019384764071661235), (1345, 0.0), (1346, 0.004993484561023402), (1347, 0.0047958060094828), (1348, 0.0), (1349, 0.05173589146640753), (1350, 0.0030380766297266946), (1351, 0.06880240422933846), (1352, 0.0068668689649029925), (1353, 0.0), (1354, 0.02354824088698961), (1355, 0.0031939084475837063), (1356, 0.032840091180316514), (1357, 0.01724718686256874), (1358, 0.07726906668990002), (1359, 0.003351412997165475), (1360, 0.007357421246023399), (1361, 0.0), (1362, 0.0), (1363, 0.0), (1364, 0.018795248506423074), (1365, 0.015212002772888825), (1366, 0.002813380811425791), (1367, 0.0026045627776580455), (1368, 0.02575234411793577), (1369, 0.0066165259826719055), (1370, 0.002689257020408655), (1371, 0.05822381077722954), (1372, 0.012322202891646745), (1373, 0.025858010659910224), (1374, 0.014992878453743815), (1375, 0.01720395720417059), (1376, 0.0), (1377, 0.006521127425966373), (1378, 0.0031162468235398284), (1379, 0.013518401615846021), (1380, 0.015800562872579898), (1381, 0.005697763903288981), (1382, 0.0032192754889952078), (1383, 0.014828093914111606), (1384, 0.004419011267798691), (1385, 0.0031228182155004958), (1386, 0.0), (1387, 0.002815559522715358), (1388, 0.0), (1389, 0.02176844470395088), (1390, 0.0053417912999785995), (1391, 0.0), (1392, 0.007187492540984844), (1393, 0.0), (1394, 0.007162263638009481), (1395, 0.021484600615312887), (1396, 0.010384831401338316), (1397, 0.0026971111665471718), (1398, 0.02166534512504833), (1399, 0.027979361743909612), (1400, 0.0032876615299822524), (1401, 0.0), (1402, 0.008476984265396975), (1403, 0.0023962921141600637), (1404, 0.007641546204260208), (1405, 0.0), (1406, 0.0), (1407, 0.0), (1408, 0.012793366759069903), (1409, 0.014053003195276727), (1410, 0.1217549241099622), (1411, 0.00798836380033325), (1412, 0.009451765676175599), (1413, 0.01324329758221911), (1414, 0.011718775389689793), (1415, 0.0025553374646611936), (1416, 0.0029804577875584145), (1417, 0.0024345939415009715), (1418, 0.04882691007530268), (1419, 0.022262169314169408), (1420, 0.014834725833151808), (1421, 0.017449928630242154), (1422, 0.021459049967429897), (1423, 0.0027679924639281337), (1424, 0.0), (1425, 0.005050970838500686), (1426, 0.005260370851682729), (1427, 0.002556679792868263), (1428, 0.0), (1429, 0.0037494615591083446), (1430, 0.03413233512334212), (1431, 0.005084203112515975), (1432, 0.021533206112840087), (1433, 0.0029016351842250784), (1434, 0.03446271412558249), (1435, 0.04184516665346469), (1436, 0.005253440358849654), (1437, 0.0), (1438, 0.0030887694353020296), (1439, 0.003265607445503034), (1440, 0.003167044206109828), (1441, 0.0), (1442, 0.024907357787585568), (1443, 0.04213881630889832), (1444, 0.0), (1445, 0.0), (1446, 0.0077469019361343545), (1447, 0.026829293371248855), (1448, 0.002881881815998946), (1449, 0.0), (1450, 0.00268773855594944), (1451, 0.009327605690662426), (1452, 0.02185025070738088), (1453, 0.007989873357374687), (1454, 0.0034257001186716787), (1455, 0.0), (1456, 0.007503489262672462), (1457, 0.0), (1458, 0.0), (1459, 0.009774555565828298), (1460, 0.0), (1461, 0.0050206747803927575), (1462, 0.021821676695490844), (1463, 0.017452179229596798), (1464, 0.02212079726912098), (1465, 0.019997811049273048), (1466, 0.011677393764577479), (1467, 0.007812043021824223), (1468, 0.0044010215718316105), (1469, 0.0), (1470, 0.0), (1471, 0.04478161606887151), (1472, 0.018223690376341795), (1473, 0.0), (1474, 0.02018638520930105), (1475, 0.11211382014273256), (1476, 0.0031598606820719705), (1477, 0.012035987244741154), (1478, 0.03258866441408843), (1479, 0.0034207657397731716), (1480, 0.0), (1481, 0.016525859358205407), (1482, 0.016538374356049452), (1483, 0.013033939332961616), (1484, 0.0032991665767967623), (1485, 0.0), (1486, 0.00546802182039439), (1487, 0.01891221287802794), (1488, 0.003126737399080717), (1489, 0.0035045922329357652), (1490, 0.0), (1491, 0.0), (1492, 0.0), (1493, 0.004786823947238544), (1494, 0.013443098204082788), (1495, 0.02029385999203201), (1496, 0.03022609159699396), (1497, 0.003559499824207206), (1498, 0.014603754204976366), (1499, 0.0034913711315961997), (1500, 0.017799005488084982), (1501, 0.02496733211213848), (1502, 0.05412156338529015), (1503, 0.020913252823482546), (1504, 0.0), (1505, 0.0), (1506, 0.021893434423287297), (1507, 0.015981378256673843), (1508, 0.034935603292712995), (1509, 0.02071286342178356), (1510, 0.008161107448603414), (1511, 0.04664976470345272), (1512, 0.0), (1513, 0.003248962248265865), (1514, 0.031754688061465364), (1515, 0.004997471393543467), (1516, 0.003212032389573901), (1517, 0.009886580352357358), (1518, 0.014147301916818901), (1519, 0.012147093663200504), (1520, 0.005329960673722755), (1521, 0.0042882035108966305), (1522, 0.01002765164114181), (1523, 0.061651221071533355), (1524, 0.0045473245281030025), (1525, 0.005090741088113912), (1526, 0.01964890197177565), (1527, 0.0030523760199203513), (1528, 0.0028328371075502876), (1529, 0.0), (1530, 0.004066151960292722), (1531, 0.0), (1532, 0.0), (1533, 0.12220009955331856), (1534, 0.039472918458799335), (1535, 0.04327526851105454), (1536, 0.0368890492518301), (1537, 0.041751233640860655), (1538, 0.002830990751153756), (1539, 0.007208419555633382), (1540, 0.0), (1541, 0.0), (1542, 0.0), (1543, 0.0028734839972934345), (1544, 0.0), (1545, 0.0), (1546, 0.004271381030722194), (1547, 0.021797743795049153), (1548, 0.03443096651820418), (1549, 0.0), (1550, 0.003075438257536661), (1551, 0.004879915788364513), (1552, 0.013343037486565543), (1553, 0.011516636408707526), (1554, 0.011028665018322586), (1555, 0.007525626432444253), (1556, 0.0), (1557, 0.014340311826095688), (1558, 0.002899259448196934), (1559, 0.004297110973198466), (1560, 0.0), (1561, 0.0), (1562, 0.012926510469908623), (1563, 0.0), (1564, 0.0050851137330642044), (1565, 0.0069099119883386205), (1566, 0.0), (1567, 0.0), (1568, 0.0045309640875122546), (1569, 0.0), (1570, 0.036085027568661165), (1571, 0.014965194262118574), (1572, 0.003318643607973207), (1573, 0.013748537227097736), (1574, 0.008157843985001764), (1575, 0.0), (1576, 0.01781019406150106), (1577, 0.015112836728790975), (1578, 0.0052293850587856105), (1579, 0.027119088163172503), (1580, 0.0034415828177876127), (1581, 0.0), (1582, 0.0029942697596080595), (1583, 0.0054396302921005946), (1584, 0.013603102535452043), (1585, 0.0), (1586, 0.015866852048822325), (1587, 0.005054067079784028), (1588, 0.014581818581944036), (1589, 0.0), (1590, 0.0), (1591, 0.0), (1592, 0.028661304919629163), (1593, 0.0037797135781787363), (1594, 0.014610116857990949), (1595, 0.007315792204373143), (1596, 0.0), (1597, 0.01743645367509849), (1598, 0.0030788014858261726), (1599, 0.021996792981417088), (1600, 0.0), (1601, 0.0), (1602, 0.0), (1603, 0.0), (1604, 0.015463609767787077), (1605, 0.02244523221749562), (1606, 0.0), (1607, 0.013590514784800993), (1608, 0.020360026475624425), (1609, 0.0), (1610, 0.0), (1611, 0.014103527742627436), (1612, 0.0031057689516391183), (1613, 0.00516449898595942), (1614, 0.014929535180921629), (1615, 0.0), (1616, 0.0027408564325967118), (1617, 0.017671251908847316), (1618, 0.0), (1619, 0.025236077804954272), (1620, 0.007559015893222909), (1621, 0.02499509409182742), (1622, 0.0), (1623, 0.0), (1624, 0.0025379939351489822), (1625, 0.002804549748388565), (1626, 0.004498910099791061), (1627, 0.014595490998329873), (1628, 0.002853774556058418), (1629, 0.03651212685870708), (1630, 0.02266415525523143), (1631, 0.03011595168919283), (1632, 0.0047604916135449964), (1633, 0.0), (1634, 0.0030912029143987567), (1635, 0.0), (1636, 0.0051157071983008885), (1637, 0.01409029206440223), (1638, 0.07603687817564024), (1639, 0.011814386522831746), (1640, 0.0053626540646975335), (1641, 0.0028922162573983713), (1642, 0.007481868235517525), (1643, 0.008487058237773825), (1644, 0.0), (1645, 0.007809638193231824), (1646, 0.0), (1647, 0.0), (1648, 0.009744940624572752), (1649, 0.05232650495465126), (1650, 0.012100219826084491), (1651, 0.0), (1652, 0.0), (1653, 0.017651484060017236), (1654, 0.0), (1655, 0.0037938847922203427), (1656, 0.06303890223945832), (1657, 0.0), (1658, 0.037988056835739394), (1659, 0.010676883748868557), (1660, 0.008446433794467897), (1661, 0.0), (1662, 0.01763451933854648), (1663, 0.0029382267740703885), (1664, 0.014771408369323662), (1665, 0.0029202493493277995), (1666, 0.03479579244400327), (1667, 0.0028743973823879315), (1668, 0.009561072862111934), (1669, 0.018434208525635237), (1670, 0.01797117283370842), (1671, 0.003019621061012592), (1672, 0.002855162620631076), (1673, 0.0), (1674, 0.0), (1675, 0.03824991652825919), (1676, 0.0), (1677, 0.0024537558896903177), (1678, 0.008037828388852395), (1679, 0.01075948070146423), (1680, 0.011929909813668682), (1681, 0.01644839579263421), (1682, 0.02698526727505787), (1683, 0.003337501729236001), (1684, 0.0), (1685, 0.003299839735740742), (1686, 0.0), (1687, 0.008571217995144976), (1688, 0.013306343171113238), (1689, 0.02678201814284419), (1690, 0.0028100167398416496), (1691, 0.029671907430012273), (1692, 0.018720730345614667), (1693, 0.0029283774812569243), (1694, 0.0), (1695, 0.004018766572112728), (1696, 0.0), (1697, 0.0), (1698, 0.02580719011160165), (1699, 0.0), (1700, 0.009463830276011416), (1701, 0.02670278854166693), (1702, 0.005160547828989214), (1703, 0.00322699086428587), (1704, 0.005061256758613457), (1705, 0.014944239033690744), (1706, 0.003147301918004037), (1707, 0.0902632263571132), (1708, 0.0033498489236527093), (1709, 0.013963845368952593), (1710, 0.007657655207232808), (1711, 0.0039111657851567585), (1712, 0.003333784308368806), (1713, 0.0), (1714, 0.01729885523491852), (1715, 0.0), (1716, 0.020300063975883208), (1717, 0.0032121186254419174), (1718, 0.021552474451234597), (1719, 0.0344164620285932), (1720, 0.02163887655328634), (1721, 0.0), (1722, 0.017242315960223825), (1723, 0.0046610411168254645), (1724, 0.010785500005233541), (1725, 0.0054890762975696875), (1726, 0.005095030741753961), (1727, 0.003242798320977517), (1728, 0.11354787113688039), (1729, 0.0), (1730, 0.059720301522723715), (1731, 0.023839217659899173), (1732, 0.0), (1733, 0.008863793760127612), (1734, 0.014622957168616744), (1735, 0.0), (1736, 0.0032650451568715555), (1737, 0.0), (1738, 0.004713518781826418), (1739, 0.002804352882708061), (1740, 0.019091676247410976), (1741, 0.0), (1742, 0.017114994519565576), (1743, 0.006881030365160725), (1744, 0.002975364645888881), (1745, 0.0), (1746, 0.009267759802896944), (1747, 0.002427206566694408), (1748, 0.13194182692316098), (1749, 0.0), (1750, 0.0), (1751, 0.0050234721315995465), (1752, 0.0), (1753, 0.0), (1754, 0.10436451244125716), (1755, 0.030123347335478216), (1756, 0.004682136320532113), (1757, 0.020364275046235253), (1758, 0.00574144473398682), (1759, 0.0029469180141737804), (1760, 0.031723697048957306), (1761, 0.0), (1762, 0.0072117687452000504), (1763, 0.002670853514901356), (1764, 0.0383497302617831), (1765, 0.0032257604641473554), (1766, 0.0), (1767, 0.0), (1768, 0.008311503362126427), (1769, 0.02089002716848029), (1770, 0.02222811015470612), (1771, 0.021181168574181432), (1772, 0.004308551054884423), (1773, 0.0), (1774, 0.0023814099456575385), (1775, 0.016274251366637692), (1776, 0.002746754282129235), (1777, 0.0), (1778, 0.004624690780036214), (1779, 0.0033205802674349813), (1780, 0.012208792293572423), (1781, 0.008449284700880168), (1782, 0.016555326051438574), (1783, 0.0), (1784, 0.004508561388707879), (1785, 0.0), (1786, 0.011016934729070739), (1787, 0.009405264156840695), (1788, 0.018675674660545663), (1789, 0.0), (1790, 0.016636477938430316), (1791, 0.0), (1792, 0.021993931416584896), (1793, 0.05485049445167839), (1794, 0.04237466052423765), (1795, 0.0), (1796, 0.011985220807089823), (1797, 0.0), (1798, 0.034413954667361496), (1799, 0.01087602844570024), (1800, 0.0), (1801, 0.014339420757249016), (1802, 0.012760709013634394), (1803, 0.0), (1804, 0.015027521821772066), (1805, 0.014311723276366622), (1806, 0.0), (1807, 0.021618255848810518), (1808, 0.007250002474678935), (1809, 0.004487218045556741), (1810, 0.00957671970643885), (1811, 0.003093814347090351), (1812, 0.010607887653559874), (1813, 0.003027969905320135), (1814, 0.002871731575067568), (1815, 0.03674487981768524), (1816, 0.004475709401528269), (1817, 0.008911626291191334), (1818, 0.009410132590408416), (1819, 0.0029056865993056027), (1820, 0.0), (1821, 0.01378430582825707), (1822, 0.003292372616795748), (1823, 0.009187699494525931), (1824, 0.00466713072121774), (1825, 0.009498985331684962), (1826, 0.0028202992476621495), (1827, 0.011878487427543218), (1828, 0.026161718670093554), (1829, 0.010903465435154105), (1830, 0.02201388238538303), (1831, 0.012988048563681392), (1832, 0.0), (1833, 0.0026706726152872823), (1834, 0.0), (1835, 0.010510183007735017), (1836, 0.0), (1837, 0.0), (1838, 0.0), (1839, 0.0), (1840, 0.018227888768474906), (1841, 0.005164102192371066), (1842, 0.0), (1843, 0.0035374849858610244), (1844, 0.0), (1845, 0.006836215472775669), (1846, 0.0), (1847, 0.02134334715007833), (1848, 0.003357461697129786), (1849, 0.02035078119439852), (1850, 0.004282556400645143), (1851, 0.008416143727120637), (1852, 0.004896256031359992), (1853, 0.003301308968995975), (1854, 0.0029778168879261474), (1855, 0.0), (1856, 0.0), (1857, 0.004887966966616871), (1858, 0.009045625089846918), (1859, 0.005235494681951817), (1860, 0.08280876490358036), (1861, 0.0023640950118792615), (1862, 0.026645043451637138), (1863, 0.0), (1864, 0.026057139996173467), (1865, 0.03573219844021015), (1866, 0.06471332139367174), (1867, 0.0), (1868, 0.0), (1869, 0.021540443977972206), (1870, 0.0), (1871, 0.018427641463196795), (1872, 0.003154514741239249), (1873, 0.013969503267997807), (1874, 0.0033706278193192107), (1875, 0.007423540981865197), (1876, 0.017172674503187546), (1877, 0.007714105963941549), (1878, 0.0029613643618133668), (1879, 0.0), (1880, 0.0), (1881, 0.04229723163232427), (1882, 0.0030558516129422265), (1883, 0.017911619579437543), (1884, 0.002915134547336945), (1885, 0.003654407538616726), (1886, 0.0476490405964923), (1887, 0.009161110053303709), (1888, 0.0048773910838086085), (1889, 0.0), (1890, 0.0034607590997542998), (1891, 0.003091834025890886), (1892, 0.002832100038424328), (1893, 0.008526433332299119), (1894, 0.0), (1895, 0.02415083036422861), (1896, 0.04166737323973301), (1897, 0.0033816438854271753), (1898, 0.0), (1899, 0.0), (1900, 0.0), (1901, 0.04627177611753018), (1902, 0.013807114974554984), (1903, 0.004644619125527406), (1904, 0.0), (1905, 0.0034003158953472895), (1906, 0.0), (1907, 0.00870163324860028), (1908, 0.015061670867174755), (1909, 0.0035400596321181264), (1910, 0.004194532814467079), (1911, 0.0), (1912, 0.0), (1913, 0.0), (1914, 0.017782218154175446), (1915, 0.024276240733725724), (1916, 0.003286676703338715), (1917, 0.0), (1918, 0.013875102229251372), (1919, 0.012590873507943967), (1920, 0.002883772904826539), (1921, 0.0027873590113622966), (1922, 0.003148447506094718), (1923, 0.003463828274405781), (1924, 0.03862371190850748), (1925, 0.06201687972881793), (1926, 0.0), (1927, 0.0), (1928, 0.040308473108943636), (1929, 0.002973313507880254), (1930, 0.0), (1931, 0.003186629687518608), (1932, 0.0), (1933, 0.021177322343499595), (1934, 0.002784862030026592), (1935, 0.004506852163577057), (1936, 0.0031876452974014106), (1937, 0.11224356527811517), (1938, 0.017235438383797656), (1939, 0.041024870089997466), (1940, 0.0), (1941, 0.0), (1942, 0.0031731477924950963), (1943, 0.0027147036779534557), (1944, 0.0), (1945, 0.010092968190910006), (1946, 0.003204946226709373), (1947, 0.0036206220969242633), (1948, 0.05254858976188152), (1949, 0.01038475606139665), (1950, 0.01934269566860637), (1951, 0.008576948821249965), (1952, 0.022141421876738687), (1953, 0.0), (1954, 0.0027628017792735173), (1955, 0.0), (1956, 0.0), (1957, 0.00834253844674758), (1958, 0.0), (1959, 0.003373769393006885), (1960, 0.0034532146773207685), (1961, 0.005114982894885202), (1962, 0.0), (1963, 0.0), (1964, 0.025894486907244267), (1965, 0.021592491840078176), (1966, 0.0), (1967, 0.022492234726001616), (1968, 0.07543032485770326), (1969, 0.06349463641407027), (1970, 0.0), (1971, 0.0068519960953272105), (1972, 0.0), (1973, 0.017799084384824537), (1974, 0.00915425697029838), (1975, 0.0), (1976, 0.0), (1977, 0.002776913990830678), (1978, 0.0), (1979, 0.0), (1980, 0.002797428133221097), (1981, 0.01717128698207684), (1982, 0.01364334884200345), (1983, 0.0032482760097018973), (1984, 0.0045634848701932), (1985, 0.04024367065491288), (1986, 0.03526111760265324), (1987, 0.009115280744356946), (1988, 0.025776469275528815), (1989, 0.0025050558274932293), (1990, 0.004523506531398018), (1991, 0.014157305744662887), (1992, 0.020773324081653777), (1993, 0.013324557351860262), (1994, 0.03266103802537375), (1995, 0.03689512766486931), (1996, 0.009624803094602173), (1997, 0.035943539168711736), (1998, 0.0), (1999, 0.0), (2000, 0.05077179267759363), (2001, 0.0), (2002, 0.0), (2003, 0.0047967814110617315), (2004, 0.0029313611979287575), (2005, 0.008929158248612084), (2006, 0.0), (2007, 0.0), (2008, 0.003033108436245841), (2009, 0.0), (2010, 0.02709671452810251), (2011, 0.0312000121404531), (2012, 0.005709994202752057), (2013, 0.015892823256029413), (2014, 0.040399888369516634), (2015, 0.026770324717211812), (2016, 0.008392222242752188), (2017, 0.024376788498814812), (2018, 0.0), (2019, 0.0), (2020, 0.004235214843439516), (2021, 0.0), (2022, 0.05690743542313645), (2023, 0.017045567647136804), (2024, 0.0029866396195111743), (2025, 0.0), (2026, 0.0), (2027, 0.12655432850751958), (2028, 0.0), (2029, 0.007892379610414139), (2030, 0.0), (2031, 0.016255732769043962), (2032, 0.005818296880870763), (2033, 0.0), (2034, 0.01541917060901725), (2035, 0.002642185202695726), (2036, 0.02928086845013672), (2037, 0.008809932055852518), (2038, 0.0), (2039, 0.019475327397929555), (2040, 0.0034456444899637556), (2041, 0.0), (2042, 0.0), (2043, 0.0699743603196003), (2044, 0.0), (2045, 0.00821561440988582), (2046, 0.01496337214294505), (2047, 0.038649953909365715), (2048, 0.0192629915091804), (2049, 0.003438411380749343), (2050, 0.0), (2051, 0.0035435672247599954), (2052, 0.0), (2053, 0.008346098486228365), (2054, 0.0), (2055, 0.007326753032364491), (2056, 0.004784578117194788), (2057, 0.0), (2058, 0.008961222644213236), (2059, 0.0), (2060, 0.0030872258107279855), (2061, 0.035738222148135115), (2062, 0.009615325533230573), (2063, 0.0), (2064, 0.0), (2065, 0.04359451991594778), (2066, 0.0), (2067, 0.03558416248495888), (2068, 0.016224852010337257), (2069, 0.0030643674681156935), (2070, 0.10728829492459037), (2071, 0.00923817770074601), (2072, 0.033217394779330195), (2073, 0.025320764354567836), (2074, 0.0176096426742053), (2075, 0.004086689054196779), (2076, 0.006818051241136766), (2077, 0.0), (2078, 0.003948793651949226), (2079, 0.005667981909242657), (2080, 0.0030134136657901456), (2081, 0.0), (2082, 0.02242633978907795), (2083, 0.0359080600520848), (2084, 0.0), (2085, 0.023166803136530748), (2086, 0.005288128626386026), (2087, 0.003050499511905692), (2088, 0.0032676875039991324), (2089, 0.0036648405578682945), (2090, 0.0), (2091, 0.0031623062481164464), (2092, 0.0), (2093, 0.009264194819566635), (2094, 0.004698483169760633), (2095, 0.009674076204417873), (2096, 0.014001083398178574), (2097, 0.025194804654685748), (2098, 0.03862011957128747), (2099, 0.0029151656734453433), (2100, 0.0), (2101, 0.0), (2102, 0.06948664668515767), (2103, 0.00787162276641635), (2104, 0.01998753225236111), (2105, 0.0033211629526614687), (2106, 0.01035514604681907), (2107, 0.0), (2108, 0.003461736808658594), (2109, 0.008148911568159365), (2110, 0.009190661807984507), (2111, 0.052461016952291835), (2112, 0.031738823158422136), (2113, 0.0), (2114, 0.04034739745905673), (2115, 0.0), (2116, 0.003366170228836137), (2117, 0.002991686370451075), (2118, 0.01240581764490989), (2119, 0.009292349846468356), (2120, 0.0), (2121, 0.0029692368342143344), (2122, 0.039978237120378304), (2123, 0.00322825701232208), (2124, 0.0), (2125, 0.01276369081787539), (2126, 0.00833694064876126), (2127, 0.006786480787567333), (2128, 0.004882496710048253), (2129, 0.0028899881746590798), (2130, 0.0), (2131, 0.00776582640479542), (2132, 0.002605625662929356), (2133, 0.0029500227439331677), (2134, 0.038379426387197706), (2135, 0.009134647975682276), (2136, 0.055350025207087344), (2137, 0.05469920494698857), (2138, 0.0), (2139, 0.004659939968519154), (2140, 0.0), (2141, 0.002981089083949213), (2142, 0.0036375232755006454), (2143, 0.007729075319052235), (2144, 0.003146000449983861), (2145, 0.008819266260628332), (2146, 0.020331722320682998), (2147, 0.005270145912378426), (2148, 0.003232716726791541), (2149, 0.002914130770078416), (2150, 0.0), (2151, 0.0033253270579198103), (2152, 0.0), (2153, 0.0), (2154, 0.003994979863898437), (2155, 0.0346266342575383), (2156, 0.00442118529998865), (2157, 0.01104541606850145), (2158, 0.0), (2159, 0.04162330060414521), (2160, 0.009344230591976874), (2161, 0.013263096625821641), (2162, 0.0033493152358188955), (2163, 0.0027829439088661967), (2164, 0.0), (2165, 0.0), (2166, 0.0029373219098214626), (2167, 0.019167750430985758), (2168, 0.008571772146904832), (2169, 0.008136270403093332), (2170, 0.0), (2171, 0.0), (2172, 0.0), (2173, 0.003071219661758981), (2174, 0.003091498493042412), (2175, 0.026641646957010906), (2176, 0.003443008157083243), (2177, 0.02053481472164312), (2178, 0.004829464980345747), (2179, 0.0), (2180, 0.049107608467609976), (2181, 0.0), (2182, 0.0), (2183, 0.0), (2184, 0.0), (2185, 0.0), (2186, 0.0), (2187, 0.0035795270666676314), (2188, 0.00380636046215205), (2189, 0.004378104222139734), (2190, 0.003361879541750317), (2191, 0.0027970936774115657), (2192, 0.0031408963933986806), (2193, 0.02224019297428096), (2194, 0.0), (2195, 0.018053216792406422), (2196, 0.0032982212587469623), (2197, 0.0), (2198, 0.004974578999628057), (2199, 0.0697158163330439), (2200, 0.0), (2201, 0.02311157575731109), (2202, 0.0), (2203, 0.0), (2204, 0.004208963372740395), (2205, 0.009376281449477549), (2206, 0.0), (2207, 0.009170593428329387), (2208, 0.016530470188823893), (2209, 0.003472246171535964), (2210, 0.022408404816504246), (2211, 0.0235603742054237), (2212, 0.0031121344083854187), (2213, 0.016689728565278644), (2214, 0.0033911047288490885), (2215, 0.009320817909556453), (2216, 0.003056685226122955), (2217, 0.0), (2218, 0.02967296636314967), (2219, 0.0), (2220, 0.0), (2221, 0.010848261252055957), (2222, 0.005128500350624373), (2223, 0.003546208540163449), (2224, 0.025625077137857735), (2225, 0.0), (2226, 0.03355113243365983), (2227, 0.0), (2228, 0.0), (2229, 0.053349036285343175), (2230, 0.029507750893657154), (2231, 0.0), (2232, 0.0), (2233, 0.005448743907329441), (2234, 0.014333397242839245), (2235, 0.0), (2236, 0.030599721097966083), (2237, 0.025136154515467014), (2238, 0.0), (2239, 0.024300700660556833), (2240, 0.011527342149803005), (2241, 0.025995775510637916), (2242, 0.03213441580964904), (2243, 0.0), (2244, 0.0617506878027659), (2245, 0.004795647414569368), (2246, 0.014953896815247558), (2247, 0.016458773963226276), (2248, 0.002803953481420427), (2249, 0.0), (2250, 0.031987438714246856), (2251, 0.004339536647867508), (2252, 0.010699285473652469), (2253, 0.0), (2254, 0.0033468735752801983), (2255, 0.00402389976584568), (2256, 0.0), (2257, 0.004015523538920799), (2258, 0.0), (2259, 0.037065179801746194), (2260, 0.0033364168419267883), (2261, 0.0), (2262, 0.004473124979753764), (2263, 0.005328885336137923), (2264, 0.015169241334036188), (2265, 0.02255441701112218), (2266, 0.0038403568212683563), (2267, 0.0), (2268, 0.007807374732527337), (2269, 0.003619834408961261), (2270, 0.0026947815868760007), (2271, 0.021043301802857697), (2272, 0.0), (2273, 0.0), (2274, 0.0), (2275, 0.05591070792899162), (2276, 0.0), (2277, 0.05686384720094822), (2278, 0.005037109764265255), (2279, 0.0030388849468488536), (2280, 0.009922774546760738), (2281, 0.0), (2282, 0.0), (2283, 0.015965995490991727), (2284, 0.003135723604976788), (2285, 0.011741887395534627), (2286, 0.021820612874573653), (2287, 0.010886758619560837), (2288, 0.0032989763938522107), (2289, 0.0030972980163618095), (2290, 0.010221885307638597), (2291, 0.05722205399306972), (2292, 0.0031765729757316278), (2293, 0.003399662180785923), (2294, 0.05336463986533517), (2295, 0.003168482910872189), (2296, 0.00417086277458511), (2297, 0.013679256175385988), (2298, 0.0), (2299, 0.004987451036221989), (2300, 0.02075824590906634), (2301, 0.021099590362021324), (2302, 0.003542517225071419), (2303, 0.02859553898676872), (2304, 0.0), (2305, 0.09913885078554319), (2306, 0.003946006053178612), (2307, 0.0), (2308, 0.0), (2309, 0.002979339100153683), (2310, 0.004170045166445932), (2311, 0.004670604173005656), (2312, 0.0), (2313, 0.003166524537739516), (2314, 0.0), (2315, 0.03954911715263053), (2316, 0.0), (2317, 0.007479890691543735), (2318, 0.008199114820726687), (2319, 0.026339435915845), (2320, 0.015169914714481725), (2321, 0.013495817303115581), (2322, 0.004836526636366425), (2323, 0.002814565319462352), (2324, 0.008048194584473436), (2325, 0.0), (2326, 0.003898759324011629), (2327, 0.013968428485787642), (2328, 0.0), (2329, 0.0048700650621534315), (2330, 0.005249609047989688), (2331, 0.0), (2332, 0.0), (2333, 0.0), (2334, 0.008320653938891049), (2335, 0.0), (2336, 0.0), (2337, 0.014775259166202448), (2338, 0.020839777709010174), (2339, 0.030314721286060085), (2340, 0.0031266220779326394), (2341, 0.0), (2342, 0.0), (2343, 0.0), (2344, 0.0031253785641820165), (2345, 0.0), (2346, 0.0035461562427833155), (2347, 0.0028671034838893086), (2348, 0.002937744739556692), (2349, 0.0043183899503941294), (2350, 0.030571426248288913), (2351, 0.00592646048903406), (2352, 0.0), (2353, 0.0), (2354, 0.003122005208276537), (2355, 0.0026002092736538583), (2356, 0.003486577659837189), (2357, 0.0), (2358, 0.0), (2359, 0.01932456696793195), (2360, 0.0), (2361, 0.0033082135939843447), (2362, 0.0028589835137276987), (2363, 0.006135863025270456), (2364, 0.0), (2365, 0.0), (2366, 0.0), (2367, 0.022079463793625284), (2368, 0.0), (2369, 0.0), (2370, 0.003249354174587753), (2371, 0.0), (2372, 0.0), (2373, 0.0), (2374, 0.05113739373185634), (2375, 0.014430985773008153), (2376, 0.011626427709428047), (2377, 0.01189302152725125), (2378, 0.0036704693598352423), (2379, 0.004501153095436021), (2380, 0.0), (2381, 0.0), (2382, 0.029392470892020954), (2383, 0.0), (2384, 0.011156226076665894), (2385, 0.003284980917662726), (2386, 0.019134368236395992), (2387, 0.023739348121071594), (2388, 0.007658202376563814), (2389, 0.0), (2390, 0.0034190947624153224), (2391, 0.0033311477399697283), (2392, 0.03310496489065128), (2393, 0.00332841311626207), (2394, 0.0032863903385908755), (2395, 0.0), (2396, 0.013255212024099013), (2397, 0.0031720132847824424), (2398, 0.014285167683522474), (2399, 0.0028789842401139155), (2400, 0.014857314750294193), (2401, 0.0030311498907860685), (2402, 0.0306172879969252), (2403, 0.021570622170929567), (2404, 0.004242139015125494), (2405, 0.0032438451751440277), (2406, 0.02978202487647614), (2407, 0.004311277240256408), (2408, 0.0), (2409, 0.004728889776571815), (2410, 0.00342152204250209), (2411, 0.0035316421597594697), (2412, 0.01564184679845433), (2413, 0.04735908991527302), (2414, 0.05051605750883627), (2415, 0.04129512081052595), (2416, 0.007967409395952195), (2417, 0.003651764300583624), (2418, 0.008569002392170202), (2419, 0.0032767187947308845), (2420, 0.0), (2421, 0.005058866680883164), (2422, 0.0126668178313784), (2423, 0.003930580529163431), (2424, 0.0), (2425, 0.004042202146972875), (2426, 0.0), (2427, 0.015157481099316817), (2428, 0.014496507710338483), (2429, 0.0), (2430, 0.043222413577030654), (2431, 0.005110110225951211), (2432, 0.01444114817569852), (2433, 0.0), (2434, 0.0037285822021061467), (2435, 0.0), (2436, 0.009035234781353204), (2437, 0.0035400979417831878), (2438, 0.0038632127847452982), (2439, 0.011457813062600299), (2440, 0.006334890396271041), (2441, 0.010637065139017859), (2442, 0.0), (2443, 0.005309125673144049), (2444, 0.019299933605911188), (2445, 0.0), (2446, 0.007508397211115391), (2447, 0.015524710030508856), (2448, 0.004073189085524529), (2449, 0.0), (2450, 0.0), (2451, 0.0), (2452, 0.0), (2453, 0.002866538672347505), (2454, 0.0037661577811411613), (2455, 0.0), (2456, 0.010338622536520207), (2457, 0.002805575873351871), (2458, 0.005410845577763612), (2459, 0.0037962054154312115), (2460, 0.0), (2461, 0.012736299158927262), (2462, 0.0), (2463, 0.06598534966100442), (2464, 0.003420596123685905), (2465, 0.0), (2466, 0.0175353499181675), (2467, 0.0030091159036926226), (2468, 0.0), (2469, 0.0024419053458016892), (2470, 0.005607719059284613), (2471, 0.0), (2472, 0.05280555353601768), (2473, 0.0029703386657678344), (2474, 0.04846015631075454), (2475, 0.0033540964951715505), (2476, 0.0), (2477, 0.0033697279841796127), (2478, 0.021484804643442497), (2479, 0.0), (2480, 0.01875818878797734), (2481, 0.006732091843544776), (2482, 0.09707115873138722), (2483, 0.08178710988845284), (2484, 0.004170176689084585), (2485, 0.016670109308952647), (2486, 0.005668852587218739), (2487, 0.027566747887963067), (2488, 0.003811633542394087), (2489, 0.0031784597447841413), (2490, 0.004495308346809814), (2491, 0.0045777624138838725), (2492, 0.013130804598647287), (2493, 0.015402324217463858), (2494, 0.008715698298498204), (2495, 0.003118619981123457), (2496, 0.0029167130460809043), (2497, 0.004585649019377198), (2498, 0.009781438911687748), (2499, 0.023099376308560855), (2500, 0.0), (2501, 0.00498899969232093), (2502, 0.11498163219140066), (2503, 0.014856550177402486), (2504, 0.004847713859152047), (2505, 0.020784819950305684), (2506, 0.0), (2507, 0.003388052869302963), (2508, 0.01798308011035338), (2509, 0.010723475441740352), (2510, 0.01707483136360453), (2511, 0.005146484052953579), (2512, 0.016952064822318196), (2513, 0.013814788835293718), (2514, 0.004460753698843987), (2515, 0.0), (2516, 0.0), (2517, 0.0), (2518, 0.005605136911678934), (2519, 0.0), (2520, 0.04766483380702788), (2521, 0.0), (2522, 0.026478672044452124), (2523, 0.0178646856166912), (2524, 0.008071595206617469), (2525, 0.030185929950472465), (2526, 0.006614276234293667), (2527, 0.0026824880000092034), (2528, 0.03650560018751569), (2529, 0.004527421123070038), (2530, 0.003964090946783756), (2531, 0.008424997025654753), (2532, 0.005605298223027669), (2533, 0.003136903366062873), (2534, 0.008035976853059741), (2535, 0.0034568216254570335), (2536, 0.0), (2537, 0.0042785162723901135), (2538, 0.0018661309338089075), (2539, 0.008695640568538802), (2540, 0.0792590367657162), (2541, 0.018869252051439744), (2542, 0.0), (2543, 0.0), (2544, 0.0), (2545, 0.0032494058567165644), (2546, 0.00841558897569528), (2547, 0.006538284446156845), (2548, 0.0), (2549, 0.0), (2550, 0.02884630381536512), (2551, 0.010177888927899123), (2552, 0.01692323282609405), (2553, 0.022487307786233493), (2554, 0.003146366406061636), (2555, 0.0070933868584708865), (2556, 0.0028920248255137337), (2557, 0.0038681418582251826), (2558, 0.0031193064043257197), (2559, 0.004099999115314894), (2560, 0.009278149199505337), (2561, 0.0032538725831139986), (2562, 0.007476743234564169), (2563, 0.00668585972183078), (2564, 0.0), (2565, 0.0181128416850442), (2566, 0.0), (2567, 0.07175204688926248), (2568, 0.009887020840327786), (2569, 0.0030818416458023544), (2570, 0.04005429013341878), (2571, 0.029293244914960256), (2572, 0.031420735006113476), (2573, 0.0), (2574, 0.02117800481362402), (2575, 0.0), (2576, 0.0), (2577, 0.0), (2578, 0.0), (2579, 0.0034959683877513656), (2580, 0.002785281000971019), (2581, 0.006204513930740738), (2582, 0.02436791878915554), (2583, 0.0), (2584, 0.04663477444377429), (2585, 0.044084520283493876), (2586, 0.0), (2587, 0.007173979048322413), (2588, 0.010729346735422801), (2589, 0.0), (2590, 0.03223513878720308), (2591, 0.0027981289537442056), (2592, 0.0034528183234817556), (2593, 0.0028775545929002047), (2594, 0.0), (2595, 0.018519602778645627), (2596, 0.0), (2597, 0.023045133201754872), (2598, 0.002950815753160292), (2599, 0.0), (2600, 0.0), (2601, 0.00325268900786791), (2602, 0.002587902231805874), (2603, 0.006789589601851098), (2604, 0.0), (2605, 0.0), (2606, 0.0031404359138073753), (2607, 0.0027956077639614547), (2608, 0.004348768662169109), (2609, 0.023508028532998444), (2610, 0.008543343371040197), (2611, 0.0069353591554263214), (2612, 0.007807447978486894), (2613, 0.0036743199234173254), (2614, 0.006773101972860831), (2615, 0.03332815207538716), (2616, 0.01950339673490588), (2617, 0.0027497954427832864), (2618, 0.0), (2619, 0.029919074567534655), (2620, 0.0), (2621, 0.0027134868440834388), (2622, 0.004212471877429235), (2623, 0.021187297529987825), (2624, 0.003412745742474113), (2625, 0.020696735039096574), (2626, 0.015316418303929769), (2627, 0.015922900564522502), (2628, 0.00408289730165985), (2629, 0.01938246321260225), (2630, 0.014863674994357801), (2631, 0.00471513093869693), (2632, 0.02252388351241162), (2633, 0.00848689527059655), (2634, 0.07265843018608895), (2635, 0.0), (2636, 0.006069182025095925), (2637, 0.031068849403189172), (2638, 0.020566348037611242), (2639, 0.0), (2640, 0.008458390827530223), (2641, 0.02130745838935485), (2642, 0.01743948016716964), (2643, 0.004033679682102177), (2644, 0.0), (2645, 0.01040374275832135), (2646, 0.0), (2647, 0.08151059346440581), (2648, 0.0), (2649, 0.024118534956444365), (2650, 0.0032404472678098937), (2651, 0.002950843765393106), (2652, 0.003153093419628992), (2653, 0.0030096923938681885), (2654, 0.023364682341998247), (2655, 0.022627646397730072), (2656, 0.01253785925999748), (2657, 0.0), (2658, 0.0), (2659, 0.0), (2660, 0.01621057054443367), (2661, 0.027218192253110625), (2662, 0.0), (2663, 0.0), (2664, 0.003325059719898237), (2665, 0.016424872819420126), (2666, 0.004564288149316208), (2667, 0.0), (2668, 0.013426592192008787), (2669, 0.0), (2670, 0.016694199151053055), (2671, 0.007357264175807516), (2672, 0.03048775162924099), (2673, 0.01075393813814132), (2674, 0.002871021911017715), (2675, 0.005204899494700229), (2676, 0.0), (2677, 0.009759732060245576), (2678, 0.005079458709775018), (2679, 0.0029513109160531847), (2680, 0.045939175310472175), (2681, 0.0), (2682, 0.0347237386133746), (2683, 0.0), (2684, 0.0), (2685, 0.03221445715146621), (2686, 0.0), (2687, 0.0030685003331509413), (2688, 0.0), (2689, 0.015881792193296787), (2690, 0.0), (2691, 0.044525662652113385), (2692, 0.002708340354961457), (2693, 0.0), (2694, 0.0041545418288425695), (2695, 0.003122743097292303), (2696, 0.0036255947793007405), (2697, 0.0025533139259601343), (2698, 0.017635811091849026), (2699, 0.00934515120022013), (2700, 0.0), (2701, 0.0), (2702, 0.0035646764696854486), (2703, 0.06400200376170104), (2704, 0.0), (2705, 0.003377079916948453), (2706, 0.0076854466889961), (2707, 0.0036605169263170556), (2708, 0.0), (2709, 0.0), (2710, 0.025001199077862725), (2711, 0.0), (2712, 0.008637365221985537), (2713, 0.00486405931892807), (2714, 0.0033008384944877857), (2715, 0.0), (2716, 0.003004183712694314), (2717, 0.0), (2718, 0.0), (2719, 0.005269128993028802), (2720, 0.009474654662310332), (2721, 0.020672424209213728), (2722, 0.004378395629258415), (2723, 0.0033449459623696074), (2724, 0.01159542959487429), (2725, 0.06258710361437124), (2726, 0.0), (2727, 0.024863830412388477), (2728, 0.002838902627719749), (2729, 0.025482938524116525), (2730, 0.018407968472010483), (2731, 0.004186521892484499), (2732, 0.034576012487297546), (2733, 0.0), (2734, 0.003946295817661266), (2735, 0.0028796741334726726), (2736, 0.0), (2737, 0.0), (2738, 0.009539989330864756), (2739, 0.032713517513589155), (2740, 0.009102079205506965), (2741, 0.0028082183386367626), (2742, 0.02064480690330957), (2743, 0.05616173285692713), (2744, 0.0032324031193032487), (2745, 0.03967823017435832), (2746, 0.029214173415403236), (2747, 0.0027024941473471845), (2748, 0.003391537470529915), (2749, 0.013635145628095577), (2750, 0.0), (2751, 0.0), (2752, 0.002983071239958594), (2753, 0.033999232201369384), (2754, 0.0), (2755, 0.008548139436592182), (2756, 0.028858908929671166), (2757, 0.06061233439555075), (2758, 0.002648851451467507), (2759, 0.0), (2760, 0.002393877196825095), (2761, 0.00695662597374116), (2762, 0.0), (2763, 0.009697859869778482), (2764, 0.004443461763936372), (2765, 0.025669158942018475), (2766, 0.03510531889448017), (2767, 0.01460129596521406), (2768, 0.004433485072295915), (2769, 0.0036813191119441533), (2770, 0.0), (2771, 0.014488288197873896), (2772, 0.0036945679333103567), (2773, 0.0), (2774, 0.003967529556795728), (2775, 0.004234093342921125), (2776, 0.0033591225623312926), (2777, 0.02039320464204122), (2778, 0.003771289085810503), (2779, 0.017866095135764218), (2780, 0.0), (2781, 0.0), (2782, 0.0034718436912944154), (2783, 0.003138767169048019), (2784, 0.008262790769185326), (2785, 0.005684788572043589), (2786, 0.003339988697637289), (2787, 0.02114352356765453), (2788, 0.005054800493471568), (2789, 0.012453320886216432), (2790, 0.01575240190382637), (2791, 0.00910706876475361), (2792, 0.008564577482364088), (2793, 0.00995957238414811), (2794, 0.021401392677926408), (2795, 0.003938759321932917), (2796, 0.003569284057698576), (2797, 0.0038174944995538872), (2798, 0.013250991588937753), (2799, 0.011211376587770001), (2800, 0.0029466746645538354), (2801, 0.004259204083698753), (2802, 0.018300411630699603), (2803, 0.02614766324129311), (2804, 0.0), (2805, 0.004341773996358747), (2806, 0.0), (2807, 0.026184639038385783), (2808, 0.007833261121955325), (2809, 0.0264815501903113), (2810, 0.02245281314088633), (2811, 0.0243501259731876), (2812, 0.00761854616942228), (2813, 0.004975707851026893), (2814, 0.03570775816498533), (2815, 0.0), (2816, 0.005137404107876816), (2817, 0.01597546161581337), (2818, 0.006952960022528585), (2819, 0.0), (2820, 0.02441314995524266), (2821, 0.0033110440152625724), (2822, 0.0), (2823, 0.0), (2824, 0.0), (2825, 0.0), (2826, 0.013205966471190338), (2827, 0.0), (2828, 0.0), (2829, 0.004756980756892637), (2830, 0.019002972188193357), (2831, 0.0031224790259064225), (2832, 0.00409308383565995), (2833, 0.019365417835273756), (2834, 0.010029277456948583), (2835, 0.0), (2836, 0.0), (2837, 0.0), (2838, 0.003985877564641997), (2839, 0.009937407435497727), (2840, 0.009016238619864675), (2841, 0.015657007116442044), (2842, 0.004292774668847148), (2843, 0.0), (2844, 0.056268150484020216), (2845, 0.002870667905817934), (2846, 0.003649430834915947), (2847, 0.0), (2848, 0.0208416991919666), (2849, 0.0032972699557685756), (2850, 0.013870353938271072), (2851, 0.0), (2852, 0.024831287277023405), (2853, 0.0031032691341153825), (2854, 0.00897807654005415), (2855, 0.004210531697962348), (2856, 0.0), (2857, 0.0038499245001993227), (2858, 0.004420734915980422), (2859, 0.0076642236733410005), (2860, 0.0), (2861, 0.004134030206121045), (2862, 0.0314264947189613), (2863, 0.003215821119185161), (2864, 0.0), (2865, 0.0), (2866, 0.0), (2867, 0.015488403427958576), (2868, 0.0028855560020471464), (2869, 0.0), (2870, 0.004228041327882241), (2871, 0.0), (2872, 0.00359014473419542), (2873, 0.021489833521232703), (2874, 0.004608182995376763), (2875, 0.0), (2876, 0.002604852305573424), (2877, 0.026649308908808164), (2878, 0.07739148681262588), (2879, 0.003798330532446593), (2880, 0.0), (2881, 0.003532351200949859), (2882, 0.003389185661178623), (2883, 0.03431082782848983), (2884, 0.0036003993632169272), (2885, 0.0), (2886, 0.0029756007091248453), (2887, 0.0031602558246078883), (2888, 0.020273252805440158), (2889, 0.004293482138353462), (2890, 0.0034415595057412764), (2891, 0.0), (2892, 0.017182178383879244), (2893, 0.0035368932175003924), (2894, 0.060818182016854155), (2895, 0.03034867411384406), (2896, 0.0), (2897, 0.0047425275897513405), (2898, 0.016996353954428653), (2899, 0.007599300755896045), (2900, 0.054690218122443915), (2901, 0.004004380151553313), (2902, 0.0391297660645133), (2903, 0.003497629455599934), (2904, 0.013662691029645447), (2905, 0.0), (2906, 0.004371238183279581), (2907, 0.0028925766146572765), (2908, 0.0025063605457537235), (2909, 0.03833861953018358), (2910, 0.017710290555808673), (2911, 0.00841342444708857), (2912, 0.023036727638705512), (2913, 0.0), (2914, 0.0035272636021539774), (2915, 0.003391710107145358), (2916, 0.003493509726332771), (2917, 0.013448923072252374), (2918, 0.0), (2919, 0.0849176343125908), (2920, 0.0216668485338044), (2921, 0.0), (2922, 0.0), (2923, 0.004202297119096552), (2924, 0.0036171118461689068), (2925, 0.0025041490829792418), (2926, 0.003261787594044851), (2927, 0.0), (2928, 0.018020965998944014), (2929, 0.0044282758034297695), (2930, 0.0), (2931, 0.011804006518469216), (2932, 0.004123682089656896), (2933, 0.006865217416483339), (2934, 0.0031416191201130415), (2935, 0.04155530406064211), (2936, 0.0035306146783073704), (2937, 0.00447860508895357), (2938, 0.004648119739343579), (2939, 0.0), (2940, 0.008640519609909018), (2941, 0.0), (2942, 0.006995278313008702), (2943, 0.003107686318205053), (2944, 0.020646643796916192), (2945, 0.0030530028946542664), (2946, 0.01841842816206642), (2947, 0.0), (2948, 0.0), (2949, 0.025420234162748453), (2950, 0.0), (2951, 0.010939962819845743), (2952, 0.0), (2953, 0.0033012810042568033), (2954, 0.036365094177631244), (2955, 0.01425122193634116), (2956, 0.0), (2957, 0.0416343333097405), (2958, 0.0), (2959, 0.026963947638806267), (2960, 0.0), (2961, 0.0030699875709782496), (2962, 0.01898179497407398), (2963, 0.005301381569134293), (2964, 0.019342616693354603), (2965, 0.0029627233993709005), (2966, 0.0037914873168314912), (2967, 0.0), (2968, 0.015232941164841108), (2969, 0.006704789679920861), (2970, 0.003324405497519041), (2971, 0.0), (2972, 0.0029398647338152056), (2973, 0.0), (2974, 0.003501680247421433), (2975, 0.011464171316129756), (2976, 0.011767140949909221), (2977, 0.040216120107485466), (2978, 0.04495568979260875), (2979, 0.0), (2980, 0.0030588421762249404), (2981, 0.011147162285698356), (2982, 0.0), (2983, 0.026089865562989797), (2984, 0.0), (2985, 0.010884434363997088), (2986, 0.0036891680265903224), (2987, 0.003600643579193825), (2988, 0.01761048131876365), (2989, 0.004345910099643477), (2990, 0.0), (2991, 0.014141536218995924), (2992, 0.004629515235440794), (2993, 0.003761882169661777), (2994, 0.0), (2995, 0.0029559348387207824), (2996, 0.03711016643800801), (2997, 0.0029479329413495724), (2998, 0.0046822752750915065), (2999, 0.0031012101146882156), (3000, 0.003193338908489755), (3001, 0.0), (3002, 0.0), (3003, 0.0034646954042678916), (3004, 0.0038415230657204476), (3005, 0.0), (3006, 0.013998500594832717), (3007, 0.003331947402984583), (3008, 0.05973048858451183), (3009, 0.0), (3010, 0.012583282534939774), (3011, 0.004794539083735102), (3012, 0.0034967530657008627), (3013, 0.026838257529907802), (3014, 0.01766792499994961), (3015, 0.003952239951568753), (3016, 0.003201832799880941), (3017, 0.0), (3018, 0.019759507354945912), (3019, 0.0036307852552219327), (3020, 0.0037863088008579775), (3021, 0.0), (3022, 0.05575470089180477), (3023, 0.0), (3024, 0.0025800456083984904), (3025, 0.0), (3026, 0.02067753088923915), (3027, 0.011742392143174636), (3028, 0.007811967113944045), (3029, 0.0), (3030, 0.0042251654578696835), (3031, 0.003809896997320394), (3032, 0.0034910596432969135), (3033, 0.00496230541141944), (3034, 0.0), (3035, 0.0029691641594807214), (3036, 0.017793583391472186), (3037, 0.0032921685688882974), (3038, 0.0), (3039, 0.02141065917285752), (3040, 0.004355595418091007), (3041, 0.0), (3042, 0.02313499051614735), (3043, 0.014870290450482875), (3044, 0.020400702929158902), (3045, 0.0), (3046, 0.007928777394877157), (3047, 0.05852204875128033), (3048, 0.014783182106498698), (3049, 0.0), (3050, 0.002857493799533057), (3051, 0.004448906796620315), (3052, 0.004260087251918978), (3053, 0.004764736940493755), (3054, 0.0), (3055, 0.004244022583021062), (3056, 0.022443283817960034), (3057, 0.007583634980701489), (3058, 0.0), (3059, 0.0), (3060, 0.0), (3061, 0.0), (3062, 0.0034577985011518078), (3063, 0.0), (3064, 0.003393733281584515), (3065, 0.002649174587809379), (3066, 0.018485964375055827), (3067, 0.003081130799619319), (3068, 0.0), (3069, 0.02476000695567009), (3070, 0.013932044152760963), (3071, 0.007571926559567228), (3072, 0.0036249907071495588), (3073, 0.00979751325926028), (3074, 0.003826547415520396), (3075, 0.0030290860775877403), (3076, 0.004081763924979041), (3077, 0.020516962376197868), (3078, 0.0), (3079, 0.019051575093037273), (3080, 0.0), (3081, 0.003670514405518699), (3082, 0.04321040017809741), (3083, 0.0046155771333558256), (3084, 0.0033079330880336363), (3085, 0.013332054061172573), (3086, 0.0678836324503516), (3087, 0.0), (3088, 0.0), (3089, 0.0), (3090, 0.0), (3091, 0.0026105606707732647), (3092, 0.0), (3093, 0.0030694305462620123), (3094, 0.03981993061176153), (3095, 0.00334843563464675), (3096, 0.002711162348309879), (3097, 0.0034391315464021603), (3098, 0.0), (3099, 0.0), (3100, 0.009356878412124894), (3101, 0.014512470903050363), (3102, 0.0), (3103, 0.005245910711667441), (3104, 0.0), (3105, 0.0), (3106, 0.0), (3107, 0.0), (3108, 0.01624601008476475), (3109, 0.010668231394455626), (3110, 0.0), (3111, 0.007235345010413262), (3112, 0.0033537823657742), (3113, 0.0031811135246374153), (3114, 0.0), (3115, 0.0), (3116, 0.0278616225238237), (3117, 0.0), (3118, 0.0), (3119, 0.004275830643364505), (3120, 0.0028875499015200328), (3121, 0.03795971339154941), (3122, 0.03156017534329856), (3123, 0.003804287034644686), (3124, 0.02146232198446826), (3125, 0.008123945073985357), (3126, 0.0), (3127, 0.014512251767857655), (3128, 0.003931554270504927), (3129, 0.029127847470146614), (3130, 0.0), (3131, 0.0053120229393436415), (3132, 0.0), (3133, 0.004666895379502618), (3134, 0.0), (3135, 0.0), (3136, 0.009342529928852893), (3137, 0.005789517306976027), (3138, 0.0), (3139, 0.0336836957617744), (3140, 0.003925119123508885), (3141, 0.04471514723176141), (3142, 0.00686474562606098), (3143, 0.0), (3144, 0.007393835771829387), (3145, 0.006450584286078876), (3146, 0.0034886380790317504), (3147, 0.002903525640861175), (3148, 0.003531260255657963), (3149, 0.03920621955955902), (3150, 0.008458061727766052), (3151, 0.0077005974906730855), (3152, 0.010182899302341578), (3153, 0.003211647257789459), (3154, 0.0038173559419357145), (3155, 0.003140230864031909), (3156, 0.00964781276998241), (3157, 0.0034714963326834764), (3158, 0.0), (3159, 0.003860102045989541), (3160, 0.008798788203454212), (3161, 0.0), (3162, 0.0), (3163, 0.024202084623487833), (3164, 0.004204664396952378), (3165, 0.003582290300462651), (3166, 0.004326277945362741), (3167, 0.0027931348931816767), (3168, 0.015714574702522268), (3169, 0.0), (3170, 0.002967128715227583), (3171, 0.002966825915265245), (3172, 0.005781397999925431), (3173, 0.012936353356421848), (3174, 0.008062432748780539), (3175, 0.0), (3176, 0.0), (3177, 0.013256912297666842), (3178, 0.004931140464814038), (3179, 0.0), (3180, 0.0), (3181, 0.02173637441039975), (3182, 0.0031771577238766785), (3183, 0.02720598586513489), (3184, 0.014108804879649406), (3185, 0.05382738035142736), (3186, 0.003536405945529738), (3187, 0.003282104938961559), (3188, 0.010005512511784132), (3189, 0.0), (3190, 0.0), (3191, 0.0), (3192, 0.022837216652987588), (3193, 0.0046641093601142835), (3194, 0.032121538828265704), (3195, 0.003069289609166024), (3196, 0.0034973768802439445), (3197, 0.0), (3198, 0.0032219413300558124), (3199, 0.006260203287306395), (3200, 0.01537979863606839), (3201, 0.008851275826346495), (3202, 0.0), (3203, 0.0), (3204, 0.0), (3205, 0.022159520324889003), (3206, 0.015893012150804443), (3207, 0.011007770908185914), (3208, 0.0), (3209, 0.0), (3210, 0.013249959544905762), (3211, 0.02864388854834638), (3212, 0.0), (3213, 0.0), (3214, 0.002977580545200841), (3215, 0.0), (3216, 0.003103682184509538), (3217, 0.0), (3218, 0.008618383289406875), (3219, 0.00407592360547892), (3220, 0.0030482063496798982), (3221, 0.005553279339258536), (3222, 0.00827950016104163), (3223, 0.007607581951431824), (3224, 0.050253150087431205), (3225, 0.003196080488018954), (3226, 0.010303666942401448), (3227, 0.003144742381883314), (3228, 0.009810547412665451), (3229, 0.0144939996579649), (3230, 0.009332901572397943), (3231, 0.0044462203052363335), (3232, 0.01220173299773703), (3233, 0.008316504707625207), (3234, 0.014263435221178997), (3235, 0.014003286163309607), (3236, 0.0), (3237, 0.007984643057616023), (3238, 0.01122985936446946), (3239, 0.003932204537955499), (3240, 0.010825813346879265), (3241, 0.04864385772961174), (3242, 0.0032745129715822017), (3243, 0.002921144561462444), (3244, 0.014287333672960381), (3245, 0.0), (3246, 0.01735272669586419), (3247, 0.018696366270748815), (3248, 0.00347837185013923), (3249, 0.00390084228307945), (3250, 0.0), (3251, 0.0), (3252, 0.0025988363068671456), (3253, 0.023508030695720255), (3254, 0.010740437606936954), (3255, 0.0), (3256, 0.0), (3257, 0.0037581142823187364), (3258, 0.0033914666527205717), (3259, 0.0052363051970923035), (3260, 0.007931511415192827), (3261, 0.02795286971127501), (3262, 0.004013107861529653), (3263, 0.0), (3264, 0.019112885245625766), (3265, 0.010233553024035731), (3266, 0.0), (3267, 0.02100822219093488), (3268, 0.0029767765357581986), (3269, 0.0033737412978320004), (3270, 0.004932834975638334), (3271, 0.008734770875331943), (3272, 0.0), (3273, 0.0034722698461648405), (3274, 0.0035141333919479754), (3275, 0.015353111406367529), (3276, 0.004708098121686215), (3277, 0.026322599690379138), (3278, 0.002835961956976185), (3279, 0.0), (3280, 0.0046226001958666755), (3281, 0.0), (3282, 0.017035271040716022), (3283, 0.008234167358736295), (3284, 0.07077101105503594), (3285, 0.025794927704032966), (3286, 0.0), (3287, 0.0), (3288, 0.0), (3289, 0.0031963278225541096), (3290, 0.01757158376876428), (3291, 0.004191255967573777), (3292, 0.004071463086794729), (3293, 0.007651482508495273), (3294, 0.022897443477820426), (3295, 0.0045184403493446715), (3296, 0.003547328838176026), (3297, 0.023418788045919407), (3298, 0.0030127770291668824), (3299, 0.008032928966804083), (3300, 0.002930973748923761), (3301, 0.01863040822341662), (3302, 0.0038000867283054553), (3303, 0.008226598927517405), (3304, 0.011894320892448797), (3305, 0.0), (3306, 0.007411275404935208), (3307, 0.003622905890012573), (3308, 0.003692411655496562), (3309, 0.0), (3310, 0.0), (3311, 0.007312665870008821), (3312, 0.005766882382535802), (3313, 0.045521737258891706), (3314, 0.019849152945947943), (3315, 0.00297942464291358), (3316, 0.030213188352391868), (3317, 0.01068794190975628), (3318, 0.002810956571755705), (3319, 0.0), (3320, 0.004663341456068273), (3321, 0.0045940007531173116), (3322, 0.00401405796568147), (3323, 0.0), (3324, 0.0), (3325, 0.005572385763726837), (3326, 0.003303323643399762), (3327, 0.011704620869988417), (3328, 0.01882842817836576), (3329, 0.0028513134710104948), (3330, 0.00805648431801694), (3331, 0.0025998824949672017), (3332, 0.02250195024420009), (3333, 0.0), (3334, 0.0), (3335, 0.0031512600037411813), (3336, 0.007276248233729281), (3337, 0.04453066916506238), (3338, 0.0), (3339, 0.0), (3340, 0.0), (3341, 0.017122401179544344), (3342, 0.016808229486393753), (3343, 0.004960097240530604), (3344, 0.019589142831376773), (3345, 0.01159319621979826), (3346, 0.0031106047880865902), (3347, 0.011025080436280147), (3348, 0.003018341119078077), (3349, 0.00323579503122163), (3350, 0.021936532492353316), (3351, 0.003255135353784105), (3352, 0.00299930694919505), (3353, 0.0032425130632104506), (3354, 0.0039267289805949845), (3355, 0.003588185765155512), (3356, 0.0037448531791612616), (3357, 0.0665715295125147), (3358, 0.003786457509814731), (3359, 0.0036296778985264646), (3360, 0.025543360406015535), (3361, 0.004700088965254819), (3362, 0.006401363758855834), (3363, 0.0038897600716155997), (3364, 0.020895913691956643), (3365, 0.012764854058972661), (3366, 0.0), (3367, 0.02070470416835083), (3368, 0.02007476587597543), (3369, 0.0028768770915393233), (3370, 0.003027414017525361), (3371, 0.022899708699344445), (3372, 0.019655673000971915), (3373, 0.0035103820540065373), (3374, 0.008022748491027718), (3375, 0.0), (3376, 0.0069031665322454566), (3377, 0.05902090439946828), (3378, 0.015633687730159686), (3379, 0.003057791308127201), (3380, 0.002768635347578381), (3381, 0.0030816537238247455), (3382, 0.013706770695761292), (3383, 0.0), (3384, 0.01756448907129059), (3385, 0.0), (3386, 0.008191081604985282), (3387, 0.0), (3388, 0.013840038546760195), (3389, 0.007434931592601028), (3390, 0.012515663744507006), (3391, 0.022509981766945495), (3392, 0.008728101572779432), (3393, 0.006952691013054953), (3394, 0.0), (3395, 0.009202002658910807), (3396, 0.003597485198394259), (3397, 0.008911789238898071), (3398, 0.010330900796072936), (3399, 0.007552602416818648), (3400, 0.01959209095454777), (3401, 0.0), (3402, 0.003039298928213431), (3403, 0.011432504913129554), (3404, 0.0), (3405, 0.008513752956505695), (3406, 0.003291540266434665), (3407, 0.007589234190209067), (3408, 0.0036067673854095496), (3409, 0.024439401574025358), (3410, 0.0065052749928671445), (3411, 0.00435614515346532), (3412, 0.007884220130503786), (3413, 0.028575936603270367), (3414, 0.014607120757635851), (3415, 0.0), (3416, 0.0), (3417, 0.0034351008077726903), (3418, 0.002830438735282055), (3419, 0.003599304679282716), (3420, 0.013791175599733876), (3421, 0.009087807221712953), (3422, 0.0), (3423, 0.0035687163072275095), (3424, 0.016319731166926775), (3425, 0.003613848333279265), (3426, 0.009318152675265454), (3427, 0.0), (3428, 0.01441797529123638), (3429, 0.0), (3430, 0.015066648954422222), (3431, 0.0025045656407517354), (3432, 0.0), (3433, 0.0029367295519189545), (3434, 0.0033180890146428756), (3435, 0.008005441772173882), (3436, 0.025517585572781276), (3437, 0.003265073080762649), (3438, 0.015994250206949275), (3439, 0.0), (3440, 0.0), (3441, 0.003093278938680273), (3442, 0.0), (3443, 0.0), (3444, 0.005473044622212157), (3445, 0.019167039991477022), (3446, 0.005099140955096881), (3447, 0.007899371629952148), (3448, 0.02295271433948705), (3449, 0.0033702650067154094), (3450, 0.009388759102524739), (3451, 0.0), (3452, 0.002908306555806799), (3453, 0.011017694765182528), (3454, 0.029935090961135537), (3455, 0.002863754468608944), (3456, 0.03408785618180477), (3457, 0.005293307292550171), (3458, 0.012341652534357064), (3459, 0.004511602577892332), (3460, 0.02642093869463857), (3461, 0.0052924932745365425), (3462, 0.0), (3463, 0.00512182355721551), (3464, 0.020052708144683865), (3465, 0.004716068487812072), (3466, 0.020932838747142985), (3467, 0.0), (3468, 0.01079571071403737), (3469, 0.005560312378680092), (3470, 0.0), (3471, 0.002479845496971115), (3472, 0.0), (3473, 0.02347952557375401), (3474, 0.0028340385523729604), (3475, 0.0), (3476, 0.0), (3477, 0.008016081316573824), (3478, 0.0031189029648382915), (3479, 0.004165207904483756), (3480, 0.0), (3481, 0.004178717111579003), (3482, 0.0), (3483, 0.03691093940111665), (3484, 0.0041291315660581815), (3485, 0.0), (3486, 0.0), (3487, 0.0228743446443415), (3488, 0.0), (3489, 0.0), (3490, 0.009619316712125325), (3491, 0.04948761243780345), (3492, 0.022012586075835294), (3493, 0.0364880798612652), (3494, 0.0), (3495, 0.0), (3496, 0.003347836314860156), (3497, 0.003407721497613766), (3498, 0.002979975933626271), (3499, 0.003063964373755647), (3500, 0.017363456839920827), (3501, 0.003170332872854542), (3502, 0.006009715461682903), (3503, 0.002990713905471984), (3504, 0.007743050810595546), (3505, 0.0), (3506, 0.05508800659592138), (3507, 0.00514706903752749), (3508, 0.0), (3509, 0.026819992908667153), (3510, 0.0), (3511, 0.00328306392009998), (3512, 0.004782554993035582), (3513, 0.0), (3514, 0.0032560213408810708), (3515, 0.038643904836470795), (3516, 0.019686040092180314), (3517, 0.013600934274626929), (3518, 0.019854610088069536), (3519, 0.0), (3520, 0.0), (3521, 0.0038423318416858305), (3522, 0.0), (3523, 0.02447681878791078), (3524, 0.0036695527418323945), (3525, 0.013559284267690446), (3526, 0.008273102941728925), (3527, 0.019346051615633457), (3528, 0.0), (3529, 0.0), (3530, 0.0), (3531, 0.0), (3532, 0.0), (3533, 0.0), (3534, 0.03963269159970924), (3535, 0.0), (3536, 0.008387908937340066), (3537, 0.0038685148180066125), (3538, 0.014433092276203197), (3539, 0.023146177459779618), (3540, 0.0036376994965943332), (3541, 0.03506770301557137), (3542, 0.003191095607042547), (3543, 0.0), (3544, 0.00379649523955707), (3545, 0.0), (3546, 0.006031294913594951), (3547, 0.0), (3548, 0.002564818155985776), (3549, 0.005134917097140799), (3550, 0.04459812763751489), (3551, 0.07402395917453797), (3552, 0.005072564134093953), (3553, 0.003091110435067731), (3554, 0.01689369460873829), (3555, 0.0), (3556, 0.002788701274795869), (3557, 0.007927399696562594), (3558, 0.002879405127030202), (3559, 0.0), (3560, 0.0035043680405534568), (3561, 0.004227981189019894), (3562, 0.004782485147370087), (3563, 0.01649737204335464), (3564, 0.018171171863849683), (3565, 0.0030866850425812983), (3566, 0.0240819809655553), (3567, 0.02606085005267394), (3568, 0.0047617256451601905), (3569, 0.0427903503563611), (3570, 0.0), (3571, 0.003189253546929201), (3572, 0.024617970827528615), (3573, 0.0), (3574, 0.007693253923928721), (3575, 0.01922029697935558), (3576, 0.0), (3577, 0.009990504859267751), (3578, 0.006266921180603598), (3579, 0.00690035183622896), (3580, 0.0), (3581, 0.0), (3582, 0.0), (3583, 0.0), (3584, 0.023880284297178634), (3585, 0.0), (3586, 0.031142707662241205), (3587, 0.045437996362836394), (3588, 0.0), (3589, 0.019063118985340397), (3590, 0.0033130467776007143), (3591, 0.0), (3592, 0.04410476562138236), (3593, 0.0034816259611222676), (3594, 0.004945503852527543), (3595, 0.0), (3596, 0.0030866700622204308), (3597, 0.0), (3598, 0.004395243712246807), (3599, 0.008440706836752548), (3600, 0.0), (3601, 0.003326252565225068), (3602, 0.009849252487145119), (3603, 0.0), (3604, 0.0), (3605, 0.0), (3606, 0.003180032715995579), (3607, 0.0), (3608, 0.0020314915726727446), (3609, 0.0), (3610, 0.02234691323632302), (3611, 0.0035437657190323254), (3612, 0.022048132666937677), (3613, 0.003846951037877042), (3614, 0.00282303382583009), (3615, 0.00293703315539537), (3616, 0.06472051412781932), (3617, 0.016172014060772493), (3618, 0.019186762440611797), (3619, 0.019061170565415522), (3620, 0.003797856363844676), (3621, 0.003670029919360688), (3622, 0.0), (3623, 0.003217403614117916), (3624, 0.0030899946224949276), (3625, 0.0), (3626, 0.01388718407389685), (3627, 0.002885772429639315), (3628, 0.0), (3629, 0.002678550161759977), (3630, 0.0), (3631, 0.022921483806997735), (3632, 0.0), (3633, 0.054893104358540015), (3634, 0.0026370100344658633), (3635, 0.004216772418188397), (3636, 0.003214149074565098), (3637, 0.020709099074392535), (3638, 0.022567768094774045), (3639, 0.0035694837348399597), (3640, 0.04567000933580915), (3641, 0.027772138526716904), (3642, 0.014244350926475254), (3643, 0.029213337749280286), (3644, 0.028431295378630882), (3645, 0.0023508474324239284), (3646, 0.0076439667773968364), (3647, 0.0030685923093562552), (3648, 0.026526410506041945), (3649, 0.0), (3650, 0.005030964307557458), (3651, 0.009247792059167538), (3652, 0.0), (3653, 0.0031792976035286535), (3654, 0.019036732951568856), (3655, 0.01575276310972613), (3656, 0.032128233680917086), (3657, 0.0026319893081649622), (3658, 0.004172225972405491), (3659, 0.0), (3660, 0.0030076594475486017), (3661, 0.052553009397358665), (3662, 0.013948703025498537), (3663, 0.0), (3664, 0.0), (3665, 0.021987255577050478), (3666, 0.003238387926719562), (3667, 0.008565087701627287), (3668, 0.0068424790852245915), (3669, 0.002643119168146753), (3670, 0.0031455594925775083), (3671, 0.0), (3672, 0.004431883777774772), (3673, 0.033893904968438505), (3674, 0.004191184857420459), (3675, 0.0037178581577643277), (3676, 0.0), (3677, 0.029642719553139317), (3678, 0.041486455516831104), (3679, 0.0), (3680, 0.003526861825961671), (3681, 0.005511849448859512), (3682, 0.0), (3683, 0.0), (3684, 0.0043090233440100075), (3685, 0.0), (3686, 0.0), (3687, 0.0038955322411105054), (3688, 0.0), (3689, 0.008361674366011597), (3690, 0.0403491644150861), (3691, 0.002967773953087411), (3692, 0.003358132820213994), (3693, 0.0), (3694, 0.0033753621873477816), (3695, 0.03527780805403369), (3696, 0.012584280927122545), (3697, 0.015374535197666857), (3698, 0.011219965622614896), (3699, 0.0031856259034092663), (3700, 0.021120659509772224), (3701, 0.008287620614440334), (3702, 0.0), (3703, 0.020830321134973403), (3704, 0.0033704445658195026), (3705, 0.002822238655804266), (3706, 0.02804078546146027), (3707, 0.003174327058553575), (3708, 0.0), (3709, 0.00483938109728819), (3710, 0.0), (3711, 0.01837835498326982), (3712, 0.014191697904956994), (3713, 0.012491242922171682), (3714, 0.0034090562454830524), (3715, 0.0), (3716, 0.0), (3717, 0.0), (3718, 0.03983604674098306), (3719, 0.0030442169030810407), (3720, 0.004791463724454456), (3721, 0.0), (3722, 0.005104962968484485), (3723, 0.0), (3724, 0.005264654825063164), (3725, 0.0029040591444766365), (3726, 0.0), (3727, 0.003092357186095481), (3728, 0.003335153042213537), (3729, 0.003614521976121786), (3730, 0.01637773118615341), (3731, 0.004234273608778228), (3732, 0.009332382465894922), (3733, 0.002970454421679905), (3734, 0.002941661536646103), (3735, 0.0), (3736, 0.013988456871277751), (3737, 0.02656568230245408), (3738, 0.014265702404431113), (3739, 0.0081728897383897), (3740, 0.0), (3741, 0.039381386160581205), (3742, 0.03134138219649824), (3743, 0.010274844531200436), (3744, 0.0), (3745, 0.02982564490156249), (3746, 0.004887689638329171), (3747, 0.0), (3748, 0.012962787542597042), (3749, 0.02040608242886073), (3750, 0.006773773794763038), (3751, 0.010725401705644169), (3752, 0.008436223826773007), (3753, 0.0), (3754, 0.015233760913554028), (3755, 0.0027564604171305767), (3756, 0.0025511964989179737), (3757, 0.003364393762562025), (3758, 0.0), (3759, 0.03513607364101395), (3760, 0.0), (3761, 0.0), (3762, 0.004063273460449241), (3763, 0.040107366730437126), (3764, 0.0), (3765, 0.012675711685686302), (3766, 0.003719381544339009), (3767, 0.002865024621472687), (3768, 0.0), (3769, 0.0), (3770, 0.0032614861430467477), (3771, 0.026909786338927755), (3772, 0.0035492937243557657), (3773, 0.00979707539160755), (3774, 0.01494400802587603), (3775, 0.029457116816293087), (3776, 0.01760984733966134), (3777, 0.00854130472514993), (3778, 0.008397028143856653), (3779, 0.003766170738483643), (3780, 0.008631488439351478), (3781, 0.0033417538214151506), (3782, 0.016706246513206294), (3783, 0.014710121843472633), (3784, 0.007694636089654337), (3785, 0.0), (3786, 0.004763991197793553), (3787, 0.0), (3788, 0.009363438205933711), (3789, 0.0), (3790, 0.0), (3791, 0.0), (3792, 0.0031717634510045937), (3793, 0.0), (3794, 0.0), (3795, 0.0027899395454695766), (3796, 0.0), (3797, 0.0034513545195033342), (3798, 0.0), (3799, 0.017740771696050553), (3800, 0.0), (3801, 0.002794313913198584), (3802, 0.045207868572610714), (3803, 0.02379871589355764), (3804, 0.0034791614184484193), (3805, 0.0), (3806, 0.008450524290911594), (3807, 0.0031025425211972223), (3808, 0.0), (3809, 0.0031955246723689287), (3810, 0.005059376551454358), (3811, 0.002940223421429153), (3812, 0.0), (3813, 0.003403036971682214), (3814, 0.0), (3815, 0.0), (3816, 0.0), (3817, 0.005523239430648615), (3818, 0.004923889940833124), (3819, 0.00763283280575391), (3820, 0.0), (3821, 0.006779618541167319), (3822, 0.0090769267330366), (3823, 0.1290891370290792), (3824, 0.009560556603884593), (3825, 0.00896577965654806), (3826, 0.007771768300059552), (3827, 0.003058004446146442), (3828, 0.003944461863605373), (3829, 0.0028991993186404633), (3830, 0.0), (3831, 0.04513192650045093), (3832, 0.0038075193032337897), (3833, 0.0), (3834, 0.010717746101586611), (3835, 0.03005853915118487), (3836, 0.0), (3837, 0.0), (3838, 0.0), (3839, 0.002876770000328159), (3840, 0.06423002735645326), (3841, 0.01623263870299136), (3842, 0.0), (3843, 0.0), (3844, 0.012552409539072001), (3845, 0.0032531602129549585), (3846, 0.0), (3847, 0.0), (3848, 0.003956909112982071), (3849, 0.0), (3850, 0.0), (3851, 0.0), (3852, 0.004326230545331065), (3853, 0.0), (3854, 0.007475672189066439), (3855, 0.015358877502041804), (3856, 0.0), (3857, 0.008978876841838386), (3858, 0.02169699599297407), (3859, 0.0), (3860, 0.0), (3861, 0.0), (3862, 0.0032573598858009014), (3863, 0.0028026349768852346), (3864, 0.0), (3865, 0.004427943307799924), (3866, 0.02540498834265), (3867, 0.0035430802405461083), (3868, 0.0077350299312584705), (3869, 0.02196129821514919), (3870, 0.015662852681836273), (3871, 0.0), (3872, 0.0), (3873, 0.01404590407986593), (3874, 0.0038139010795792544), (3875, 0.010606397542904634), (3876, 0.0028629419553310976), (3877, 0.04491050701827425), (3878, 0.0356066133411345), (3879, 0.0), (3880, 0.0027210552269390544), (3881, 0.009552511427750552), (3882, 0.003282508196888644), (3883, 0.00355517928112093), (3884, 0.04056073797817826), (3885, 0.0), (3886, 0.004768344990843857), (3887, 0.0), (3888, 0.0030859863080969696), (3889, 0.003382491597027141), (3890, 0.0126245087153892), (3891, 0.004701929329736454), (3892, 0.004054455144194831), (3893, 0.003369340799616595), (3894, 0.007089855950141806), (3895, 0.0027302595727962506), (3896, 0.0), (3897, 0.005264251842324269), (3898, 0.0029597206793840272), (3899, 0.009474272244359327), (3900, 0.0029991046437834235), (3901, 0.003761389522484458), (3902, 0.003245132061775594), (3903, 0.07562763792877825), (3904, 0.0033359879099191282), (3905, 0.04538714554064768), (3906, 0.003068606336515411), (3907, 0.010302570616351404), (3908, 0.010148731797333775), (3909, 0.004632420329504872), (3910, 0.0027381907122803447), (3911, 0.020402702684804264), (3912, 0.014257767840290318), (3913, 0.002879361444259706), (3914, 0.00869239121973387), (3915, 0.01854591697006717), (3916, 0.0), (3917, 0.007776416341259331), (3918, 0.0), (3919, 0.04816931812632377), (3920, 0.008373449594504588), (3921, 0.011442635252068241), (3922, 0.003850195078079051), (3923, 0.0), (3924, 0.01434438458929663), (3925, 0.03773960156628715), (3926, 0.004973097479125492), (3927, 0.006728719833715685), (3928, 0.00675268389508739), (3929, 0.0), (3930, 0.015510598546428766), (3931, 0.0), (3932, 0.005753309918087559), (3933, 0.0), (3934, 0.0), (3935, 0.003675151289567443), (3936, 0.0), (3937, 0.046720351400286256), (3938, 0.0), (3939, 0.03168699564586392), (3940, 0.0), (3941, 0.0029227290728740547), (3942, 0.0387207000685179), (3943, 0.0), (3944, 0.004002335868255893), (3945, 0.009081905290825941), (3946, 0.0), (3947, 0.0), (3948, 0.0), (3949, 0.0), (3950, 0.0), (3951, 0.00943265013674013), (3952, 0.0035767004536425232), (3953, 0.0028377552317985517), (3954, 0.002943549944932942), (3955, 0.004954858207014782), (3956, 0.002779864697577408), (3957, 0.006663239992050493), (3958, 0.0), (3959, 0.008372906869377566), (3960, 0.009164760976816516), (3961, 0.0034424956808831717), (3962, 0.0035028390329623193), (3963, 0.0049279527852144865), (3964, 0.0), (3965, 0.020748954065344462), (3966, 0.004630656001601957), (3967, 0.0034478115363351376), (3968, 0.014655264736133029), (3969, 0.005216031529516954), (3970, 0.009497522292287635), (3971, 0.0), (3972, 0.01598442980573601), (3973, 0.003320671241933271), (3974, 0.00280718915815188), (3975, 0.01819039499061924), (3976, 0.0), (3977, 0.044590726673755264), (3978, 0.002974867532530259), (3979, 0.0), (3980, 0.033016864194351694), (3981, 0.0), (3982, 0.0), (3983, 0.00605627048521748), (3984, 0.0032800588961045003), (3985, 0.0), (3986, 0.016286472284682454), (3987, 0.1231787948941425), (3988, 0.0), (3989, 0.0), (3990, 0.0043049741161299586), (3991, 0.0), (3992, 0.003525528272296626), (3993, 0.012894072311834695), (3994, 0.004825054580408897), (3995, 0.0), (3996, 0.0), (3997, 0.0), (3998, 0.06130381750172154), (3999, 0.0038403450612099353), (4000, 0.013029358661124936), (4001, 0.04800600358702722), (4002, 0.02102131518123017), (4003, 0.0), (4004, 0.003162989000106149), (4005, 0.014036027960121388), (4006, 0.004962194546038537), (4007, 0.00706000508226506), (4008, 0.0), (4009, 0.004587693927660514), (4010, 0.0), (4011, 0.017576661139460686), (4012, 0.004686015518408138), (4013, 0.008801324807200642), (4014, 0.0031556974056875524), (4015, 0.014860028487767737), (4016, 0.00311030886942402), (4017, 0.004232380721223287), (4018, 0.011894775007965638), (4019, 0.004043101590632963), (4020, 0.00305977827293021), (4021, 0.0), (4022, 0.0), (4023, 0.029340117245101542), (4024, 0.03705351421793718), (4025, 0.013537760387554412), (4026, 0.0), (4027, 0.0), (4028, 0.0), (4029, 0.0), (4030, 0.0036505563195049734), (4031, 0.0058041416769714135), (4032, 0.02102009456025397), (4033, 0.03590246698048042), (4034, 0.0), (4035, 0.0), (4036, 0.003047441864928576), (4037, 0.033605551643360224), (4038, 0.008642491691342461), (4039, 0.0), (4040, 0.0), (4041, 0.0), (4042, 0.0188585838220102), (4043, 0.0), (4044, 0.0), (4045, 0.0), (4046, 0.0034191529354558117), (4047, 0.0), (4048, 0.0034143750708749477), (4049, 0.0031653421443992684), (4050, 0.0), (4051, 0.003479591272638199), (4052, 0.0032962991394619905), (4053, 0.0028300629648511455), (4054, 0.0033071218933652274), (4055, 0.02760215501063648), (4056, 0.016982321872061522), (4057, 0.01827632214824807), (4058, 0.0), (4059, 0.007559900804928786), (4060, 0.0030986773730592738), (4061, 0.0351346579325542), (4062, 0.009791412189546551), (4063, 0.0), (4064, 0.00550799920996515), (4065, 0.0), (4066, 0.0027389867747269992), (4067, 0.0), (4068, 0.008212768951171326), (4069, 0.02775241820167132), (4070, 0.009932066211245599), (4071, 0.0), (4072, 0.0), (4073, 0.0), (4074, 0.04146795472795397), (4075, 0.003639243627856007), (4076, 0.06662951339768447), (4077, 0.05096280038637286), (4078, 0.011115033718064663), (4079, 0.003233184392797215), (4080, 0.0027964887648429058), (4081, 0.0031361581885654475), (4082, 0.004405987616721348), (4083, 0.003256163354420391), (4084, 0.017945070398901614), (4085, 0.0029684854940281663), (4086, 0.0), (4087, 0.014279604491816266), (4088, 0.010265329536787627), (4089, 0.003247464099847229), (4090, 0.0), (4091, 0.01646196954056914), (4092, 0.0035295343870321576), (4093, 0.0), (4094, 0.0), (4095, 0.0026468730820171935), (4096, 0.019263742838891894), (4097, 0.015282923559625076), (4098, 0.003197006496885792), (4099, 0.004963807821973741), (4100, 0.016292118828553043), (4101, 0.07269497860564846), (4102, 0.003960045930919276), (4103, 0.031080115776473696), (4104, 0.002764554246010065), (4105, 0.0), (4106, 0.008890416841825888), (4107, 0.003851177713400346), (4108, 0.08038586012095122), (4109, 0.00449257516228681), (4110, 0.008813224561167803), (4111, 0.0033388380886029026), (4112, 0.004846421477927262), (4113, 0.003464185150995779), (4114, 0.0), (4115, 0.027892917513114658), (4116, 0.02764224073278885), (4117, 0.04405505708847202), (4118, 0.010708541478886217), (4119, 0.02217019651828883), (4120, 0.005534455009264155), (4121, 0.005647164454266297), (4122, 0.0), (4123, 0.0032931519751273827), (4124, 0.007649276945854083), (4125, 0.0), (4126, 0.0036292753604257578), (4127, 0.0), (4128, 0.0), (4129, 0.003018872408133195), (4130, 0.0034089333190234217), (4131, 0.0), (4132, 0.027291355005842854), (4133, 0.0034008088974247465), (4134, 0.0), (4135, 0.008198678354711888), (4136, 0.018856365343831227), (4137, 0.008158217224181967), (4138, 0.0034570729440931303), (4139, 0.00301178038534571), (4140, 0.0034077577153684116), (4141, 0.0027808284587680795), (4142, 0.02182992069530855), (4143, 0.04932560580585803), (4144, 0.018267337798407845), (4145, 0.021984588356624948), (4146, 0.0), (4147, 0.0037976597768829288), (4148, 0.0), (4149, 0.0), (4150, 0.011370651829752805), (4151, 0.005358691053180427), (4152, 0.007712805045332288), (4153, 0.0), (4154, 0.0028182742587298747), (4155, 0.0077230056518416655), (4156, 0.00708627029991862), (4157, 0.004865560505308296), (4158, 0.0042631973620682094), (4159, 0.0), (4160, 0.0034968709788797186), (4161, 0.0033553150606050203), (4162, 0.0), (4163, 0.003615994952712615), (4164, 0.019840944087624914), (4165, 0.009237444744966199), (4166, 0.0), (4167, 0.0), (4168, 0.010244685706061884), (4169, 0.04187382307067993), (4170, 0.0), (4171, 0.005713294731452085), (4172, 0.004123230430004651), (4173, 0.0), (4174, 0.007440680783308352), (4175, 0.013987218660676856), (4176, 0.007433360377744781), (4177, 0.0), (4178, 0.026622795302160527), (4179, 0.0), (4180, 0.0), (4181, 0.011041402192865342), (4182, 0.00996593134942899), (4183, 0.0030250267120826573), (4184, 0.010057806095913571), (4185, 0.0), (4186, 0.01988758719320121), (4187, 0.003538894012024087), (4188, 0.0), (4189, 0.00826904353541793), (4190, 0.0), (4191, 0.0), (4192, 0.01263623371822422), (4193, 0.0), (4194, 0.018350202772082554), (4195, 0.0), (4196, 0.0), (4197, 0.0031795422154186925), (4198, 0.0), (4199, 0.0), (4200, 0.035706213900582484), (4201, 0.035725738202745945), (4202, 0.0043611068828639625), (4203, 0.009370555855341151), (4204, 0.0), (4205, 0.016090330181692574), (4206, 0.023599482549750417), (4207, 0.0), (4208, 0.0), (4209, 0.01609638904922261), (4210, 0.005036145843472604), (4211, 0.0), (4212, 0.0), (4213, 0.002965731451081854), (4214, 0.0), (4215, 0.0), (4216, 0.0), (4217, 0.00479556909151768), (4218, 0.004856686517091651), (4219, 0.0), (4220, 0.002751414689877947), (4221, 0.0041699611196641334), (4222, 0.004182886404338591), (4223, 0.0), (4224, 0.0), (4225, 0.01792368937033991), (4226, 0.05478705742300739), (4227, 0.0), (4228, 0.01848987802981672), (4229, 0.0), (4230, 0.003996261407501201), (4231, 0.0033270293670333915), (4232, 0.00271144430931549), (4233, 0.0), (4234, 0.0), (4235, 0.0), (4236, 0.0), (4237, 0.0), (4238, 0.0), (4239, 0.0), (4240, 0.05783287680057247), (4241, 0.0203353660965425), (4242, 0.010042988059209675), (4243, 0.0035506184678927278), (4244, 0.0035730684398013247), (4245, 0.05185989923846905), (4246, 0.002953065029751778), (4247, 0.011545387139498396), (4248, 0.0), (4249, 0.003218049754624094), (4250, 0.0), (4251, 0.0), (4252, 0.004777102072728809), (4253, 0.0), (4254, 0.00292849751457199), (4255, 0.03478287393134275), (4256, 0.0), (4257, 0.007615373489482767), (4258, 0.0), (4259, 0.0034643736668090994), (4260, 0.0), (4261, 0.0), (4262, 0.00839277405085247), (4263, 0.0034351818466676087), (4264, 0.0), (4265, 0.010509294819347714), (4266, 0.013254956737385908), (4267, 0.04051650271859721), (4268, 0.0031062993684597144), (4269, 0.0086711906251929), (4270, 0.0), (4271, 0.006143734611033394), (4272, 0.019506632221174935), (4273, 0.019151807616881972), (4274, 0.0), (4275, 0.0), (4276, 0.0), (4277, 0.00285676896032428), (4278, 0.0), (4279, 0.004748042108971602), (4280, 0.08001137805223854), (4281, 0.005738528739346734), (4282, 0.045295791258167385), (4283, 0.008240392794984699), (4284, 0.007931923378876252), (4285, 0.02425921590468167), (4286, 0.0032975180585539526), (4287, 0.0032222080851119763), (4288, 0.006346300154707402), (4289, 0.023666436418682085), (4290, 0.008962560046780269), (4291, 0.0), (4292, 0.014115777540071352), (4293, 0.0034803071726442333), (4294, 0.0), (4295, 0.003560953229435495), (4296, 0.002716690871408457), (4297, 0.04391746560308305), (4298, 0.003826306091883818), (4299, 0.0030447009222248963), (4300, 0.0), (4301, 0.0023139765131080466), (4302, 0.0), (4303, 0.0), (4304, 0.002799233955906208), (4305, 0.009305649039315701), (4306, 0.00385595821334039), (4307, 0.0), (4308, 0.003420311032372022), (4309, 0.024746811357595253), (4310, 0.0), (4311, 0.0025339344091760696), (4312, 0.0737001752211973), (4313, 0.02425692957444173), (4314, 0.0), (4315, 0.0), (4316, 0.0), (4317, 0.0), (4318, 0.0032957002717845484), (4319, 0.0), (4320, 0.025290179776134195), (4321, 0.002969325503195794), (4322, 0.0), (4323, 0.0), (4324, 0.0), (4325, 0.012944372948740969), (4326, 0.04425330977015318), (4327, 0.0), (4328, 0.009276720838785148), (4329, 0.0), (4330, 0.00808852313500702), (4331, 0.0), (4332, 0.010773350037628972), (4333, 0.019213162371615602), (4334, 0.0032235430015935904), (4335, 0.0), (4336, 0.06327237551431097), (4337, 0.0), (4338, 0.06845673072722173), (4339, 0.03399710309411241), (4340, 0.024606049873155015), (4341, 0.0), (4342, 0.004575323516336874), (4343, 0.0027587145455399567), (4344, 0.011154595565988032), (4345, 0.062134579056044484), (4346, 0.023983160046869192), (4347, 0.0), (4348, 0.007434244150141935), (4349, 0.003066845769124956), (4350, 0.0028111958005212446), (4351, 0.005324578277322296), (4352, 0.0), (4353, 0.004311848439498283), (4354, 0.003262697541915833), (4355, 0.013994079363819866), (4356, 0.012216433432163946), (4357, 0.0033246182204099374), (4358, 0.0), (4359, 0.00284745855150369), (4360, 0.0), (4361, 0.0032448873729740545), (4362, 0.0030538792316199184), (4363, 0.008466828206975686), (4364, 0.0), (4365, 0.0), (4366, 0.009006700951216274), (4367, 0.0), (4368, 0.00909815097964791), (4369, 0.0035882242144643526), (4370, 0.0), (4371, 0.00334455812546465), (4372, 0.07692460567180298), (4373, 0.0037376841079188234), (4374, 0.02189519665803891), (4375, 0.0), (4376, 0.01536033273059349), (4377, 0.0), (4378, 0.0), (4379, 0.008375808512123372), (4380, 0.03230375391811194), (4381, 0.0030236474738266276), (4382, 0.003015862138751299), (4383, 0.014004433575565967), (4384, 0.0), (4385, 0.0), (4386, 0.0026899129133601363), (4387, 0.007882514592525171), (4388, 0.005105937313493276), (4389, 0.0), (4390, 0.016207234033021423), (4391, 0.003151949334138175), (4392, 0.0), (4393, 0.0), (4394, 0.008021871812292249), (4395, 0.0176094040009979), (4396, 0.014696464605366246), (4397, 0.0034711027731904277), (4398, 0.0036039555462592625), (4399, 0.01233237297918643), (4400, 0.003975890862578275), (4401, 0.0034846447413191908), (4402, 0.0074750367934629525), (4403, 0.06697767802601404), (4404, 0.0), (4405, 0.0), (4406, 0.005251811894964031), (4407, 0.004079595603193775), (4408, 0.0), (4409, 0.0031004453260003923), (4410, 0.0), (4411, 0.002671963034404152), (4412, 0.0036535258372401482), (4413, 0.0), (4414, 0.003762952052974569), (4415, 0.0), (4416, 0.003671245475237537), (4417, 0.0), (4418, 0.004096224944147547), (4419, 0.0032514524591087737), (4420, 0.0032887250074594187), (4421, 0.014568100262307291), (4422, 0.0032230590745351353), (4423, 0.0040443496649533615), (4424, 0.0), (4425, 0.0), (4426, 0.0), (4427, 0.0031153951776453632), (4428, 0.02879011198811009), (4429, 0.0027080096622037865), (4430, 0.003265459008376269), (4431, 0.013955259898424369), (4432, 0.030513349708421462), (4433, 0.0), (4434, 0.0), (4435, 0.01715604392126252), (4436, 0.016155375841738227), (4437, 0.0), (4438, 0.004760160953332694), (4439, 0.02866925181052412), (4440, 0.0), (4441, 0.014231935709896965), (4442, 0.021377609279968277), (4443, 0.003820716085249963), (4444, 0.010589614635321024), (4445, 0.02575837803216704), (4446, 0.003421378306475676), (4447, 0.0), (4448, 0.04101853110321464), (4449, 0.005825797062555022), (4450, 0.0132809001016433), (4451, 0.0), (4452, 0.015784975514065897), (4453, 0.0), (4454, 0.005728169348898323), (4455, 0.0), (4456, 0.0), (4457, 0.0), (4458, 0.003719767413402367), (4459, 0.009553267200068468), (4460, 0.005628106996981001), (4461, 0.0030025242804186092), (4462, 0.005610953940084809), (4463, 0.011118716190515212), (4464, 0.017744635327649354), (4465, 0.003574487874459946), (4466, 0.014531927047730889), (4467, 0.019544269254552257), (4468, 0.06285109577310584), (4469, 0.0038968599710433433), (4470, 0.003215548909346771), (4471, 0.0033073813459852724), (4472, 0.017497319926041015), (4473, 0.007040649125442588), (4474, 0.0032839460385594753), (4475, 0.002804662300303856), (4476, 0.002668844584257907), (4477, 0.009444441265465517), (4478, 0.0), (4479, 0.002872544055191247), (4480, 0.0), (4481, 0.004743905132765241), (4482, 0.014859505424269542), (4483, 0.0), (4484, 0.004158370913286285), (4485, 0.0), (4486, 0.0051464221515957025), (4487, 0.0030727718823421227), (4488, 0.012099070058984916), (4489, 0.0033078801844236157), (4490, 0.003698772475474457), (4491, 0.0), (4492, 0.005333684270715357), (4493, 0.04889568034519417), (4494, 0.06695266193780525), (4495, 0.02715758121143096), (4496, 0.0), (4497, 0.0032653353873256783), (4498, 0.0), (4499, 0.0), (4500, 0.0), (4501, 0.018908440795944118), (4502, 0.0028485749002374224), (4503, 0.018255326757657134), (4504, 0.027754056210090056), (4505, 0.0033013422735725813), (4506, 0.0), (4507, 0.019612078166366634), (4508, 0.016272436555635653), (4509, 0.0), (4510, 0.0), (4511, 0.008040451391166983), (4512, 0.0), (4513, 0.0), (4514, 0.0), (4515, 0.00552502056870376), (4516, 0.0035764379082809826), (4517, 0.035072382025959845), (4518, 0.0), (4519, 0.0), (4520, 0.0030875061593834217), (4521, 0.023360377407625976), (4522, 0.003398894211324024), (4523, 0.007733229551827827), (4524, 0.005925038033264922), (4525, 0.012779662006816407), (4526, 0.0), (4527, 0.0), (4528, 0.04277502472245131), (4529, 0.004181802058842597), (4530, 0.0030502583250107433), (4531, 0.02006012393336834), (4532, 0.0), (4533, 0.01747490407478228), (4534, 0.013573195942403625), (4535, 0.003490885650698649), (4536, 0.002979771002172998), (4537, 0.0), (4538, 0.0), (4539, 0.03347835062494589), (4540, 0.0033512519512247036), (4541, 0.008109805615736734), (4542, 0.0), (4543, 0.0), (4544, 0.003890770233915381), (4545, 0.0033751324305544158), (4546, 0.00403149728132546), (4547, 0.0), (4548, 0.004654324252979538), (4549, 0.005507977074292631), (4550, 0.007836965102851472), (4551, 0.014441387463095482), (4552, 0.0), (4553, 0.008758796338394584), (4554, 0.0037074277431214555), (4555, 0.004700628187960362), (4556, 0.0), (4557, 0.0), (4558, 0.04004045985396414), (4559, 0.0), (4560, 0.0), (4561, 0.0), (4562, 0.0), (4563, 0.003198201375801049), (4564, 0.004780719661940975), (4565, 0.0), (4566, 0.04643457536355074), (4567, 0.002980854545423348), (4568, 0.00928169602715899), (4569, 0.0), (4570, 0.0), (4571, 0.004955996471437775), (4572, 0.003827798943239245), (4573, 0.0030235074278147644), (4574, 0.0033394682962152467), (4575, 0.026826893681147483), (4576, 0.042971679011575864), (4577, 0.03790839247875961), (4578, 0.0), (4579, 0.003361780117091757), (4580, 0.0), (4581, 0.0), (4582, 0.0), (4583, 0.0), (4584, 0.003666715835652276), (4585, 0.0), (4586, 0.016240545626583777), (4587, 0.020706247950735356), (4588, 0.0), (4589, 0.015273470600076073), (4590, 0.021204599363147784), (4591, 0.0029007423201264987), (4592, 0.00494974414097315), (4593, 0.01460662541066831), (4594, 0.02132051185153847), (4595, 0.01083891570419031), (4596, 0.008752226972735939), (4597, 0.0), (4598, 0.00244686476401007), (4599, 0.0), (4600, 0.004543783985499756), (4601, 0.014377745354801769), (4602, 0.01441214839071039), (4603, 0.0029093038554294727), (4604, 0.008127680717402736), (4605, 0.0034644144116080474), (4606, 0.003948514024711095), (4607, 0.01907469200192954), (4608, 0.00276772138299583), (4609, 0.0), (4610, 0.0026175876161137245), (4611, 0.0041572225094831375), (4612, 0.01006383501882313), (4613, 0.01586016473922023), (4614, 0.002979099795670356), (4615, 0.01359457589156208), (4616, 0.0028810941677754292), (4617, 0.00426566859706337), (4618, 0.0194958661258824), (4619, 0.003441185474023437), (4620, 0.012002012440029556), (4621, 0.005188393036935287), (4622, 0.0), (4623, 0.0), (4624, 0.01368352276261654), (4625, 0.0032383905757731707), (4626, 0.002521601545481161), (4627, 0.002676215972511397), (4628, 0.0), (4629, 0.04097356664482421), (4630, 0.0), (4631, 0.0), (4632, 0.003677002839219887), (4633, 0.040969947960932056), (4634, 0.007543278584573564), (4635, 0.029246410872582423), (4636, 0.0026301624058007213), (4637, 0.0037008827211561885), (4638, 0.002845061427187933), (4639, 0.0), (4640, 0.003124663756895159), (4641, 0.0030467862001909915), (4642, 0.0), (4643, 0.0032081949218677364), (4644, 0.0), (4645, 0.0), (4646, 0.01910211352371321), (4647, 0.004489759432023842), (4648, 0.0), (4649, 0.007424039212708998), (4650, 0.0035943347218571117), (4651, 0.0), (4652, 0.017630613933514533), (4653, 0.0), (4654, 0.0), (4655, 0.0), (4656, 0.010801517715917933), (4657, 0.0033543802607416463), (4658, 0.012545208569267875), (4659, 0.016167395883507102), (4660, 0.022320670388209913), (4661, 0.0027646355630951327), (4662, 0.033586043337021164), (4663, 0.0), (4664, 0.009245387933676083), (4665, 0.0), (4666, 0.0), (4667, 0.0), (4668, 0.0030731595246836956), (4669, 0.003396895031613119), (4670, 0.0029875988290949318), (4671, 0.0), (4672, 0.0), (4673, 0.003020796200051037), (4674, 0.018525944610719318), (4675, 0.020594466450015954), (4676, 0.01692914793334687), (4677, 0.0031523636355858605), (4678, 0.024501535612167807), (4679, 0.011472257083378979), (4680, 0.003334706246580206), (4681, 0.0), (4682, 0.009635628827492157), (4683, 0.0), (4684, 0.014241595858447736), (4685, 0.007936696021447658), (4686, 0.02893151828822027), (4687, 0.007904525861611219), (4688, 0.0), (4689, 0.004530582964675092), (4690, 0.0), (4691, 0.0), (4692, 0.0038932307346711474), (4693, 0.0030296065294393754), (4694, 0.003664612237565562), (4695, 0.005232666874147752), (4696, 0.0040860094810172476), (4697, 0.0), (4698, 0.0), (4699, 0.0035189938730255345), (4700, 0.0), (4701, 0.01565574282366681), (4702, 0.045846757218236084), (4703, 0.0), (4704, 0.00426079384063684), (4705, 0.004459212294014093), (4706, 0.0034650606312261654), (4707, 0.0), (4708, 0.0), (4709, 0.0), (4710, 0.0039423569163631374), (4711, 0.0), (4712, 0.0028096212714502043), (4713, 0.0036104794013714055), (4714, 0.0), (4715, 0.003126942018719048), (4716, 0.0), (4717, 0.02016138649844425), (4718, 0.0034979417218048143), (4719, 0.006040608999877848), (4720, 0.0), (4721, 0.0), (4722, 0.03364010533707417), (4723, 0.0038133720715065426), (4724, 0.0038446818845733212), (4725, 0.0), (4726, 0.0), (4727, 0.0), (4728, 0.0), (4729, 0.002995864239202657), (4730, 0.0), (4731, 0.0035312471940608255), (4732, 0.008817289879681623), (4733, 0.028629533914733885), (4734, 0.003370564278951853), (4735, 0.0036906882904359237), (4736, 0.010010825400189846), (4737, 0.0), (4738, 0.0), (4739, 0.006360080913309721), (4740, 0.0), (4741, 0.0), (4742, 0.0), (4743, 0.0030431692849133066), (4744, 0.002528345982530772), (4745, 0.0), (4746, 0.0), (4747, 0.011528185372570585), (4748, 0.007001300431344075), (4749, 0.004185669144913712), (4750, 0.0), (4751, 0.0), (4752, 0.016962563736693394), (4753, 0.003556404544985875), (4754, 0.0), (4755, 0.004995241774998501), (4756, 0.0032372967603487754), (4757, 0.0032752963750890354), (4758, 0.0), (4759, 0.0)]\n"
          ]
        }
      ]
    },
    {
      "cell_type": "code",
      "source": [
        "len(Recommendation_Score)"
      ],
      "metadata": {
        "colab": {
          "base_uri": "https://localhost:8080/"
        },
        "id": "FqPNrm7l_gbt",
        "outputId": "f0ec2d7c-594d-49c5-86e3-4a33161c8168"
      },
      "execution_count": 29,
      "outputs": [
        {
          "output_type": "execute_result",
          "data": {
            "text/plain": [
              "4760"
            ]
          },
          "metadata": {},
          "execution_count": 29
        }
      ]
    },
    {
      "cell_type": "markdown",
      "source": [
        "# **Get all Movies sort based on Recommendation Score wrt  Favourite Movie**"
      ],
      "metadata": {
        "id": "AY1ME6bh8UBH"
      }
    },
    {
      "cell_type": "code",
      "source": [
        "Sorted_Similar_Movies=sorted(Recommendation_Score,key=lambda x:x[1],reverse=True)\n",
        "print(Sorted_Similar_Movies)"
      ],
      "metadata": {
        "colab": {
          "base_uri": "https://localhost:8080/"
        },
        "id": "mde1FJ7LCSdS",
        "outputId": "cc45194a-3759-4445-b243-7f0fe7090ea5"
      },
      "execution_count": 30,
      "outputs": [
        {
          "output_type": "stream",
          "name": "stdout",
          "text": [
            "[(12, 1.0000000000000004), (109, 0.27039884280217236), (251, 0.2558709081964983), (111, 0.17172562311982126), (112, 0.1642250572370629), (353, 0.14944504251289242), (950, 0.1371035139824308), (1748, 0.13194182692316098), (3823, 0.1290891370290792), (2027, 0.12655432850751958), (3987, 0.1231787948941425), (1533, 0.12220009955331856), (1410, 0.1217549241099622), (3, 0.12113761972627259), (2502, 0.11498163219140066), (1728, 0.11354787113688039), (1937, 0.11224356527811517), (1475, 0.11211382014273256), (287, 0.11103078888892327), (595, 0.10989125671281569), (1250, 0.10730475808720989), (2070, 0.10728829492459037), (1754, 0.10436451244125716), (613, 0.10377226288757163), (767, 0.1033595376333984), (609, 0.10176577049833248), (684, 0.09932738284053746), (2305, 0.09913885078554319), (949, 0.09891695124124568), (2482, 0.09707115873138722), (106, 0.0965561329518462), (387, 0.09061835549730557), (317, 0.0905693534152036), (1707, 0.0902632263571132), (481, 0.08693279512222804), (2919, 0.0849176343125908), (467, 0.08290499675382135), (1860, 0.08280876490358036), (2483, 0.08178710988845284), (2647, 0.08151059346440581), (981, 0.0809718628879715), (4108, 0.08038586012095122), (4280, 0.08001137805223854), (2540, 0.0792590367657162), (1179, 0.07883541855445007), (374, 0.07839865183050371), (43, 0.07758568608701158), (371, 0.07753485078511826), (2878, 0.07739148681262588), (1358, 0.07726906668990002), (4372, 0.07692460567180298), (1638, 0.07603687817564024), (3903, 0.07562763792877825), (1968, 0.07543032485770326), (220, 0.07417583575148032), (1257, 0.07405850620700831), (3551, 0.07402395917453797), (4312, 0.0737001752211973), (468, 0.0729650626445994), (4101, 0.07269497860564846), (2634, 0.07265843018608895), (2567, 0.07175204688926248), (623, 0.07170353567749449), (37, 0.07079490708952084), (3284, 0.07077101105503594), (1338, 0.0703916311774763), (2043, 0.0699743603196003), (2199, 0.0697158163330439), (2102, 0.06948664668515767), (1351, 0.06880240422933846), (4338, 0.06845673072722173), (3086, 0.0678836324503516), (1216, 0.067248962059176), (4403, 0.06697767802601404), (4494, 0.06695266193780525), (4076, 0.06662951339768447), (3357, 0.0665715295125147), (2463, 0.06598534966100442), (3616, 0.06472051412781932), (1866, 0.06471332139367174), (3840, 0.06423002735645326), (280, 0.06406264466652742), (2703, 0.06400200376170104), (11, 0.06369899650805284), (1969, 0.06349463641407027), (1185, 0.06335124847045706), (4336, 0.06327237551431097), (1656, 0.06303890223945832), (4468, 0.06285109577310584), (2725, 0.06258710361437124), (1241, 0.06246547242037298), (4345, 0.062134579056044484), (1925, 0.06201687972881793), (2244, 0.0617506878027659), (1523, 0.061651221071533355), (734, 0.06133905017522439), (3998, 0.06130381750172154), (2894, 0.060818182016854155), (677, 0.06071716229816479), (2757, 0.06061233439555075), (963, 0.06015391635732273), (3008, 0.05973048858451183), (1730, 0.059720301522723715), (3377, 0.05902090439946828), (3047, 0.05852204875128033), (1371, 0.05822381077722954), (4240, 0.05783287680057247), (2291, 0.05722205399306972), (227, 0.05692610319981062), (2022, 0.05690743542313645), (2277, 0.05686384720094822), (1224, 0.05672998810780428), (643, 0.05670923040165919), (2844, 0.056268150484020216), (2743, 0.05616173285692713), (2275, 0.05591070792899162), (3022, 0.05575470089180477), (2136, 0.055350025207087344), (3506, 0.05508800659592138), (1294, 0.054979732442126755), (1293, 0.05497915115580728), (3633, 0.054893104358540015), (1793, 0.05485049445167839), (4226, 0.05478705742300739), (2137, 0.05469920494698857), (2900, 0.054690218122443915), (934, 0.05453588599212132), (1122, 0.054525559856294654), (281, 0.05448988935178306), (1502, 0.05412156338529015), (3185, 0.05382738035142736), (530, 0.05372247344249988), (1194, 0.05357425880299579), (2294, 0.05336463986533517), (2229, 0.053349036285343175), (1233, 0.05284718435245389), (2472, 0.05280555353601768), (3661, 0.052553009397358665), (1948, 0.05254858976188152), (2111, 0.052461016952291835), (946, 0.05238201555069489), (1649, 0.05232650495465126), (883, 0.05214052683931482), (1245, 0.051914432949960565), (4245, 0.05185989923846905), (1349, 0.05173589146640753), (658, 0.05121740909701035), (2374, 0.05113739373185634), (641, 0.05104085017876834), (4077, 0.05096280038637286), (1225, 0.05092019154740532), (2000, 0.05077179267759363), (2414, 0.05051605750883627), (805, 0.05047439267044448), (3224, 0.050253150087431205), (1009, 0.050164962516352225), (1131, 0.05007517229788851), (841, 0.049950944189481164), (1107, 0.049829586736366394), (3491, 0.04948761243780345), (4143, 0.04932560580585803), (2180, 0.049107608467609976), (198, 0.04897380880817199), (744, 0.048969752825583496), (4493, 0.04889568034519417), (1418, 0.04882691007530268), (3241, 0.04864385772961174), (1219, 0.04861394503891855), (1239, 0.04848202636480471), (108, 0.04847154267342692), (2474, 0.04846015631075454), (66, 0.048174049193627076), (3919, 0.04816931812632377), (130, 0.04801596871794352), (4001, 0.04800600358702722), (67, 0.04796064712065593), (283, 0.04787617664098201), (490, 0.047796656627861644), (2520, 0.04766483380702788), (1886, 0.0476490405964923), (152, 0.047513554020240885), (2413, 0.04735908991527302), (792, 0.04717927330156113), (852, 0.04707059717256956), (282, 0.047054725867984204), (846, 0.04679306762112412), (1321, 0.0467798441913425), (3937, 0.046720351400286256), (1511, 0.04664976470345272), (2584, 0.04663477444377429), (342, 0.04652864794462086), (916, 0.04643588370619586), (4566, 0.04643457536355074), (1901, 0.04627177611753018), (50, 0.04619838477580379), (428, 0.04608448603569268), (2680, 0.045939175310472175), (4702, 0.045846757218236084), (3640, 0.04567000933580915), (3313, 0.045521737258891706), (3587, 0.045437996362836394), (3905, 0.04538714554064768), (1013, 0.04533792656444591), (552, 0.04533520018904991), (406, 0.0453052820685936), (4282, 0.045295791258167385), (101, 0.045285759028946486), (3802, 0.045207868572610714), (3831, 0.04513192650045093), (598, 0.044972567529079154), (2978, 0.04495568979260875), (3877, 0.04491050701827425), (1471, 0.04478161606887151), (3141, 0.04471514723176141), (3550, 0.04459812763751489), (700, 0.04459497614832365), (3977, 0.044590726673755264), (3337, 0.04453066916506238), (2691, 0.044525662652113385), (216, 0.0442809696935215), (4326, 0.04425330977015318), (430, 0.04425210743604053), (518, 0.04425165945617287), (3592, 0.04410476562138236), (2585, 0.044084520283493876), (4117, 0.04405505708847202), (769, 0.04398273243306931), (4297, 0.04391746560308305), (662, 0.043775249240621886), (2065, 0.04359451991594778), (1234, 0.04346620872286016), (1186, 0.043283206791901126), (1535, 0.04327526851105454), (2430, 0.043222413577030654), (3082, 0.04321040017809741), (4576, 0.042971679011575864), (1084, 0.0429427307696921), (1044, 0.04294241466516264), (1253, 0.04284498563134851), (3569, 0.0427903503563611), (4528, 0.04277502472245131), (85, 0.04264499382133801), (165, 0.042633417270775985), (782, 0.042485845930233045), (1794, 0.04237466052423765), (167, 0.04233747199093764), (1881, 0.04229723163232427), (35, 0.04226843963291241), (269, 0.04222327574966957), (570, 0.04222256665731419), (853, 0.04221038034066281), (249, 0.04215279858043014), (1443, 0.04213881630889832), (911, 0.04191441155961814), (4169, 0.04187382307067993), (1435, 0.04184516665346469), (1263, 0.04181001605653464), (550, 0.04178755208947842), (1537, 0.041751233640860655), (1896, 0.04166737323973301), (2957, 0.0416343333097405), (2159, 0.04162330060414521), (856, 0.04161984995912964), (589, 0.04159204307419351), (2935, 0.04155530406064211), (3678, 0.041486455516831104), (4074, 0.04146795472795397), (261, 0.04144836968709261), (2415, 0.04129512081052595), (1939, 0.041024870089997466), (4448, 0.04101853110321464), (4629, 0.04097356664482421), (4633, 0.040969947960932056), (38, 0.04074592864750177), (687, 0.04072590322288626), (1178, 0.040667916607685976), (125, 0.04061147308594843), (3884, 0.04056073797817826), (4267, 0.04051650271859721), (303, 0.040499823108702926), (2014, 0.040399888369516634), (3690, 0.0403491644150861), (2114, 0.04034739745905673), (204, 0.040319417749390817), (1928, 0.040308473108943636), (1985, 0.04024367065491288), (26, 0.040227867473162135), (2977, 0.040216120107485466), (1246, 0.040206371159094256), (449, 0.040160702318024974), (3763, 0.040107366730437126), (839, 0.040079475907008125), (2570, 0.04005429013341878), (4558, 0.04004045985396414), (2122, 0.039978237120378304), (3718, 0.03983604674098306), (3094, 0.03981993061176153), (2745, 0.03967823017435832), (1213, 0.039660887114425857), (3534, 0.03963269159970924), (343, 0.03957501698197659), (2315, 0.03954911715263053), (96, 0.039530912714389736), (407, 0.039482368974143846), (1534, 0.039472918458799335), (3741, 0.039381386160581205), (3149, 0.03920621955955902), (2902, 0.0391297660645133), (469, 0.03905010258698999), (3942, 0.0387207000685179), (2047, 0.038649953909365715), (419, 0.0386443893566876), (3515, 0.038643904836470795), (1924, 0.03862371190850748), (2098, 0.03862011957128747), (500, 0.03849777896647007), (257, 0.0384216515257894), (2134, 0.038379426387197706), (1764, 0.0383497302617831), (2909, 0.03833861953018358), (266, 0.038284541990679155), (1675, 0.03824991652825919), (357, 0.03817832493003275), (1658, 0.037988056835739394), (3121, 0.03795971339154941), (653, 0.03795847835592776), (4577, 0.03790839247875961), (313, 0.03780826506863897), (600, 0.03775224261287021), (599, 0.03774508761096585), (3925, 0.03773960156628715), (446, 0.03764803538421749), (191, 0.03763654714157948), (403, 0.03749934037768909), (2996, 0.03711016643800801), (2259, 0.037065179801746194), (452, 0.03706146001237576), (4024, 0.03705351421793718), (1259, 0.03702516499309244), (731, 0.03700639591100043), (440, 0.03698156805599498), (3483, 0.03691093940111665), (453, 0.036909113030888216), (1995, 0.03689512766486931), (1536, 0.0368890492518301), (1815, 0.03674487981768524), (939, 0.03659692998861993), (441, 0.036560259920920574), (1629, 0.03651212685870708), (279, 0.036507243005168354), (2528, 0.03650560018751569), (3493, 0.0364880798612652), (1192, 0.036434489288035866), (660, 0.03641563511779625), (2954, 0.036365094177631244), (683, 0.03618958636958527), (783, 0.036144904661490604), (178, 0.03609494580569166), (52, 0.03609138047583116), (1570, 0.036085027568661165), (909, 0.03606339422359205), (416, 0.03599253337517734), (91, 0.03598420796984925), (1997, 0.035943539168711736), (2083, 0.0359080600520848), (4033, 0.03590246698048042), (633, 0.03574020565798233), (2061, 0.035738222148135115), (1865, 0.03573219844021015), (4201, 0.035725738202745945), (2814, 0.03570775816498533), (4200, 0.035706213900582484), (3878, 0.0356066133411345), (2067, 0.03558416248495888), (887, 0.03552444635621202), (1218, 0.035504960296465306), (389, 0.0354721228087665), (48, 0.03532160991496436), (3695, 0.03527780805403369), (1986, 0.03526111760265324), (3759, 0.03513607364101395), (4061, 0.0351346579325542), (2766, 0.03510531889448017), (4517, 0.035072382025959845), (3541, 0.03506770301557137), (1508, 0.034935603292712995), (115, 0.03479818140948222), (1666, 0.03479579244400327), (614, 0.034787418515711946), (4255, 0.03478287393134275), (597, 0.03477609034737211), (246, 0.034744937322488845), (871, 0.03473710548623358), (2682, 0.0347237386133746), (837, 0.0347065678736054), (2155, 0.0346266342575383), (678, 0.034604771423815114), (184, 0.03458682196832946), (2732, 0.034576012487297546), (915, 0.034523759854615456), (1434, 0.03446271412558249), (1284, 0.034432435576992104), (1548, 0.03443096651820418), (1719, 0.0344164620285932), (1798, 0.034413954667361496), (2883, 0.03431082782848983), (1430, 0.03413233512334212), (3456, 0.03408785618180477), (222, 0.03405027040604287), (2753, 0.033999232201369384), (4339, 0.03399710309411241), (3673, 0.033893904968438505), (3139, 0.0336836957617744), (4722, 0.03364010533707417), (1215, 0.03361981107541638), (1312, 0.03360960127031507), (4037, 0.033605551643360224), (4662, 0.033586043337021164), (923, 0.03357241188798431), (2226, 0.03355113243365983), (4539, 0.03347835062494589), (988, 0.033470310424768085), (548, 0.03343455959806742), (237, 0.03338937044690584), (2615, 0.03332815207538716), (2072, 0.033217394779330195), (2392, 0.03310496489065128), (384, 0.033101027439865524), (3980, 0.033016864194351694), (1356, 0.032840091180316514), (803, 0.032730862618943354), (2739, 0.032713517513589155), (1994, 0.03266103802537375), (1306, 0.032652523359701355), (1478, 0.03258866441408843), (1160, 0.032567805140653786), (1060, 0.032535361074451326), (735, 0.0324867639729385), (386, 0.03248083513276611), (451, 0.032391919287561355), (1123, 0.03234343539509545), (4380, 0.03230375391811194), (2590, 0.03223513878720308), (2685, 0.03221445715146621), (676, 0.032157234953646016), (2242, 0.03213441580964904), (3656, 0.032128233680917086), (3194, 0.032121538828265704), (31, 0.03200586043802464), (2250, 0.031987438714246856), (878, 0.03182773891966602), (1514, 0.031754688061465364), (2112, 0.031738823158422136), (1760, 0.031723697048957306), (3939, 0.03168699564586392), (3122, 0.03156017534329856), (183, 0.03146809325703608), (2862, 0.0314264947189613), (2572, 0.031420735006113476), (327, 0.03141127725473528), (3742, 0.03134138219649824), (2011, 0.0312000121404531), (3586, 0.031142707662241205), (732, 0.031120865791935456), (4103, 0.031080115776473696), (2637, 0.031068849403189172), (326, 0.031050517384828953), (1237, 0.030892598248558854), (804, 0.03086100345661733), (800, 0.03084078374578672), (685, 0.030780845586853817), (815, 0.030654185916859956), (2402, 0.0306172879969252), (2236, 0.030599721097966083), (2350, 0.030571426248288913), (4432, 0.030513349708421462), (2672, 0.03048775162924099), (1222, 0.03040426935531529), (2895, 0.03034867411384406), (2339, 0.030314721286060085), (436, 0.03031075673049847), (1496, 0.03022609159699396), (3316, 0.030213188352391868), (2525, 0.030185929950472465), (1755, 0.030123347335478216), (1631, 0.03011595168919283), (3835, 0.03005853915118487), (859, 0.03000505677411453), (104, 0.029997891229384004), (3454, 0.029935090961135537), (2619, 0.029919074567534655), (336, 0.02988723299968647), (1048, 0.029882422341163815), (607, 0.02985883854646794), (3745, 0.02982564490156249), (1121, 0.02980649418545232), (2406, 0.02978202487647614), (2218, 0.02967296636314967), (1691, 0.029671907430012273), (3677, 0.029642719553139317), (2230, 0.029507750893657154), (415, 0.02948091101840257), (3775, 0.029457116816293087), (286, 0.02944381173368432), (2382, 0.029392470892020954), (338, 0.029346568775067604), (4023, 0.029340117245101542), (2571, 0.029293244914960256), (232, 0.02928642076563688), (2036, 0.02928086845013672), (4635, 0.029246410872582423), (2746, 0.029214173415403236), (3643, 0.029213337749280286), (3129, 0.029127847470146614), (854, 0.028935695946106003), (4686, 0.02893151828822027), (699, 0.028926330839906096), (2756, 0.028858908929671166), (2550, 0.02884630381536512), (4428, 0.02879011198811009), (65, 0.028696362795461144), (496, 0.028695234007813424), (4439, 0.02866925181052412), (1592, 0.028661304919629163), (3211, 0.02864388854834638), (4733, 0.028629533914733885), (2303, 0.02859553898676872), (3413, 0.028575936603270367), (780, 0.028508581538733854), (922, 0.028446192710515183), (3644, 0.028431295378630882), (302, 0.028351062521925777), (215, 0.02825084276642359), (36, 0.028249319398135953), (23, 0.028231670322143444), (24, 0.028206339828311028), (1124, 0.028087054897995532), (3706, 0.02804078546146027), (967, 0.02799286227845659), (1399, 0.027979361743909612), (3261, 0.02795286971127501), (4115, 0.027892917513114658), (3116, 0.0278616225238237), (829, 0.027852537795451236), (1039, 0.027821205720628656), (3641, 0.027772138526716904), (4504, 0.027754056210090056), (4069, 0.02775241820167132), (4116, 0.02764224073278885), (1, 0.02761127168417841), (4055, 0.02760215501063648), (2487, 0.027566747887963067), (1087, 0.027454511574392056), (573, 0.027402586744165524), (1308, 0.027349225587638575), (4132, 0.027291355005842854), (2661, 0.027218192253110625), (3183, 0.02720598586513489), (4495, 0.02715758121143096), (1579, 0.027119088163172503), (2010, 0.02709671452810251), (89, 0.027029580743348228), (719, 0.02700222051768487), (1682, 0.02698526727505787), (2959, 0.026963947638806267), (3771, 0.026909786338927755), (3013, 0.026838257529907802), (751, 0.02683205354548385), (1447, 0.026829293371248855), (4575, 0.026826893681147483), (566, 0.02682153533844156), (3509, 0.026819992908667153), (1689, 0.02678201814284419), (2015, 0.026770324717211812), (928, 0.026753867272650805), (4, 0.026752023538746995), (1701, 0.02670278854166693), (372, 0.026690475858865068), (299, 0.026686497877965183), (868, 0.02667691335322317), (830, 0.026652565349954915), (2877, 0.026649308908808164), (1862, 0.026645043451637138), (2175, 0.026641646957010906), (150, 0.02662680411722456), (485, 0.026624712796056937), (4178, 0.026622795302160527), (3737, 0.02656568230245408), (3648, 0.026526410506041945), (2809, 0.0264815501903113), (2522, 0.026478672044452124), (571, 0.026455117208688813), (879, 0.02645201941766423), (3460, 0.02642093869463857), (2319, 0.026339435915845), (3277, 0.026322599690379138), (802, 0.026230513028337725), (2807, 0.026184639038385783), (1247, 0.026166702942317967), (587, 0.026165003379438966), (1828, 0.026161718670093554), (2803, 0.02614766324129311), (2983, 0.026089865562989797), (1086, 0.02606955069047529), (3567, 0.02606085005267394), (1864, 0.026057139996173467), (2241, 0.025995775510637916), (1964, 0.025894486907244267), (1373, 0.025858010659910224), (1698, 0.02580719011160165), (1267, 0.025801988465346502), (3285, 0.025794927704032966), (1988, 0.025776469275528815), (4445, 0.02575837803216704), (1368, 0.02575234411793577), (2765, 0.025669158942018475), (2224, 0.025625077137857735), (955, 0.02561616969057845), (789, 0.02554666066195003), (3360, 0.025543360406015535), (3436, 0.025517585572781276), (2729, 0.025482938524116525), (2949, 0.025420234162748453), (3866, 0.02540498834265), (969, 0.025358429293402353), (2073, 0.025320764354567836), (4320, 0.025290179776134195), (1619, 0.025236077804954272), (484, 0.025223220110316216), (2097, 0.025194804654685748), (2237, 0.025136154515467014), (2710, 0.025001199077862725), (1621, 0.02499509409182742), (1501, 0.02496733211213848), (1442, 0.024907357787585568), (2727, 0.024863830412388477), (737, 0.024858443021003283), (2852, 0.024831287277023405), (328, 0.024792002354167494), (3069, 0.02476000695567009), (4309, 0.024746811357595253), (337, 0.024687957214694523), (3572, 0.024617970827528615), (4340, 0.024606049873155015), (1071, 0.02452252930717825), (377, 0.024512954676869696), (4678, 0.024501535612167807), (3523, 0.02447681878791078), (3409, 0.024439401574025358), (2820, 0.02441314995524266), (2017, 0.024376788498814812), (2582, 0.02436791878915554), (2811, 0.0243501259731876), (631, 0.02434811600215037), (2239, 0.024300700660556833), (1915, 0.024276240733725724), (4285, 0.02425921590468167), (4313, 0.02425692957444173), (148, 0.02422094989104931), (775, 0.02421788186483656), (3163, 0.024202084623487833), (1895, 0.02415083036422861), (2649, 0.024118534956444365), (3566, 0.0240819809655553), (168, 0.024032607978831652), (1042, 0.023996836719489753), (4346, 0.023983160046869192), (3584, 0.023880284297178634), (396, 0.023874797676523493), (1731, 0.023839217659899173), (3803, 0.02379871589355764), (413, 0.023743823250339344), (2387, 0.023739348121071594), (4289, 0.023666436418682085), (322, 0.023606146658938378), (4206, 0.023599482549750417), (2211, 0.0235603742054237), (1354, 0.02354824088698961), (455, 0.023537274490428195), (994, 0.023528787426514215), (3253, 0.023508030695720255), (2609, 0.023508028532998444), (3473, 0.02347952557375401), (348, 0.023441778497374215), (3297, 0.023418788045919407), (1335, 0.02338329001663394), (2654, 0.023364682341998247), (4521, 0.023360377407625976), (231, 0.02331689653846588), (25, 0.023259076964837564), (1173, 0.023200840702979716), (2085, 0.023166803136530748), (3539, 0.023146177459779618), (3042, 0.02313499051614735), (2201, 0.02311157575731109), (2499, 0.023099376308560855), (2597, 0.023045133201754872), (2912, 0.023036727638705512), (3448, 0.02295271433948705), (3631, 0.022921483806997735), (3371, 0.022899708699344445), (3294, 0.022897443477820426), (3487, 0.0228743446443415), (3192, 0.022837216652987588), (1193, 0.0227657441794488), (368, 0.02271139366500817), (1630, 0.02266415525523143), (2655, 0.022627646397730072), (3638, 0.022567768094774045), (2265, 0.02255441701112218), (1273, 0.022537243908819928), (2632, 0.02252388351241162), (608, 0.022520915826171387), (3391, 0.022509981766945495), (3332, 0.02250195024420009), (1967, 0.022492234726001616), (2553, 0.022487307786233493), (2810, 0.02245281314088633), (1605, 0.02244523221749562), (3056, 0.022443283817960034), (2082, 0.02242633978907795), (2210, 0.022408404816504246), (3610, 0.02234691323632302), (4660, 0.022320670388209913), (1419, 0.022262169314169408), (2193, 0.02224019297428096), (1770, 0.02222811015470612), (1227, 0.02221311134172236), (993, 0.022201799022101894), (4119, 0.02217019651828883), (3205, 0.022159520324889003), (1952, 0.022141421876738687), (1464, 0.02212079726912098), (2367, 0.022079463793625284), (3612, 0.022048132666937677), (1830, 0.02201388238538303), (3492, 0.022012586075835294), (1599, 0.021996792981417088), (1792, 0.021993931416584896), (3665, 0.021987255577050478), (4145, 0.021984588356624948), (79, 0.021970982296093552), (136, 0.021970036790986767), (3869, 0.02196129821514919), (3350, 0.021936532492353316), (1052, 0.02192297334500572), (1005, 0.02189527089434044), (4374, 0.02189519665803891), (758, 0.02189421467393676), (1506, 0.021893434423287297), (818, 0.02187255763098246), (1452, 0.02185025070738088), (4142, 0.02182992069530855), (1462, 0.021821676695490844), (2286, 0.021820612874573653), (913, 0.021810435456295938), (1097, 0.021806708471439125), (1547, 0.021797743795049153), (1046, 0.021775366886438892), (1389, 0.02176844470395088), (3181, 0.02173637441039975), (1168, 0.02173613990304349), (3858, 0.02169699599297407), (1133, 0.021678967186255758), (241, 0.021672313668011606), (2920, 0.0216668485338044), (1398, 0.02166534512504833), (230, 0.021654190947913366), (1041, 0.02165153258319521), (1720, 0.02163887655328634), (1807, 0.021618255848810518), (893, 0.02161672326707969), (1965, 0.021592491840078176), (823, 0.021572410743705007), (334, 0.021571125368206538), (2403, 0.021570622170929567), (1718, 0.021552474451234597), (1869, 0.021540443977972206), (1432, 0.021533206112840087), (339, 0.02151773877972121), (1278, 0.021506895296037984), (212, 0.021505161785156435), (2873, 0.021489833521232703), (2478, 0.021484804643442497), (1395, 0.021484600615312887), (718, 0.021463245169798754), (3124, 0.02146232198446826), (1422, 0.021459049967429897), (1126, 0.02145320219792426), (3039, 0.02141065917285752), (2794, 0.021401392677926408), (4442, 0.021377609279968277), (1847, 0.02134334715007833), (4594, 0.02132051185153847), (2641, 0.02130745838935485), (4590, 0.021204599363147784), (2623, 0.021187297529987825), (1771, 0.021181168574181432), (2574, 0.02117800481362402), (1933, 0.021177322343499595), (2787, 0.02114352356765453), (3700, 0.021120659509772224), (2301, 0.021099590362021324), (145, 0.021073827581850297), (2271, 0.021043301802857697), (670, 0.02104248987939023), (812, 0.021024631514117816), (4002, 0.02102131518123017), (4032, 0.02102009456025397), (3267, 0.02100822219093488), (523, 0.020968469982683556), (3466, 0.020932838747142985), (1503, 0.020913252823482546), (3364, 0.020895913691956643), (1769, 0.02089002716848029), (2848, 0.0208416991919666), (2338, 0.020839777709010174), (3703, 0.020830321134973403), (702, 0.02080354502012207), (2505, 0.020784819950305684), (97, 0.02078133055400464), (1992, 0.020773324081653777), (2300, 0.02075824590906634), (3965, 0.020748954065344462), (1019, 0.020719390141002672), (1509, 0.02071286342178356), (3637, 0.020709099074392535), (4587, 0.020706247950735356), (3367, 0.02070470416835083), (2625, 0.020696735039096574), (3026, 0.02067753088923915), (2721, 0.020672424209213728), (2944, 0.020646643796916192), (2742, 0.02064480690330957), (4675, 0.020594466450015954), (2638, 0.020566348037611242), (2177, 0.02053481472164312), (3077, 0.020516962376197868), (3749, 0.02040608242886073), (3911, 0.020402702684804264), (3044, 0.020400702929158902), (2777, 0.02039320464204122), (1757, 0.020364275046235253), (1608, 0.020360026475624425), (807, 0.020355301688337785), (1849, 0.02035078119439852), (4241, 0.0203353660965425), (2146, 0.020331722320682998), (56, 0.020309035411684905), (1716, 0.020300063975883208), (1495, 0.02029385999203201), (288, 0.020284866284282305), (2888, 0.020273252805440158), (1105, 0.02024334742068861), (1314, 0.020226892744402286), (1474, 0.02018638520930105), (4717, 0.02016138649844425), (3368, 0.02007476587597543), (239, 0.02006925361301633), (4531, 0.02006012393336834), (3464, 0.020052708144683865), (1465, 0.019997811049273048), (2104, 0.01998753225236111), (1169, 0.01998343550221102), (733, 0.019957384103746468), (4186, 0.01988758719320121), (3518, 0.019854610088069536), (3314, 0.019849152945947943), (4164, 0.019840944087624914), (1078, 0.019812805784671643), (3018, 0.019759507354945912), (675, 0.01973973229546295), (3516, 0.019686040092180314), (3372, 0.019655673000971915), (1526, 0.01964890197177565), (4507, 0.019612078166366634), (274, 0.01960507096832589), (3400, 0.01959209095454777), (3344, 0.019589142831376773), (918, 0.019580619996394672), (4467, 0.019544269254552257), (4272, 0.019506632221174935), (2616, 0.01950339673490588), (4618, 0.0194958661258824), (2039, 0.019475327397929555), (987, 0.019411949230205894), (1344, 0.019384764071661235), (2629, 0.01938246321260225), (2833, 0.019365417835273756), (584, 0.019365307427827223), (3527, 0.019346051615633457), (1950, 0.01934269566860637), (2964, 0.019342616693354603), (908, 0.019329310571387964), (2359, 0.01932456696793195), (2444, 0.019299933605911188), (4096, 0.019263742838891894), (2048, 0.0192629915091804), (680, 0.019250044775652717), (3575, 0.01922029697935558), (4333, 0.019213162371615602), (3618, 0.019186762440611797), (2167, 0.019167750430985758), (3445, 0.019167039991477022), (4273, 0.019151807616881972), (2386, 0.019134368236395992), (3264, 0.019112885245625766), (4646, 0.01910211352371321), (308, 0.01909335134212235), (1740, 0.019091676247410976), (4607, 0.01907469200192954), (3589, 0.019063118985340397), (3619, 0.019061170565415522), (3079, 0.019051575093037273), (529, 0.019037753919474102), (3654, 0.019036732951568856), (2830, 0.019002972188193357), (2962, 0.01898179497407398), (1297, 0.01893665532002529), (1487, 0.01891221287802794), (4501, 0.018908440795944118), (2541, 0.018869252051439744), (4042, 0.0188585838220102), (4136, 0.018856365343831227), (696, 0.018838163940029233), (3328, 0.01882842817836576), (254, 0.018819696408999834), (588, 0.018809175652375974), (1364, 0.018795248506423074), (2480, 0.01875818878797734), (1692, 0.018720730345614667), (3247, 0.018696366270748815), (1788, 0.018675674660545663), (472, 0.018634976410543402), (3301, 0.01863040822341662), (1008, 0.01861647068343629), (1016, 0.01856861996625806), (3915, 0.01854591697006717), (4674, 0.018525944610719318), (2595, 0.018519602778645627), (568, 0.018500407537554785), (323, 0.018491382639488997), (4228, 0.01848987802981672), (3066, 0.018485964375055827), (1669, 0.018434208525635237), (1871, 0.018427641463196795), (1197, 0.018419961125124663), (2946, 0.01841842816206642), (2730, 0.018407968472010483), (306, 0.01837845489419708), (3711, 0.01837835498326982), (4194, 0.018350202772082554), (561, 0.01830649133374302), (2802, 0.018300411630699603), (569, 0.018276955544842204), (4057, 0.01827632214824807), (4144, 0.018267337798407845), (4503, 0.018255326757657134), (897, 0.01823860524786219), (1840, 0.018227888768474906), (1472, 0.018223690376341795), (3975, 0.01819039499061924), (3564, 0.018171171863849683), (622, 0.01814319964143975), (2565, 0.0181128416850442), (488, 0.01810256344214575), (170, 0.018073304660992093), (651, 0.018068873392624377), (2195, 0.018053216792406422), (2928, 0.018020965998944014), (689, 0.0180016651083807), (646, 0.017997777136776857), (2508, 0.01798308011035338), (1670, 0.01797117283370842), (898, 0.017969204672717922), (45, 0.01795723115084391), (4084, 0.017945070398901614), (262, 0.017937374909651135), (4225, 0.01792368937033991), (1883, 0.017911619579437543), (1054, 0.017866270756889988), (2779, 0.017866095135764218), (2523, 0.0178646856166912), (1229, 0.017825780307126754), (1576, 0.01781019406150106), (512, 0.017806996914016774), (1973, 0.017799084384824537), (1500, 0.017799005488084982), (3036, 0.017793583391472186), (169, 0.017784075397436105), (1914, 0.017782218154175446), (4464, 0.017744635327649354), (3799, 0.017740771696050553), (2910, 0.017710290555808673), (828, 0.017679519244989145), (1319, 0.017673774337287056), (1617, 0.017671251908847316), (3014, 0.01766792499994961), (1653, 0.017651484060017236), (904, 0.01763613095894404), (2698, 0.017635811091849026), (1662, 0.01763451933854648), (4652, 0.017630613933514533), (2988, 0.01761048131876365), (3776, 0.01760984733966134), (2074, 0.0176096426742053), (4395, 0.0176094040009979), (4011, 0.017576661139460686), (3290, 0.01757158376876428), (3384, 0.01756448907129059), (2466, 0.0175353499181675), (4472, 0.017497319926041015), (4533, 0.01747490407478228), (228, 0.017469169000525107), (1463, 0.017452179229596798), (1421, 0.017449928630242154), (2642, 0.01743948016716964), (1597, 0.01743645367509849), (862, 0.017377569504987464), (3500, 0.017363456839920827), (3246, 0.01735272669586419), (1714, 0.01729885523491852), (356, 0.017265695858388698), (1357, 0.01724718686256874), (1722, 0.017242315960223825), (1938, 0.017235438383797656), (511, 0.01723189985481589), (1175, 0.017231669630969827), (225, 0.017230421930847364), (604, 0.01721244784127791), (1375, 0.01720395720417059), (186, 0.01719502765961794), (2892, 0.017182178383879244), (1876, 0.017172674503187546), (1981, 0.01717128698207684), (4435, 0.01715604392126252), (591, 0.01712805628811333), (3341, 0.017122401179544344), (875, 0.017117970966524544), (1742, 0.017114994519565576), (956, 0.017087953274118866), (2510, 0.01707483136360453), (370, 0.017046928512712025), (2023, 0.017045567647136804), (3282, 0.017035271040716022), (2898, 0.016996353954428653), (4056, 0.016982321872061522), (4752, 0.016962563736693394), (2512, 0.016952064822318196), (285, 0.016950171213243825), (4676, 0.01692914793334687), (2552, 0.01692323282609405), (400, 0.016917816975778145), (1161, 0.01689429829127009), (3554, 0.01689369460873829), (534, 0.016863942714441336), (936, 0.016839595140747884), (3342, 0.016808229486393753), (895, 0.016783141308098853), (935, 0.016755531830292415), (98, 0.01671930487692676), (3782, 0.016706246513206294), (2670, 0.016694199151053055), (2213, 0.016689728565278644), (75, 0.016681072762512753), (1114, 0.016672109146246197), (2485, 0.016670109308952647), (1790, 0.016636477938430316), (289, 0.01659149474624599), (1782, 0.016555326051438574), (1482, 0.016538374356049452), (2208, 0.016530470188823893), (957, 0.01652830980342543), (1481, 0.016525859358205407), (3563, 0.01649737204335464), (92, 0.016470340263459123), (4091, 0.01646196954056914), (2247, 0.016458773963226276), (1681, 0.01644839579263421), (2665, 0.016424872819420126), (480, 0.016422784406920778), (620, 0.016399540352889312), (3730, 0.01637773118615341), (1341, 0.01637153236860535), (102, 0.016368084539632843), (162, 0.016360127822743032), (555, 0.01633546126044572), (3424, 0.016319731166926775), (1056, 0.016300653175939275), (4100, 0.016292118828553043), (3986, 0.016286472284682454), (1775, 0.016274251366637692), (4508, 0.016272436555635653), (86, 0.016272043311459178), (157, 0.01626170436382684), (2031, 0.016255732769043962), (3108, 0.01624601008476475), (4586, 0.016240545626583777), (3841, 0.01623263870299136), (2068, 0.016224852010337257), (1255, 0.016223467251727127), (2660, 0.01621057054443367), (4390, 0.016207234033021423), (753, 0.016177472990069), (3617, 0.016172014060772493), (4659, 0.016167395883507102), (4436, 0.016155375841738227), (4209, 0.01609638904922261), (725, 0.016095540271515517), (4205, 0.016090330181692574), (679, 0.016083612418831394), (307, 0.016015874094620047), (1010, 0.016003042067207734), (902, 0.01599901153446414), (657, 0.015997027849560374), (3438, 0.015994250206949275), (572, 0.015988847031859307), (3972, 0.01598442980573601), (1507, 0.015981378256673843), (2817, 0.01597546161581337), (2283, 0.015965995490991727), (603, 0.01593523773962837), (1031, 0.01592925077312187), (2627, 0.015922900564522502), (477, 0.01591134135458638), (748, 0.01589780243319786), (3206, 0.015893012150804443), (2013, 0.015892823256029413), (2689, 0.015881792193296787), (1586, 0.015866852048822325), (267, 0.015860281730659988), (4613, 0.01586016473922023), (1301, 0.015813874742911693), (1380, 0.015800562872579898), (654, 0.01579059683287957), (4452, 0.015784975514065897), (891, 0.015781632117576803), (3655, 0.01575276310972613), (2790, 0.01575240190382637), (3168, 0.015714574702522268), (457, 0.015671227972637414), (881, 0.015666756424550368), (3870, 0.015662852681836273), (2841, 0.015657007116442044), (4701, 0.01565574282366681), (298, 0.01565039008647734), (2412, 0.01564184679845433), (3378, 0.015633687730159686), (910, 0.01563003211764317), (1047, 0.015609571467055713), (88, 0.015605734813605117), (796, 0.0155379840473106), (2447, 0.015524710030508856), (3930, 0.015510598546428766), (2867, 0.015488403427958576), (128, 0.015482025798426818), (1604, 0.015463609767787077), (149, 0.01545497628760497), (1012, 0.015450495734251658), (2034, 0.01541917060901725), (2493, 0.015402324217463858), (843, 0.015391023515866348), (3200, 0.01537979863606839), (3697, 0.015374535197666857), (1080, 0.015371099376589321), (4376, 0.01536033273059349), (3855, 0.015358877502041804), (3275, 0.015353111406367529), (2626, 0.015316418303929769), (927, 0.015298587486079183), (4097, 0.015282923559625076), (4589, 0.015273470600076073), (3754, 0.015233760913554028), (2968, 0.015232941164841108), (1037, 0.015224351092798554), (1365, 0.015212002772888825), (2320, 0.015169914714481725), (2264, 0.015169241334036188), (703, 0.015166956050283207), (2427, 0.015157481099316817), (1577, 0.015112836728790975), (3430, 0.015066648954422222), (1908, 0.015061670867174755), (347, 0.015032778582534868), (1804, 0.015027521821772066), (938, 0.015017565544190335), (1374, 0.014992878453743815), (1184, 0.014985739563877337), (272, 0.014977570021272672), (1571, 0.014965194262118574), (2046, 0.01496337214294505), (2246, 0.014953896815247558), (1705, 0.014944239033690744), (3774, 0.01494400802587603), (1614, 0.014929535180921629), (1022, 0.014913525306069013), (107, 0.014898178525239955), (439, 0.014893877571494839), (3043, 0.014870290450482875), (2630, 0.014863674994357801), (4015, 0.014860028487767737), (4482, 0.014859505424269542), (2400, 0.014857314750294193), (2503, 0.014856550177402486), (1420, 0.014834725833151808), (1383, 0.014828093914111606), (1217, 0.014823519846888063), (527, 0.014816378401615725), (960, 0.014811168904916433), (3048, 0.014783182106498698), (2337, 0.014775259166202448), (1664, 0.014771408369323662), (1328, 0.014716801577747617), (3783, 0.014710121843472633), (4396, 0.014696464605366246), (84, 0.01466923917967405), (813, 0.014656033855405322), (3968, 0.014655264736133029), (618, 0.01462621368929497), (1734, 0.014622957168616744), (1594, 0.014610116857990949), (3414, 0.014607120757635851), (4593, 0.01460662541066831), (1498, 0.014603754204976366), (2767, 0.01460129596521406), (1627, 0.014595490998329873), (995, 0.014592037905343101), (1588, 0.014581818581944036), (4421, 0.014568100262307291), (797, 0.014564749351532201), (888, 0.014558457186575577), (4466, 0.014531927047730889), (72, 0.01453005133200358), (432, 0.01452564640916051), (3101, 0.014512470903050363), (3127, 0.014512251767857655), (62, 0.014502675131805169), (1340, 0.01450047925582651), (2428, 0.014496507710338483), (3229, 0.0144939996579649), (2771, 0.014488288197873896), (1135, 0.014473145574851798), (1109, 0.014469578857200585), (1210, 0.01444172294207967), (4551, 0.014441387463095482), (2432, 0.01444114817569852), (3538, 0.014433092276203197), (2375, 0.014430985773008153), (223, 0.01442696009850376), (840, 0.014421150922430213), (3428, 0.01441797529123638), (4602, 0.01441214839071039), (757, 0.014389517422437624), (138, 0.014385370356178763), (4601, 0.014377745354801769), (253, 0.0143616820619835), (3924, 0.01434438458929663), (1557, 0.014340311826095688), (1801, 0.014339420757249016), (2234, 0.014333397242839245), (1118, 0.014311879969691436), (1805, 0.014311723276366622), (706, 0.014308103459409346), (3244, 0.014287333672960381), (2398, 0.014285167683522474), (4087, 0.014279604491816266), (3738, 0.014265702404431113), (3234, 0.014263435221178997), (3912, 0.014257767840290318), (2955, 0.01425122193634116), (3642, 0.014244350926475254), (4684, 0.014241595858447736), (4441, 0.014231935709896965), (3712, 0.014191697904956994), (553, 0.014185485508173005), (1991, 0.014157305744662887), (1518, 0.014147301916818901), (2991, 0.014141536218995924), (142, 0.014126814039528836), (714, 0.014120770326342286), (4292, 0.014115777540071352), (791, 0.014111452001638249), (3184, 0.014108804879649406), (1611, 0.014103527742627436), (263, 0.014095860787595286), (1637, 0.01409029206440223), (1106, 0.014071710602248929), (1409, 0.014053003195276727), (312, 0.014052254887991148), (3873, 0.01404590407986593), (4005, 0.014036027960121388), (4383, 0.014004433575565967), (3235, 0.014003286163309607), (2096, 0.014001083398178574), (3006, 0.013998500594832717), (4355, 0.013994079363819866), (3736, 0.013988456871277751), (4175, 0.013987218660676856), (1873, 0.013969503267997807), (2327, 0.013968428485787642), (1709, 0.013963845368952593), (4431, 0.013955259898424369), (3662, 0.013948703025498537), (493, 0.013946842881108232), (3070, 0.013932044152760963), (417, 0.013916381809715366), (193, 0.013888386458921674), (3626, 0.01388718407389685), (74, 0.013878229749959196), (1918, 0.013875102229251372), (2850, 0.013870353938271072), (188, 0.013864589836838016), (22, 0.013856887106378266), (930, 0.0138505099385464), (3388, 0.013840038546760195), (2513, 0.013814788835293718), (1902, 0.013807114974554984), (3420, 0.013791175599733876), (1821, 0.01378430582825707), (1573, 0.013748537227097736), (20, 0.01373961461475804), (562, 0.013732280962636411), (354, 0.013710517641035811), (3382, 0.013706770695761292), (4624, 0.01368352276261654), (2297, 0.013679256175385988), (884, 0.013666597904946528), (2904, 0.013662691029645447), (291, 0.013656258035960794), (1982, 0.01364334884200345), (2749, 0.013635145628095577), (1288, 0.013631602790373768), (774, 0.013610639884225133), (567, 0.01360903537866832), (1584, 0.013603102535452043), (3517, 0.013600934274626929), (4615, 0.01359457589156208), (1607, 0.013590514784800993), (980, 0.01357621562260342), (4534, 0.013573195942403625), (3525, 0.013559284267690446), (4025, 0.013537760387554412), (1379, 0.013518401615846021), (2321, 0.013495817303115581), (1063, 0.013483996682524785), (2917, 0.013448923072252374), (1494, 0.013443098204082788), (214, 0.013431655777864442), (2668, 0.013426592192008787), (577, 0.013418206261354787), (1254, 0.013373857330910857), (1552, 0.013343037486565543), (3085, 0.013332054061172573), (1993, 0.013324557351860262), (1688, 0.013306343171113238), (4450, 0.0132809001016433), (2161, 0.013263096625821641), (3177, 0.013256912297666842), (2396, 0.013255212024099013), (4266, 0.013254956737385908), (741, 0.013251434687977024), (2798, 0.013250991588937753), (3210, 0.013249959544905762), (848, 0.013247508720558094), (1413, 0.01324329758221911), (820, 0.013234222364643234), (2826, 0.013205966471190338), (545, 0.013161191854095377), (182, 0.013153188070041733), (226, 0.013134024371508212), (2492, 0.013130804598647287), (1139, 0.013126469684088366), (1163, 0.013112673270386387), (1191, 0.013100598081543288), (1090, 0.01306781146139055), (749, 0.013056978557134998), (1304, 0.013053470102514926), (1483, 0.013033939332961616), (4000, 0.013029358661124936), (1831, 0.012988048563681392), (3748, 0.012962787542597042), (532, 0.01295901524430707), (4325, 0.012944372948740969), (7, 0.012940759564003207), (3173, 0.012936353356421848), (1562, 0.012926510469908623), (234, 0.012894284802672908), (3993, 0.012894072311834695), (973, 0.012856198256641816), (727, 0.012820525928655315), (1296, 0.01281884442977028), (779, 0.012806782811080646), (119, 0.012802383485778812), (1408, 0.012793366759069903), (127, 0.012790244332192299), (4525, 0.012779662006816407), (1017, 0.01276776207775025), (3365, 0.012764854058972661), (2125, 0.01276369081787539), (1802, 0.012760709013634394), (329, 0.012742770667316904), (2461, 0.012736299158927262), (76, 0.012725960192692851), (1030, 0.012715360343879952), (3765, 0.012675711685686302), (2422, 0.0126668178313784), (4192, 0.01263623371822422), (3890, 0.0126245087153892), (723, 0.012609620319361917), (1919, 0.012590873507943967), (3696, 0.012584280927122545), (3010, 0.012583282534939774), (3844, 0.012552409539072001), (64, 0.012548065808263955), (4658, 0.012545208569267875), (2656, 0.01253785925999748), (3390, 0.012515663744507006), (1033, 0.012507930316609595), (984, 0.012494873849528182), (3713, 0.012491242922171682), (2789, 0.012453320886216432), (798, 0.01245279571887434), (1001, 0.012436827751831093), (1002, 0.012433158345556103), (221, 0.01240691264106274), (2118, 0.01240581764490989), (962, 0.012373399700985329), (3458, 0.012341652534357064), (4399, 0.01233237297918643), (1372, 0.012322202891646745), (57, 0.012284635653788971), (659, 0.012235910620074595), (4356, 0.012216433432163946), (1780, 0.012208792293572423), (3232, 0.01220173299773703), (463, 0.012173902400029876), (1519, 0.012147093663200504), (15, 0.012116041462444549), (1650, 0.012100219826084491), (4488, 0.012099070058984916), (73, 0.012082186971333363), (1477, 0.012035987244741154), (4620, 0.012002012440029556), (1796, 0.011985220807089823), (524, 0.011970945291438698), (759, 0.011959779588812855), (1680, 0.011929909813668682), (294, 0.01192903711356971), (124, 0.011915332754306854), (4018, 0.011894775007965638), (3304, 0.011894320892448797), (2377, 0.01189302152725125), (1827, 0.011878487427543218), (1639, 0.011814386522831746), (2931, 0.011804006518469216), (2976, 0.011767140949909221), (3027, 0.011742392143174636), (2285, 0.011741887395534627), (1414, 0.011718775389689793), (3327, 0.011704620869988417), (1466, 0.011677393764577479), (594, 0.011663539431842968), (2376, 0.011626427709428047), (2724, 0.01159542959487429), (3345, 0.01159319621979826), (1199, 0.011587701300066542), (421, 0.011586937282729425), (4247, 0.011545387139498396), (4747, 0.011528185372570585), (2240, 0.011527342149803005), (1553, 0.011516636408707526), (4679, 0.011472257083378979), (2975, 0.011464171316129756), (2439, 0.011457813062600299), (3921, 0.011442635252068241), (1136, 0.011439977268898992), (3403, 0.011432504913129554), (366, 0.01138094883391707), (242, 0.011373047926168486), (4150, 0.011370651829752805), (874, 0.011253256763703397), (3238, 0.01122985936446946), (3698, 0.011219965622614896), (2799, 0.011211376587770001), (1069, 0.011207345296660514), (1050, 0.011190735252775388), (1332, 0.011160565341448034), (2384, 0.011156226076665894), (4344, 0.011154595565988032), (2981, 0.011147162285698356), (4463, 0.011118716190515212), (4078, 0.011115033718064663), (2157, 0.01104541606850145), (4181, 0.011041402192865342), (1554, 0.011028665018322586), (3347, 0.011025080436280147), (3453, 0.011017694765182528), (1786, 0.011016934729070739), (3207, 0.011007770908185914), (1091, 0.010966292111258661), (2951, 0.010939962819845743), (977, 0.010926292101847928), (982, 0.0109236726618011), (1829, 0.010903465435154105), (1265, 0.010886903099433787), (2287, 0.010886758619560837), (2985, 0.010884434363997088), (1799, 0.01087602844570024), (2221, 0.010848261252055957), (635, 0.010841614407322134), (4595, 0.01083891570419031), (3240, 0.010825813346879265), (4656, 0.010801517715917933), (3468, 0.01079571071403737), (1305, 0.010787872913745902), (1724, 0.010785500005233541), (6, 0.010777473083004111), (4332, 0.010773350037628972), (1679, 0.01075948070146423), (2673, 0.01075393813814132), (3254, 0.010740437606936954), (2588, 0.010729346735422801), (3751, 0.010725401705644169), (2509, 0.010723475441740352), (3834, 0.010717746101586611), (4118, 0.010708541478886217), (2252, 0.010699285473652469), (341, 0.010692227023183308), (3317, 0.01068794190975628), (1659, 0.010676883748868557), (3109, 0.010668231394455626), (412, 0.010660803317111021), (17, 0.010640616060690902), (2441, 0.010637065139017859), (1812, 0.010607887653559874), (3875, 0.010606397542904634), (4444, 0.010589614635321024), (691, 0.010546584815387658), (1835, 0.010510183007735017), (1271, 0.01050977317244735), (4265, 0.010509294819347714), (297, 0.010505699684030603), (418, 0.010503743343222125), (55, 0.010466627243461396), (1276, 0.010409268469607111), (2645, 0.01040374275832135), (1396, 0.010384831401338316), (1949, 0.01038475606139665), (309, 0.010378920645641145), (2106, 0.01035514604681907), (2456, 0.010338622536520207), (1244, 0.010332276852343685), (3398, 0.010330900796072936), (1208, 0.010306390404897862), (3226, 0.010303666942401448), (3907, 0.010302570616351404), (788, 0.010286106279473569), (809, 0.010283699407016952), (118, 0.01027801778998817), (3743, 0.010274844531200436), (4088, 0.010265329536787627), (4168, 0.010244685706061884), (3265, 0.010233553024035731), (2290, 0.010221885307638597), (159, 0.010212906572585405), (219, 0.010191777556899635), (3152, 0.010182899302341578), (2551, 0.010177888927899123), (811, 0.010155424254112966), (3908, 0.010148731797333775), (1111, 0.010147562962243664), (768, 0.010130316101793211), (1945, 0.010092968190910006), (4612, 0.01006383501882313), (4184, 0.010057806095913571), (4242, 0.010042988059209675), (2834, 0.010029277456948583), (1522, 0.01002765164114181), (4736, 0.010010825400189846), (3188, 0.010005512511784132), (3577, 0.009990504859267751), (39, 0.009970997897445981), (4182, 0.00996593134942899), (2793, 0.00995957238414811), (2839, 0.009937407435497727), (785, 0.009936122735774227), (1129, 0.00993398755851099), (4070, 0.009932066211245599), (2280, 0.009922774546760738), (135, 0.009921697972994357), (82, 0.009902379015732952), (2568, 0.009887020840327786), (1517, 0.009886580352357358), (460, 0.009884081014851089), (259, 0.009873379423366713), (3602, 0.009849252487145119), (3228, 0.009810547412665451), (1329, 0.009799299847270484), (3073, 0.00979751325926028), (3773, 0.00979707539160755), (4062, 0.009791412189546551), (2498, 0.009781438911687748), (1459, 0.009774555565828298), (2677, 0.009759732060245576), (1648, 0.009744940624572752), (2763, 0.009697859869778482), (2095, 0.009674076204417873), (3156, 0.00964781276998241), (4682, 0.009635628827492157), (1996, 0.009624803094602173), (3490, 0.009619316712125325), (2062, 0.009615325533230573), (93, 0.009594109978147624), (1113, 0.009586274365621468), (1810, 0.00957671970643885), (1668, 0.009561072862111934), (3824, 0.009560556603884593), (1067, 0.009553771752660015), (4459, 0.009553267200068468), (3881, 0.009552511427750552), (310, 0.009540790809710929), (2738, 0.009539989330864756), (713, 0.009536669261370596), (1825, 0.009498985331684962), (3970, 0.009497522292287635), (53, 0.009491944367428111), (2720, 0.009474654662310332), (3899, 0.009474272244359327), (1700, 0.009463830276011416), (1256, 0.009457823020995432), (1412, 0.009451765676175599), (4477, 0.009444441265465517), (3951, 0.00943265013674013), (929, 0.00941318462968873), (1818, 0.009410132590408416), (1787, 0.009405264156840695), (1029, 0.009397030869737998), (3450, 0.009388759102524739), (2205, 0.009376281449477549), (763, 0.009374799654315497), (4203, 0.009370555855341151), (3788, 0.009363438205933711), (648, 0.009361390271333326), (3100, 0.009356878412124894), (2699, 0.00934515120022013), (1307, 0.009344960200055092), (2160, 0.009344230591976874), (3136, 0.009342529928852893), (3230, 0.009332901572397943), (3732, 0.009332382465894922), (448, 0.009330948328704411), (1451, 0.009327605690662426), (2215, 0.009320817909556453), (3426, 0.009318152675265454), (710, 0.009305748737994071), (4305, 0.009305649039315701), (508, 0.009295236710275889), (2119, 0.009292349846468356), (4568, 0.00928169602715899), (2560, 0.009278149199505337), (4328, 0.009276720838785148), (847, 0.009270202847243192), (1746, 0.009267759802896944), (2093, 0.009264194819566635), (770, 0.009252012057784685), (3651, 0.009247792059167538), (4664, 0.009245387933676083), (2071, 0.00923817770074601), (4165, 0.009237444744966199), (3395, 0.009202002658910807), (1291, 0.009198367548535022), (2110, 0.009190661807984507), (1823, 0.009187699494525931), (243, 0.009186988315260512), (2207, 0.009170593428329387), (540, 0.009164954713334818), (3960, 0.009164760976816516), (1887, 0.009161110053303709), (1974, 0.00915425697029838), (122, 0.00914754020729721), (824, 0.009147358968236314), (1066, 0.009145780190652545), (2135, 0.009134647975682276), (1987, 0.009115280744356946), (1236, 0.009109692435338356), (2791, 0.00910706876475361), (1270, 0.009103671304722996), (2740, 0.009102079205506965), (4368, 0.00909815097964791), (3421, 0.009087807221712953), (3945, 0.009081905290825941), (3822, 0.0090769267330366), (1858, 0.009045625089846918), (2436, 0.009035234781353204), (1134, 0.009029188028660392), (701, 0.009023997059083862), (330, 0.009016423630742627), (2840, 0.009016238619864675), (997, 0.009008887373210255), (4366, 0.009006700951216274), (3857, 0.008978876841838386), (2854, 0.00897807654005415), (3825, 0.00896577965654806), (4290, 0.008962560046780269), (2058, 0.008961222644213236), (2005, 0.008929158248612084), (3397, 0.008911789238898071), (1817, 0.008911626291191334), (4106, 0.008890416841825888), (1095, 0.008874378124384326), (1733, 0.008863793760127612), (3201, 0.008851275826346495), (123, 0.00884453307903598), (1043, 0.008834158419899584), (2145, 0.008819266260628332), (4732, 0.008817289879681623), (4110, 0.008813224561167803), (740, 0.008812047307216133), (2037, 0.008809932055852518), (4013, 0.008801324807200642), (3160, 0.008798788203454212), (4553, 0.008758796338394584), (4596, 0.008752226972735939), (192, 0.008743422825469306), (3271, 0.008734770875331943), (277, 0.008728856110682094), (3392, 0.008728101572779432), (2494, 0.008715698298498204), (1907, 0.00870163324860028), (2539, 0.008695640568538802), (3914, 0.00869239121973387), (4269, 0.0086711906251929), (1140, 0.008655752587632806), (4038, 0.008642491691342461), (2940, 0.008640519609909018), (2712, 0.008637365221985537), (3780, 0.008631488439351478), (3218, 0.008618383289406875), (762, 0.008607321880844438), (692, 0.008582654438013529), (1951, 0.008576948821249965), (2168, 0.008571772146904832), (1687, 0.008571217995144976), (2418, 0.008569002392170202), (3667, 0.008565087701627287), (2792, 0.008564577482364088), (202, 0.008562482770260508), (2755, 0.008548139436592182), (2610, 0.008543343371040197), (3777, 0.00854130472514993), (483, 0.008535376607213093), (1893, 0.008526433332299119), (3405, 0.008513752956505695), (1643, 0.008487058237773825), (2633, 0.00848689527059655), (1402, 0.008476984265396975), (1300, 0.008470051090255044), (4363, 0.008466828206975686), (177, 0.008465350739224987), (2640, 0.008458390827530223), (3150, 0.008458061727766052), (3806, 0.008450524290911594), (211, 0.00844981705891535), (1781, 0.008449284700880168), (1660, 0.008446433794467897), (1006, 0.008445731663339352), (3599, 0.008440706836752548), (3752, 0.008436223826773007), (890, 0.0084310981673625), (717, 0.008430277802878408), (2531, 0.008424997025654753), (1851, 0.008416143727120637), (2546, 0.00841558897569528), (2911, 0.00841342444708857), (3778, 0.008397028143856653), (551, 0.008395599889341545), (4262, 0.00839277405085247), (2016, 0.008392222242752188), (3536, 0.008387908937340066), (4379, 0.008375808512123372), (3920, 0.008373449594504588), (3959, 0.008372906869377566), (3689, 0.008361674366011597), (2053, 0.008346098486228365), (1957, 0.00834253844674758), (2126, 0.00833694064876126), (1214, 0.008326690303888589), (2334, 0.008320653938891049), (3233, 0.008316504707625207), (640, 0.008313143348581829), (1768, 0.008311503362126427), (726, 0.008303217604545807), (3701, 0.008287620614440334), (3222, 0.00827950016104163), (3526, 0.008273102941728925), (4189, 0.00826904353541793), (2784, 0.008262790769185326), (1077, 0.008258736079508899), (4283, 0.008240392794984699), (3283, 0.008234167358736295), (850, 0.008229817903409428), (3303, 0.008226598927517405), (1137, 0.008224217378047499), (832, 0.00821969323524213), (2045, 0.00821561440988582), (4068, 0.008212768951171326), (2318, 0.008199114820726687), (4135, 0.008198678354711888), (538, 0.008191395450207625), (3386, 0.008191081604985282), (738, 0.008180518601957877), (3739, 0.0081728897383897), (295, 0.008168939254403441), (864, 0.00816863164522756), (1510, 0.008161107448603414), (4137, 0.008158217224181967), (1574, 0.008157843985001764), (209, 0.008157245550242987), (2109, 0.008148911568159365), (319, 0.008136519950589482), (2169, 0.008136270403093332), (504, 0.0081328697891952), (4604, 0.008127680717402736), (3125, 0.008123945073985357), (1223, 0.008115282687590295), (4541, 0.008109805615736734), (1170, 0.008093097692631647), (4330, 0.00808852313500702), (2524, 0.008071595206617469), (3174, 0.008062432748780539), (3330, 0.00805648431801694), (2324, 0.008048194584473436), (4511, 0.008040451391166983), (1678, 0.008037828388852395), (2534, 0.008035976853059741), (3299, 0.008032928966804083), (346, 0.00803280311231185), (3374, 0.008022748491027718), (4394, 0.008021871812292249), (105, 0.008017450440994636), (3477, 0.008016081316573824), (894, 0.008008074444779283), (3435, 0.008005441772173882), (1059, 0.008002163347224669), (1453, 0.007989873357374687), (1411, 0.00798836380033325), (3237, 0.007984643057616023), (787, 0.007981775673255002), (2416, 0.007967409395952195), (4685, 0.007936696021447658), (4284, 0.007931923378876252), (3260, 0.007931511415192827), (3046, 0.007928777394877157), (3557, 0.007927399696562594), (870, 0.007904699366033387), (4687, 0.007904525861611219), (3447, 0.007899371629952148), (2029, 0.007892379610414139), (3412, 0.007884220130503786), (4387, 0.007882514592525171), (2103, 0.00787162276641635), (1035, 0.007853420239259758), (292, 0.007843236165807777), (4550, 0.007836965102851472), (2808, 0.007833261121955325), (1467, 0.007812043021824223), (3028, 0.007811967113944045), (1645, 0.007809638193231824), (2612, 0.007807447978486894), (2268, 0.007807374732527337), (3917, 0.007776416341259331), (3826, 0.007771768300059552), (2131, 0.00776582640479542), (18, 0.0077516642350473315), (1446, 0.0077469019361343545), (3504, 0.007743050810595546), (3868, 0.0077350299312584705), (4523, 0.007733229551827827), (2143, 0.007729075319052235), (4155, 0.0077230056518416655), (1877, 0.007714105963941549), (4152, 0.007712805045332288), (3151, 0.0077005974906730855), (29, 0.00769830131245329), (3784, 0.007694636089654337), (3574, 0.007693253923928721), (2706, 0.0076854466889961), (1132, 0.007682763671965354), (644, 0.007679468222233777), (2859, 0.0076642236733410005), (2388, 0.007658202376563814), (1710, 0.007657655207232808), (3293, 0.007651482508495273), (4124, 0.007649276945854083), (3646, 0.0076439667773968364), (408, 0.007643059622956298), (1404, 0.007641546204260208), (3819, 0.00763283280575391), (966, 0.00763273935199186), (388, 0.007631467245181815), (2812, 0.00761854616942228), (4257, 0.007615373489482767), (3223, 0.007607581951431824), (2899, 0.007599300755896045), (742, 0.007598954218600877), (507, 0.007590663829555821), (3407, 0.007589234190209067), (3057, 0.007583634980701489), (3071, 0.007571926559567228), (4059, 0.007559900804928786), (1620, 0.007559015893222909), (1206, 0.00755705108117765), (3399, 0.007552602416818648), (4634, 0.007543278584573564), (1555, 0.007525626432444253), (410, 0.0075208945208078675), (866, 0.0075152440162308785), (2446, 0.007508397211115391), (1456, 0.007503489262672462), (1642, 0.007481868235517525), (2317, 0.007479890691543735), (2562, 0.007476743234564169), (3854, 0.007475672189066439), (4402, 0.0074750367934629525), (899, 0.007451965316114591), (324, 0.007450903211080308), (590, 0.007450742496053785), (4174, 0.007440680783308352), (669, 0.007438203856578265), (3389, 0.007434931592601028), (4348, 0.007434244150141935), (907, 0.00743415032073119), (4176, 0.007433360377744781), (4649, 0.007424039212708998), (1875, 0.007423540981865197), (3306, 0.007411275404935208), (3144, 0.007393835771829387), (1360, 0.007357421246023399), (2671, 0.007357264175807516), (2055, 0.007326753032364491), (1595, 0.007315792204373143), (3311, 0.007312665870008821), (1220, 0.007296355928141016), (3336, 0.007276248233729281), (1000, 0.007271083331053422), (722, 0.007263816627331173), (885, 0.007250983448888715), (1808, 0.007250002474678935), (3111, 0.007235345010413262), (1762, 0.0072117687452000504), (1539, 0.007208419555633382), (1392, 0.007187492540984844), (2587, 0.007173979048322413), (1394, 0.007162263638009481), (495, 0.0071500051985783145), (33, 0.00714420743471645), (166, 0.007139439011287567), (0, 0.00713630406974853), (2555, 0.0070933868584708865), (3894, 0.007089855950141806), (4156, 0.00708627029991862), (4007, 0.00706000508226506), (924, 0.007041555374389208), (4473, 0.007040649125442588), (4748, 0.007001300431344075), (2942, 0.006995278313008702), (2761, 0.00695662597374116), (2818, 0.006952960022528585), (3393, 0.006952691013054953), (2611, 0.0069353591554263214), (60, 0.00691528629872029), (1565, 0.0069099119883386205), (3376, 0.0069031665322454566), (3579, 0.00690035183622896), (1743, 0.006881030365160725), (1352, 0.0068668689649029925), (2933, 0.006865217416483339), (3142, 0.00686474562606098), (1971, 0.0068519960953272105), (3668, 0.0068424790852245915), (1845, 0.006836215472775669), (175, 0.006826177550810543), (2076, 0.006818051241136766), (547, 0.00681570864153558), (195, 0.006794875648198539), (2603, 0.006789589601851098), (2127, 0.006786480787567333), (3821, 0.006779618541167319), (3750, 0.006773773794763038), (2614, 0.006773101972860831), (3928, 0.00675268389508739), (2481, 0.006732091843544776), (3927, 0.006728719833715685), (844, 0.006723426687930117), (2969, 0.006704789679920861), (442, 0.006703046547358042), (2563, 0.00668585972183078), (3957, 0.006663239992050493), (1369, 0.0066165259826719055), (2526, 0.006614276234293667), (156, 0.006567105729464045), (2547, 0.006538284446156845), (1377, 0.006521127425966373), (3410, 0.0065052749928671445), (510, 0.00646186476156559), (3145, 0.006450584286078876), (1144, 0.006445117056234786), (3362, 0.006401363758855834), (4739, 0.006360080913309721), (4288, 0.006346300154707402), (2440, 0.006334890396271041), (3578, 0.006266921180603598), (3199, 0.006260203287306395), (948, 0.006251690809975308), (2581, 0.006204513930740738), (4271, 0.006143734611033394), (2363, 0.006135863025270456), (2636, 0.006069182025095925), (3983, 0.00605627048521748), (1277, 0.00604526726119543), (4719, 0.006040608999877848), (3546, 0.006031294913594951), (3502, 0.006009715461682903), (2351, 0.00592646048903406), (4524, 0.005925038033264922), (1343, 0.005902356843780728), (153, 0.00583558726558707), (4449, 0.005825797062555022), (2032, 0.005818296880870763), (491, 0.005804540715390548), (4031, 0.0058041416769714135), (3137, 0.005789517306976027), (3172, 0.005781397999925431), (3312, 0.005766882382535802), (3932, 0.005753309918087559), (293, 0.005747952450711762), (1758, 0.00574144473398682), (4281, 0.005738528739346734), (4454, 0.005728169348898323), (4171, 0.005713294731452085), (2012, 0.005709994202752057), (380, 0.005703951484318637), (1381, 0.005697763903288981), (2785, 0.005684788572043589), (2486, 0.005668852587218739), (2079, 0.005667981909242657), (4121, 0.005647164454266297), (424, 0.005637563569148996), (425, 0.005632672355737967), (4460, 0.005628106996981001), (681, 0.005621263736818787), (4462, 0.005610953940084809), (2470, 0.005607719059284613), (1011, 0.005607339032583743), (2532, 0.005605298223027669), (2518, 0.005605136911678934), (666, 0.005587157980749865), (3325, 0.005572385763726837), (3469, 0.005560312378680092), (250, 0.0055559275134531485), (3221, 0.005553279339258536), (747, 0.005535611041928955), (4120, 0.005534455009264155), (4515, 0.00552502056870376), (3817, 0.005523239430648615), (3681, 0.005511849448859512), (4064, 0.00550799920996515), (4549, 0.005507977074292631), (1725, 0.0054890762975696875), (3444, 0.005473044622212157), (1486, 0.00546802182039439), (2233, 0.005448743907329441), (1583, 0.0054396302921005946), (2458, 0.005410845577763612), (704, 0.005368675597798594), (1640, 0.0053626540646975335), (4151, 0.005358691053180427), (1150, 0.00535531753082642), (1390, 0.0053417912999785995), (420, 0.005339005605381018), (4492, 0.005333684270715357), (1520, 0.005329960673722755), (2263, 0.005328885336137923), (4351, 0.005324578277322296), (3131, 0.0053120229393436415), (2443, 0.005309125673144049), (1282, 0.005308105928443007), (2963, 0.005301381569134293), (3457, 0.005293307292550171), (3461, 0.0052924932745365425), (10, 0.0052912125590450915), (2086, 0.005288128626386026), (392, 0.005274140968811832), (361, 0.005270555810781333), (2147, 0.005270145912378426), (2719, 0.005269128993028802), (3724, 0.005264654825063164), (3897, 0.005264251842324269), (1426, 0.005260370851682729), (1436, 0.005253440358849654), (301, 0.005252156783741379), (4406, 0.005251811894964031), (2330, 0.005249609047989688), (765, 0.005247443497269021), (3103, 0.005245910711667441), (3259, 0.0052363051970923035), (1859, 0.005235494681951817), (4695, 0.005232666874147752), (1578, 0.0052293850587856105), (781, 0.0052289229832158295), (1104, 0.005226020047765239), (344, 0.005222041496766205), (3969, 0.005216031529516954), (1336, 0.005213370939470713), (2675, 0.005204899494700229), (4621, 0.005188393036935287), (201, 0.005180264038130034), (1613, 0.00516449898595942), (1841, 0.005164102192371066), (1702, 0.005160547828989214), (1155, 0.005149617067207317), (3507, 0.00514706903752749), (1195, 0.005146711753635706), (2511, 0.005146484052953579), (4486, 0.0051464221515957025), (615, 0.005143284868546565), (189, 0.00514158565115877), (2816, 0.005137404107876816), (3549, 0.005134917097140799), (2222, 0.005128500350624373), (3463, 0.00512182355721551), (1636, 0.0051157071983008885), (1961, 0.005114982894885202), (137, 0.005111859444452657), (971, 0.005110638285880052), (2431, 0.005110110225951211), (778, 0.005109709137141442), (4388, 0.005105937313493276), (3722, 0.005104962968484485), (3446, 0.005099140955096881), (1726, 0.005095030741753961), (1525, 0.005090741088113912), (1564, 0.0050851137330642044), (1431, 0.005084203112515975), (2678, 0.005079458709775018), (110, 0.005074467856750098), (3552, 0.005072564134093953), (1266, 0.005065503679211967), (1704, 0.005061256758613457), (3810, 0.005059376551454358), (2421, 0.005058866680883164), (2788, 0.005054800493471568), (1322, 0.005054348573086612), (1587, 0.005054067079784028), (1425, 0.005050970838500686), (919, 0.005045713084081648), (28, 0.00504112663038358), (2278, 0.005037109764265255), (4210, 0.005036145843472604), (83, 0.005031422164856527), (3650, 0.005030964307557458), (131, 0.005030360326520627), (945, 0.005027491679753262), (1751, 0.0050234721315995465), (1461, 0.0050206747803927575), (611, 0.005010956020658708), (736, 0.004998411009138102), (1515, 0.004997471393543467), (4755, 0.004995241774998501), (1346, 0.004993484561023402), (2501, 0.00498899969232093), (2299, 0.004987451036221989), (560, 0.004980135074684705), (2813, 0.004975707851026893), (2198, 0.004974578999628057), (3926, 0.004973097479125492), (264, 0.0049719529593271975), (4099, 0.004963807821973741), (3033, 0.00496230541141944), (4006, 0.004962194546038537), (931, 0.004961691383731603), (305, 0.004960300562212926), (3343, 0.004960097240530604), (4571, 0.004955996471437775), (3955, 0.004954858207014782), (1262, 0.00495188484727859), (4592, 0.00494974414097315), (3594, 0.004945503852527543), (525, 0.004938536657043149), (610, 0.004936589703116687), (3270, 0.004932834975638334), (1238, 0.004931272633989741), (3178, 0.004931140464814038), (3963, 0.0049279527852144865), (3818, 0.004923889940833124), (1852, 0.004896256031359992), (1857, 0.004887966966616871), (3746, 0.004887689638329171), (2128, 0.004882496710048253), (1551, 0.004879915788364513), (1888, 0.0048773910838086085), (2329, 0.0048700650621534315), (4157, 0.004865560505308296), (1130, 0.004865284854450005), (2713, 0.00486405931892807), (4218, 0.004856686517091651), (2504, 0.004847713859152047), (4112, 0.004846421477927262), (3709, 0.00483938109728819), (2322, 0.004836526636366425), (2178, 0.004829464980345747), (3994, 0.004825054580408897), (790, 0.004812353163276644), (345, 0.004812143976050788), (773, 0.004803147555185809), (1146, 0.0048007804084309845), (2003, 0.0047967814110617315), (1347, 0.0047958060094828), (2245, 0.004795647414569368), (4217, 0.00479556909151768), (3011, 0.004794539083735102), (3720, 0.004791463724454456), (1493, 0.004786823947238544), (2056, 0.004784578117194788), (3512, 0.004782554993035582), (3562, 0.004782485147370087), (4564, 0.004780719661940975), (521, 0.004780419561489902), (4252, 0.004777102072728809), (585, 0.004776387364282879), (179, 0.004772480800167162), (3886, 0.004768344990843857), (486, 0.004768110459334482), (3053, 0.004764736940493755), (3786, 0.004763991197793553), (427, 0.004762456016793774), (3568, 0.0047617256451601905), (1632, 0.0047604916135449964), (4438, 0.004760160953332694), (2829, 0.004756980756892637), (4279, 0.004748042108971602), (4481, 0.004743905132765241), (2897, 0.0047425275897513405), (284, 0.004735132841356097), (498, 0.004733478117001255), (2409, 0.004728889776571815), (3465, 0.004716068487812072), (1274, 0.004715294004929043), (2631, 0.00471513093869693), (1738, 0.004713518781826418), (171, 0.004713064682811977), (260, 0.004709371178122053), (3276, 0.004708098121686215), (3891, 0.004701929329736454), (4555, 0.004700628187960362), (3361, 0.004700088965254819), (2094, 0.004698483169760633), (4012, 0.004686015518408138), (2998, 0.0046822752750915065), (1756, 0.004682136320532113), (2311, 0.004670604173005656), (1824, 0.00466713072121774), (3133, 0.004666895379502618), (3193, 0.0046641093601142835), (3320, 0.004663341456068273), (1723, 0.0046610411168254645), (2139, 0.004659939968519154), (661, 0.004657730188557653), (4548, 0.004654324252979538), (2938, 0.004648119739343579), (974, 0.004647984299987035), (1903, 0.004644619125527406), (426, 0.004644069284233836), (810, 0.00463886154921051), (492, 0.004635631069354096), (3909, 0.004632420329504872), (3966, 0.004630656001601957), (2992, 0.004629515235440794), (1778, 0.004624690780036214), (3280, 0.0046226001958666755), (690, 0.004619578767403122), (3083, 0.0046155771333558256), (2874, 0.004608182995376763), (454, 0.004608084287286754), (549, 0.0046066574401199606), (240, 0.004595724214401563), (9, 0.004594743340940757), (3321, 0.0045940007531173116), (978, 0.004592492435439526), (1068, 0.004591740380295047), (335, 0.004590167143596016), (4009, 0.004587693927660514), (2497, 0.004585649019377198), (2491, 0.0045777624138838725), (4342, 0.004575323516336874), (409, 0.004571197586487243), (2666, 0.004564288149316208), (1984, 0.0045634848701932), (94, 0.004559586983703623), (411, 0.004557323555430794), (1157, 0.004555656409947363), (80, 0.00454938836373475), (1524, 0.0045473245281030025), (821, 0.004547239886323903), (4600, 0.004543783985499756), (14, 0.0045433665812068405), (776, 0.004531708712466089), (1568, 0.0045309640875122546), (4689, 0.004530582964675092), (2529, 0.004527421123070038), (1990, 0.004523506531398018), (3295, 0.0045184403493446715), (352, 0.004512699964948512), (3459, 0.004511602577892332), (1784, 0.004508561388707879), (1935, 0.004506852163577057), (2379, 0.004501153095436021), (583, 0.004501152778015054), (1626, 0.004498910099791061), (1171, 0.004497580641858845), (2490, 0.004495308346809814), (4109, 0.00449257516228681), (4647, 0.004489759432023842), (1809, 0.004487218045556741), (2937, 0.00447860508895357), (1816, 0.004475709401528269), (2262, 0.004473124979753764), (2514, 0.004460753698843987), (4705, 0.004459212294014093), (664, 0.004450686997263392), (3051, 0.004448906796620315), (3231, 0.0044462203052363335), (2764, 0.004443461763936372), (2768, 0.004433485072295915), (3672, 0.004431883777774772), (2929, 0.0044282758034297695), (3865, 0.004427943307799924), (1025, 0.0044245748281116935), (2156, 0.00442118529998865), (2858, 0.004420734915980422), (1384, 0.004419011267798691), (497, 0.00441840675181707), (4082, 0.004405987616721348), (882, 0.0044012548582720214), (1468, 0.0044010215718316105), (3598, 0.004395243712246807), (2722, 0.004378395629258415), (2189, 0.004378104222139734), (2906, 0.004371238183279581), (4202, 0.0043611068828639625), (756, 0.004359941782425362), (3411, 0.00435614515346532), (3040, 0.004355595418091007), (2608, 0.004348768662169109), (2989, 0.004345910099643477), (2805, 0.004341773996358747), (2251, 0.004339536647867508), (1018, 0.004329716347300743), (3166, 0.004326277945362741), (3852, 0.004326230545331065), (2349, 0.0043183899503941294), (1145, 0.004312837318738507), (4353, 0.004311848439498283), (2407, 0.004311277240256408), (3684, 0.0043090233440100075), (1772, 0.004308551054884423), (3990, 0.0043049741161299586), (1559, 0.004297110973198466), (2889, 0.004293482138353462), (2842, 0.004292774668847148), (1521, 0.0042882035108966305), (1850, 0.004282556400645143), (2537, 0.0042785162723901135), (3119, 0.004275830643364505), (1546, 0.004271381030722194), (4617, 0.00426566859706337), (4158, 0.0042631973620682094), (4704, 0.00426079384063684), (2, 0.0042603051915136225), (3052, 0.004260087251918978), (2801, 0.004259204083698753), (3055, 0.004244022583021062), (2404, 0.004242139015125494), (2020, 0.004235214843439516), (3731, 0.004234273608778228), (2775, 0.004234093342921125), (1120, 0.004233095175033202), (4017, 0.004232380721223287), (2870, 0.004228041327882241), (3561, 0.004227981189019894), (3030, 0.0042251654578696835), (627, 0.004223243674077329), (3635, 0.004216772418188397), (2622, 0.004212471877429235), (2855, 0.004210531697962348), (2204, 0.004208963372740395), (947, 0.0042071735343642315), (3164, 0.004204664396952378), (2923, 0.004202297119096552), (970, 0.004194971562379042), (1910, 0.004194532814467079), (639, 0.004192636196411368), (3291, 0.004191255967573777), (3674, 0.004191184857420459), (2731, 0.004186521892484499), (4749, 0.004185669144913712), (4222, 0.004182886404338591), (4529, 0.004181802058842597), (1279, 0.0041803218759054045), (3481, 0.004178717111579003), (78, 0.0041736053140637355), (3658, 0.004172225972405491), (2296, 0.00417086277458511), (2484, 0.004170176689084585), (2310, 0.004170045166445932), (4221, 0.0041699611196641334), (575, 0.004165283029516306), (3479, 0.004165207904483756), (58, 0.004163191025917083), (4484, 0.004158370913286285), (4611, 0.0041572225094831375), (2694, 0.0041545418288425695), (2861, 0.004134030206121045), (3484, 0.0041291315660581815), (1221, 0.004127881840743939), (2932, 0.004123682089656896), (4172, 0.004123230430004651), (2559, 0.004099999115314894), (4418, 0.004096224944147547), (2832, 0.00409308383565995), (2075, 0.004086689054196779), (4696, 0.0040860094810172476), (2628, 0.00408289730165985), (3076, 0.004081763924979041), (4407, 0.004079595603193775), (3219, 0.00407592360547892), (2448, 0.004073189085524529), (3292, 0.004071463086794729), (1530, 0.004066151960292722), (3762, 0.004063273460449241), (381, 0.004055285408633794), (3892, 0.004054455144194831), (4423, 0.0040443496649533615), (4019, 0.004043101590632963), (2425, 0.004042202146972875), (2643, 0.004033679682102177), (4546, 0.00403149728132546), (2255, 0.00402389976584568), (1695, 0.004018766572112728), (2257, 0.004015523538920799), (3322, 0.00401405796568147), (889, 0.004013916486818796), (3262, 0.004013107861529653), (2901, 0.004004380151553313), (3944, 0.004002335868255893), (4230, 0.003996261407501201), (2154, 0.003994979863898437), (2838, 0.003985877564641997), (4400, 0.003975890862578275), (2774, 0.003967529556795728), (2530, 0.003964090946783756), (4102, 0.003960045930919276), (3848, 0.003956909112982071), (3015, 0.003952239951568753), (2078, 0.003948793651949226), (4606, 0.003948514024711095), (2734, 0.003946295817661266), (2306, 0.003946006053178612), (3828, 0.003944461863605373), (4710, 0.0039423569163631374), (2795, 0.003938759321932917), (3239, 0.003932204537955499), (3128, 0.003931554270504927), (2423, 0.003930580529163431), (668, 0.003928096618591723), (3354, 0.0039267289805949845), (3140, 0.003925119123508885), (526, 0.003921959690603893), (1711, 0.0039111657851567585), (3249, 0.00390084228307945), (2326, 0.003898759324011629), (4469, 0.0038968599710433433), (3687, 0.0038955322411105054), (4692, 0.0038932307346711474), (4544, 0.003890770233915381), (3363, 0.0038897600716155997), (3537, 0.0038685148180066125), (2557, 0.0038681418582251826), (2438, 0.0038632127847452982), (3159, 0.003860102045989541), (4306, 0.00385595821334039), (4107, 0.003851177713400346), (3922, 0.003850195078079051), (2857, 0.0038499245001993227), (3613, 0.003846951037877042), (4724, 0.0038446818845733212), (3521, 0.0038423318416858305), (3004, 0.0038415230657204476), (2266, 0.0038403568212683563), (3999, 0.0038403450612099353), (4572, 0.003827798943239245), (3074, 0.003826547415520396), (4298, 0.003826306091883818), (4443, 0.003820716085249963), (2797, 0.0038174944995538872), (3154, 0.0038173559419357145), (3874, 0.0038139010795792544), (4723, 0.0038133720715065426), (2488, 0.003811633542394087), (3031, 0.003809896997320394), (3832, 0.0038075193032337897), (2188, 0.00380636046215205), (3123, 0.003804287034644686), (402, 0.0038021222986815524), (3302, 0.0038000867283054553), (369, 0.0037999291201321196), (2879, 0.003798330532446593), (3620, 0.003797856363844676), (4147, 0.0037976597768829288), (3544, 0.00379649523955707), (2459, 0.0037962054154312115), (1655, 0.0037938847922203427), (2966, 0.0037914873168314912), (3358, 0.003786457509814731), (3020, 0.0037863088008579775), (1593, 0.0037797135781787363), (1064, 0.0037786482496599823), (2778, 0.003771289085810503), (3779, 0.003766170738483643), (2454, 0.0037661577811411613), (4414, 0.003762952052974569), (2993, 0.003761882169661777), (3901, 0.003761389522484458), (3257, 0.0037581142823187364), (1264, 0.003756943678793682), (1429, 0.0037494615591083446), (777, 0.0037485641613936734), (3356, 0.0037448531791612616), (4373, 0.0037376841079188234), (489, 0.0037309799531230997), (2434, 0.0037285822021061467), (4458, 0.003719767413402367), (3766, 0.003719381544339009), (3675, 0.0037178581577643277), (4554, 0.0037074277431214555), (4637, 0.0037008827211561885), (4490, 0.003698772475474457), (1049, 0.003698294091667794), (2772, 0.0036945679333103567), (3308, 0.003692411655496562), (4735, 0.0036906882904359237), (2986, 0.0036891680265903224), (2769, 0.0036813191119441533), (431, 0.0036781903260160163), (4632, 0.003677002839219887), (3935, 0.003675151289567443), (2613, 0.0036743199234173254), (4416, 0.003671245475237537), (3081, 0.003670514405518699), (2378, 0.0036704693598352423), (3621, 0.003670029919360688), (3524, 0.0036695527418323945), (1053, 0.003668427650811972), (4584, 0.003666715835652276), (2089, 0.0036648405578682945), (4694, 0.003664612237565562), (1187, 0.003664404457478293), (2707, 0.0036605169263170556), (1885, 0.003654407538616726), (4412, 0.0036535258372401482), (2417, 0.003651764300583624), (4030, 0.0036505563195049734), (2846, 0.003649430834915947), (937, 0.0036438858927899916), (4075, 0.003639243627856007), (3540, 0.0036376994965943332), (2142, 0.0036375232755006454), (3019, 0.0036307852552219327), (3359, 0.0036296778985264646), (4126, 0.0036292753604257578), (2696, 0.0036255947793007405), (3072, 0.0036249907071495588), (3307, 0.003622905890012573), (1947, 0.0036206220969242633), (2269, 0.003619834408961261), (2924, 0.0036171118461689068), (4163, 0.003615994952712615), (3729, 0.003614521976121786), (3425, 0.003613848333279265), (860, 0.003613674711893562), (4713, 0.0036104794013714055), (443, 0.0036074237254502275), (3408, 0.0036067673854095496), (4398, 0.0036039555462592625), (2987, 0.003600643579193825), (2884, 0.0036003993632169272), (3419, 0.003599304679282716), (1275, 0.0035987472358895213), (3396, 0.003597485198394259), (4650, 0.0035943347218571117), (2872, 0.00359014473419542), (4369, 0.0035882242144643526), (3355, 0.003588185765155512), (925, 0.003586207298894153), (3165, 0.003582290300462651), (2187, 0.0035795270666676314), (3952, 0.0035767004536425232), (4516, 0.0035764379082809826), (4465, 0.003574487874459946), (721, 0.0035735924003440327), (4244, 0.0035730684398013247), (3639, 0.0035694837348399597), (2796, 0.003569284057698576), (3423, 0.0035687163072275095), (985, 0.0035677855502437177), (2702, 0.0035646764696854486), (4295, 0.003560953229435495), (876, 0.003559949778673304), (1497, 0.003559499824207206), (739, 0.0035589421153628524), (4753, 0.003556404544985875), (3883, 0.00355517928112093), (4243, 0.0035506184678927278), (3772, 0.0035492937243557657), (3296, 0.003547328838176026), (2223, 0.003546208540163449), (2346, 0.0035461562427833155), (3611, 0.0035437657190323254), (2051, 0.0035435672247599954), (3867, 0.0035430802405461083), (2302, 0.003542517225071419), (2437, 0.0035400979417831878), (1909, 0.0035400596321181264), (4187, 0.003538894012024087), (1843, 0.0035374849858610244), (2893, 0.0035368932175003924), (3186, 0.003536405945529738), (998, 0.0035356804012858936), (999, 0.0035327866933007606), (2881, 0.003532351200949859), (2411, 0.0035316421597594697), (3148, 0.003531260255657963), (4731, 0.0035312471940608255), (2936, 0.0035306146783073704), (478, 0.0035297928540330846), (4092, 0.0035295343870321576), (2914, 0.0035272636021539774), (3680, 0.003526861825961671), (3992, 0.003525528272296626), (1148, 0.003521439586431793), (235, 0.003520317193358156), (4699, 0.0035189938730255345), (576, 0.003515884340503623), (3274, 0.0035141333919479754), (3373, 0.0035103820540065373), (533, 0.0035079736037225725), (1023, 0.003505852965866455), (1489, 0.0035045922329357652), (3560, 0.0035043680405534568), (3962, 0.0035028390329623193), (2974, 0.003501680247421433), (4718, 0.0034979417218048143), (2903, 0.003497629455599934), (3196, 0.0034973768802439445), (4160, 0.0034968709788797186), (3012, 0.0034967530657008627), (2579, 0.0034959683877513656), (596, 0.003494570603778995), (2916, 0.003493509726332771), (1499, 0.0034913711315961997), (3032, 0.0034910596432969135), (4535, 0.003490885650698649), (3146, 0.0034886380790317504), (2356, 0.003486577659837189), (4401, 0.0034846447413191908), (3593, 0.0034816259611222676), (4293, 0.0034803071726442333), (458, 0.0034800817697180305), (4051, 0.003479591272638199), (3804, 0.0034791614184484193), (3248, 0.00347837185013923), (729, 0.0034779202735462883), (444, 0.0034751296530818004), (3273, 0.0034722698461648405), (2209, 0.003472246171535964), (2782, 0.0034718436912944154), (3157, 0.0034714963326834764), (4397, 0.0034711027731904277), (41, 0.0034704596087059983), (4706, 0.0034650606312261654), (3003, 0.0034646954042678916), (4605, 0.0034644144116080474), (4259, 0.0034643736668090994), (4113, 0.003464185150995779), (1923, 0.003463828274405781), (2108, 0.003461736808658594), (1890, 0.0034607590997542998), (3062, 0.0034577985011518078), (4138, 0.0034570729440931303), (2535, 0.0034568216254570335), (688, 0.0034550198068866067), (1960, 0.0034532146773207685), (2592, 0.0034528183234817556), (3797, 0.0034513545195033342), (3967, 0.0034478115363351376), (2040, 0.0034456444899637556), (857, 0.003444138708301193), (2176, 0.003443008157083243), (3961, 0.0034424956808831717), (715, 0.0034416760995542267), (1580, 0.0034415828177876127), (2890, 0.0034415595057412764), (4619, 0.003441185474023437), (3097, 0.0034391315464021603), (2049, 0.003438411380749343), (4263, 0.0034351818466676087), (3417, 0.0034351008077726903), (1454, 0.0034257001186716787), (476, 0.0034236324222453748), (450, 0.0034223279470085334), (2410, 0.00342152204250209), (4446, 0.003421378306475676), (1479, 0.0034207657397731716), (2464, 0.003420596123685905), (4308, 0.003420311032372022), (4046, 0.0034191529354558117), (2390, 0.0034190947624153224), (4048, 0.0034143750708749477), (2624, 0.003412745742474113), (3714, 0.0034090562454830524), (4130, 0.0034089333190234217), (318, 0.0034084306681940618), (4140, 0.0034077577153684116), (3497, 0.003407721497613766), (896, 0.003407165738034482), (673, 0.0034035312971316674), (3813, 0.003403036971682214), (1243, 0.0034018541105424135), (4133, 0.0034008088974247465), (1905, 0.0034003158953472895), (2293, 0.003399662180785923), (4522, 0.003398894211324024), (4669, 0.003396895031613119), (350, 0.0033954182656367065), (499, 0.0033941919984384946), (3064, 0.003393733281584515), (2915, 0.003391710107145358), (2748, 0.003391537470529915), (3258, 0.0033914666527205717), (2214, 0.0033911047288490885), (2882, 0.003389185661178623), (2507, 0.003388052869302963), (8, 0.0033871707494619635), (3889, 0.003382491597027141), (1897, 0.0033816438854271753), (1325, 0.003380512964719585), (2705, 0.003377079916948453), (3694, 0.0033753621873477816), (4545, 0.0033751324305544158), (1959, 0.003373769393006885), (3269, 0.0033737412978320004), (952, 0.003371489859379843), (1015, 0.0033714393946497113), (1874, 0.0033706278193192107), (794, 0.003370585368978844), (4734, 0.003370564278951853), (3704, 0.0033704445658195026), (3449, 0.0033702650067154094), (2477, 0.0033697279841796127), (3893, 0.003369340799616595), (2116, 0.003366170228836137), (3757, 0.003364393762562025), (728, 0.0033639336691455722), (2190, 0.003361879541750317), (4579, 0.003361780117091757), (210, 0.0033613862439401234), (2776, 0.0033591225623312926), (3692, 0.003358132820213994), (1848, 0.003357461697129786), (4161, 0.0033553150606050203), (4657, 0.0033543802607416463), (2475, 0.0033540964951715505), (3112, 0.0033537823657742), (1359, 0.003351412997165475), (4540, 0.0033512519512247036), (1708, 0.0033498489236527093), (2162, 0.0033493152358188955), (3095, 0.00334843563464675), (991, 0.0033479054744869775), (3496, 0.003347836314860156), (2254, 0.0033468735752801983), (395, 0.0033462586639330214), (2723, 0.0033449459623696074), (4371, 0.00334455812546465), (3781, 0.0033417538214151506), (2786, 0.003339988697637289), (4574, 0.0033394682962152467), (872, 0.0033389572573153253), (4111, 0.0033388380886029026), (1683, 0.003337501729236001), (2260, 0.0033364168419267883), (3904, 0.0033359879099191282), (21, 0.003335302318991981), (3728, 0.003335153042213537), (4680, 0.003334706246580206), (1712, 0.003333784308368806), (1141, 0.00333307688832554), (3007, 0.003331947402984583), (2391, 0.0033311477399697283), (1119, 0.0033299403375338507), (2393, 0.00332841311626207), (4231, 0.0033270293670333915), (1324, 0.0033269428425185916), (826, 0.0033262749758712234), (3601, 0.003326252565225068), (2151, 0.0033253270579198103), (2664, 0.003325059719898237), (4357, 0.0033246182204099374), (2970, 0.003324405497519041), (2105, 0.0033211629526614687), (3973, 0.003320671241933271), (1779, 0.0033205802674349813), (1572, 0.003318643607973207), (3434, 0.0033180890146428756), (1339, 0.0033151324622576876), (3590, 0.0033130467776007143), (612, 0.0033114137770183395), (208, 0.003311216077220005), (2821, 0.0033110440152625724), (206, 0.003308470937686219), (2361, 0.0033082135939843447), (3084, 0.0033079330880336363), (4489, 0.0033078801844236157), (68, 0.003307749027383721), (4471, 0.0033073813459852724), (4054, 0.0033071218933652274), (456, 0.003304426887905857), (3326, 0.003303323643399762), (4505, 0.0033013422735725813), (1853, 0.003301308968995975), (2953, 0.0033012810042568033), (2714, 0.0033008384944877857), (1685, 0.003299839735740742), (1484, 0.0032991665767967623), (2288, 0.0032989763938522107), (2196, 0.0032982212587469623), (4286, 0.0032975180585539526), (2849, 0.0032972699557685756), (4052, 0.0032962991394619905), (4318, 0.0032957002717845484), (4123, 0.0032931519751273827), (1822, 0.003292372616795748), (3037, 0.0032921685688882974), (3406, 0.003291540266434665), (470, 0.0032894494976785323), (4420, 0.0032887250074594187), (1400, 0.0032876615299822524), (1916, 0.003286676703338715), (2394, 0.0032863903385908755), (1075, 0.003285537330730878), (2385, 0.003284980917662726), (4474, 0.0032839460385594753), (1007, 0.0032834213654885894), (3511, 0.00328306392009998), (3882, 0.003282508196888644), (3187, 0.003282104938961559), (51, 0.0032814444112732413), (3984, 0.0032800588961045003), (2419, 0.0032767187947308845), (4757, 0.0032752963750890354), (3242, 0.0032745129715822017), (1188, 0.0032735988796505928), (716, 0.003270588995896998), (173, 0.0032687635540384428), (429, 0.0032686866597167736), (2088, 0.0032676875039991324), (564, 0.0032675080408977797), (255, 0.0032660012569866908), (1439, 0.003265607445503034), (4430, 0.003265459008376269), (4497, 0.0032653353873256783), (845, 0.00326519540933624), (502, 0.003265136673823127), (3437, 0.003265073080762649), (1736, 0.0032650451568715555), (4354, 0.003262697541915833), (270, 0.003261862148245638), (2926, 0.003261787594044851), (3770, 0.0032614861430467477), (580, 0.0032591201516582757), (3862, 0.0032573598858009014), (4083, 0.003256163354420391), (3514, 0.0032560213408810708), (482, 0.0032554122786713404), (3351, 0.003255135353784105), (2561, 0.0032538725831139986), (3845, 0.0032531602129549585), (2601, 0.00325268900786791), (4419, 0.0032514524591087737), (2545, 0.0032494058567165644), (2370, 0.003249354174587753), (1513, 0.003248962248265865), (543, 0.0032483713725893464), (1983, 0.0032482760097018973), (4089, 0.003247464099847229), (34, 0.003245426053331772), (3902, 0.003245132061775594), (1083, 0.0032450812017093), (4361, 0.0032448873729740545), (2405, 0.0032438451751440277), (1727, 0.003242798320977517), (3353, 0.0032425130632104506), (2650, 0.0032404472678098937), (447, 0.0032385700878331614), (4625, 0.0032383905757731707), (3666, 0.003238387926719562), (4756, 0.0032372967603487754), (3349, 0.00323579503122163), (4079, 0.003233184392797215), (2148, 0.003232716726791541), (2744, 0.0032324031193032487), (637, 0.0032297532878942463), (2123, 0.00322825701232208), (1703, 0.00322699086428587), (1765, 0.0032257604641473554), (4334, 0.0032235430015935904), (4422, 0.0032230590745351353), (4287, 0.0032222080851119763), (3198, 0.0032219413300558124), (606, 0.0032206449478118814), (1382, 0.0032192754889952078), (806, 0.0032186259033837477), (4249, 0.003218049754624094), (3623, 0.003217403614117916), (120, 0.003216601979174001), (2863, 0.003215821119185161), (4470, 0.003215548909346771), (3636, 0.003214149074565098), (1717, 0.0032121186254419174), (1516, 0.003212032389573901), (3153, 0.003211647257789459), (4643, 0.0032081949218677364), (743, 0.0032049505365601655), (1946, 0.003204946226709373), (176, 0.003204794528447536), (865, 0.0032024776312697878), (3016, 0.003201832799880941), (1334, 0.0032017136680425173), (509, 0.003198489220345908), (4563, 0.003198201375801049), (4098, 0.003197006496885792), (3289, 0.0031963278225541096), (3225, 0.003196080488018954), (3809, 0.0031955246723689287), (71, 0.003195204493550827), (1355, 0.0031939084475837063), (3000, 0.003193338908489755), (3542, 0.003191095607042547), (652, 0.00319015154397205), (3571, 0.003189253546929201), (1174, 0.0031884483570781916), (1936, 0.0031876452974014106), (1931, 0.003186629687518608), (3699, 0.0031856259034092663), (933, 0.0031852549777600945), (1176, 0.003183670006060834), (1337, 0.0031828519786697954), (1182, 0.003182119013076326), (593, 0.0031811743396897136), (3113, 0.0031811135246374153), (238, 0.003181053348964598), (3606, 0.003180032715995579), (4197, 0.0031795422154186925), (3653, 0.0031792976035286535), (2489, 0.0031784597447841413), (750, 0.0031774541652499376), (3182, 0.0031771577238766785), (2292, 0.0031765729757316278), (3707, 0.003174327058553575), (1942, 0.0031731477924950963), (2397, 0.0031720132847824424), (3792, 0.0031717634510045937), (3501, 0.003170332872854542), (2295, 0.003168482910872189), (1440, 0.003167044206109828), (2313, 0.003166524537739516), (4049, 0.0031653421443992684), (544, 0.0031650271204513862), (1204, 0.0031644279552611194), (4004, 0.003162989000106149), (2091, 0.0031623062481164464), (579, 0.0031616251428604916), (2887, 0.0031602558246078883), (1476, 0.0031598606820719705), (4014, 0.0031556974056875524), (1138, 0.003154980917005623), (1872, 0.003154514741239249), (2652, 0.003153093419628992), (4677, 0.0031523636355858605), (4391, 0.003151949334138175), (3335, 0.0031512600037411813), (636, 0.0031498364913841947), (1922, 0.003148447506094718), (1706, 0.003147301918004037), (2554, 0.003146366406061636), (2144, 0.003146000449983861), (3670, 0.0031455594925775083), (3227, 0.003144742381883314), (628, 0.003144540649846452), (1232, 0.003142954950901069), (2934, 0.0031416191201130415), (2192, 0.0031408963933986806), (2606, 0.0031404359138073753), (3155, 0.003140230864031909), (2783, 0.003138767169048019), (2533, 0.003136903366062873), (4081, 0.0031361581885654475), (2284, 0.003135723604976788), (378, 0.0031322533102050463), (697, 0.003131933653928668), (172, 0.003128785285818312), (5, 0.0031281756116451507), (4715, 0.003126942018719048), (1488, 0.003126737399080717), (2340, 0.0031266220779326394), (2344, 0.0031253785641820165), (4640, 0.003124663756895159), (1385, 0.0031228182155004958), (2695, 0.003122743097292303), (2831, 0.0031224790259064225), (2354, 0.003122005208276537), (114, 0.003121862066742827), (761, 0.0031193589014982693), (2558, 0.0031193064043257197), (3478, 0.0031189029648382915), (2495, 0.003118619981123457), (986, 0.0031165149209547885), (1378, 0.0031162468235398284), (4427, 0.0031153951776453632), (479, 0.003115212904846066), (2212, 0.0031121344083854187), (3346, 0.0031106047880865902), (4016, 0.00311030886942402), (2943, 0.003107686318205053), (1021, 0.0031066799787646884), (1112, 0.003106424984894047), (4268, 0.0031062993684597144), (1612, 0.0031057689516391183), (3216, 0.003103682184509538), (2853, 0.0031032691341153825), (3807, 0.0031025425211972223), (1298, 0.0031016167037420284), (2999, 0.0031012101146882156), (4409, 0.0031004453260003923), (4060, 0.0030986773730592738), (2289, 0.0030972980163618095), (1102, 0.003095441718506776), (1811, 0.003093814347090351), (3441, 0.003093278938680273), (3727, 0.003092357186095481), (1891, 0.003091834025890886), (2174, 0.003091498493042412), (1634, 0.0030912029143987567), (3553, 0.003091110435067731), (1252, 0.0030900866939998417), (3624, 0.0030899946224949276), (1072, 0.003089120529160376), (1438, 0.0030887694353020296), (4520, 0.0030875061593834217), (2060, 0.0030872258107279855), (3565, 0.0030866850425812983), (3596, 0.0030866700622204308), (3888, 0.0030859863080969696), (247, 0.0030838082119005582), (466, 0.0030834831563307285), (464, 0.0030828756988961438), (2569, 0.0030818416458023544), (3381, 0.0030816537238247455), (3067, 0.003081130799619319), (174, 0.0030806881625553657), (61, 0.0030792285993788307), (1598, 0.0030788014858261726), (1550, 0.003075438257536661), (880, 0.0030741090602056163), (867, 0.003073812649338641), (1313, 0.003073380889412683), (4668, 0.0030731595246836956), (4487, 0.0030727718823421227), (2173, 0.003071219661758981), (2961, 0.0030699875709782496), (3093, 0.0030694305462620123), (3195, 0.003069289609166024), (3906, 0.003068606336515411), (3647, 0.0030685923093562552), (2687, 0.0030685003331509413), (989, 0.0030676685151857738), (1100, 0.0030672779232762295), (4349, 0.003066845769124956), (1110, 0.003065674458978273), (2069, 0.0030643674681156935), (3499, 0.003063964373755647), (1026, 0.0030604920964674037), (4020, 0.00305977827293021), (2980, 0.0030588421762249404), (3827, 0.003058004446146442), (3379, 0.003057791308127201), (1286, 0.003057608302571131), (2216, 0.003056685226122955), (1882, 0.0030558516129422265), (4362, 0.0030538792316199184), (2945, 0.0030530028946542664), (1527, 0.0030523760199203513), (2087, 0.003050499511905692), (4530, 0.0030502583250107433), (3220, 0.0030482063496798982), (4036, 0.003047441864928576), (4641, 0.0030467862001909915), (4299, 0.0030447009222248963), (3719, 0.0030442169030810407), (4743, 0.0030431692849133066), (799, 0.0030404477225415257), (3402, 0.003039298928213431), (2279, 0.0030388849468488536), (1350, 0.0030380766297266946), (693, 0.0030355981479883924), (1096, 0.003034257596309664), (358, 0.003033346003222459), (2008, 0.003033108436245841), (2401, 0.0030311498907860685), (755, 0.003031029871315754), (4693, 0.0030296065294393754), (959, 0.003029395707865851), (3075, 0.0030290860775877403), (1813, 0.003027969905320135), (522, 0.003027512093132222), (3370, 0.003027414017525361), (4183, 0.0030250267120826573), (349, 0.0030249343924968228), (4381, 0.0030236474738266276), (4573, 0.0030235074278147644), (4673, 0.003020796200051037), (1261, 0.003019713004075979), (1671, 0.003019621061012592), (4129, 0.003018872408133195), (3348, 0.003018341119078077), (817, 0.0030182095802991993), (541, 0.0030167579033080305), (4382, 0.003015862138751299), (2080, 0.0030134136657901456), (3298, 0.0030127770291668824), (4139, 0.00301178038534571), (87, 0.003010818434204973), (2653, 0.0030096923938681885), (19, 0.0030091881966334594), (2467, 0.0030091159036926226), (3660, 0.0030076594475486017), (2716, 0.003004183712694314), (4461, 0.0030025242804186092), (3352, 0.00299930694919505), (3900, 0.0029991046437834235), (1248, 0.0029965972996247), (1117, 0.0029961823084775105), (4729, 0.002995864239202657), (1582, 0.0029942697596080595), (1020, 0.0029922340351885932), (2117, 0.002991686370451075), (3503, 0.002990713905471984), (4670, 0.0029875988290949318), (1034, 0.0029868283515747866), (2024, 0.0029866396195111743), (487, 0.0029856515245692177), (2752, 0.002983071239958594), (1027, 0.0029823888934372633), (2141, 0.002981089083949213), (4567, 0.002980854545423348), (1416, 0.0029804577875584145), (3498, 0.002979975933626271), (4536, 0.002979771002172998), (3315, 0.00297942464291358), (2309, 0.002979339100153683), (4614, 0.002979099795670356), (1854, 0.0029778168879261474), (3214, 0.002977580545200841), (3268, 0.0029767765357581986), (2886, 0.0029756007091248453), (1744, 0.002975364645888881), (3978, 0.002974867532530259), (1929, 0.002973313507880254), (3733, 0.002970454421679905), (2473, 0.0029703386657678344), (4321, 0.002969325503195794), (2121, 0.0029692368342143344), (3035, 0.0029691641594807214), (4085, 0.0029684854940281663), (3691, 0.002967773953087411), (164, 0.002967754728832892), (3170, 0.002967128715227583), (3171, 0.002966825915265245), (4213, 0.002965731451081854), (505, 0.0029628906374611205), (2965, 0.0029627233993709005), (1878, 0.0029613643618133668), (3898, 0.0029597206793840272), (437, 0.002959403523603681), (2995, 0.0029559348387207824), (373, 0.002955844821256516), (4246, 0.002953065029751778), (2679, 0.0029513109160531847), (203, 0.002951084944742967), (698, 0.002950865496736274), (2651, 0.002950843765393106), (2598, 0.002950815753160292), (434, 0.002950632432662772), (2133, 0.0029500227439331677), (2997, 0.0029479329413495724), (325, 0.0029472529211729192), (1759, 0.0029469180141737804), (2800, 0.0029466746645538354), (1032, 0.0029458178062044117), (197, 0.0029448929695835907), (116, 0.0029436260490727927), (578, 0.0029435984529171478), (3954, 0.002943549944932942), (126, 0.0029426994755465167), (3734, 0.002941661536646103), (1036, 0.0029415814840399097), (276, 0.0029407717827656444), (3811, 0.002940223421429153), (2972, 0.0029398647338152056), (1663, 0.0029382267740703885), (1177, 0.0029380087761899276), (2348, 0.002937744739556692), (2166, 0.0029373219098214626), (3615, 0.00293703315539537), (3433, 0.0029367295519189545), (694, 0.00293292264908223), (2004, 0.0029313611979287575), (3300, 0.002930973748923761), (236, 0.0029296277406795157), (4254, 0.00292849751457199), (1203, 0.002928379951983842), (1693, 0.0029283774812569243), (154, 0.002927580278965006), (886, 0.0029239842270747285), (903, 0.0029235531281772142), (3941, 0.0029227290728740547), (140, 0.0029215598347171134), (941, 0.002921155800757914), (3243, 0.002921144561462444), (1665, 0.0029202493493277995), (975, 0.002919764511984923), (2496, 0.0029167130460809043), (900, 0.002916119940595416), (2099, 0.0029151656734453433), (1884, 0.002915134547336945), (2149, 0.002914130770078416), (471, 0.002912598323879137), (655, 0.002912513064373013), (4603, 0.0029093038554294727), (3452, 0.002908306555806799), (229, 0.00290772565917331), (944, 0.0029058128191405738), (1819, 0.0029056865993056027), (3725, 0.0029040591444766365), (3147, 0.002903525640861175), (213, 0.0029028253521907028), (921, 0.002902705462477812), (1433, 0.0029016351842250784), (4591, 0.0029007423201264987), (838, 0.002900135742974422), (1558, 0.002899259448196934), (3829, 0.0028991993186404633), (1183, 0.0028949567202661707), (2907, 0.0028925766146572765), (1641, 0.0028922162573983713), (2556, 0.0028920248255137337), (2129, 0.0028899881746590798), (399, 0.002889983425868489), (3120, 0.0028875499015200328), (766, 0.0028858355636506103), (3627, 0.002885772429639315), (2868, 0.0028855560020471464), (1920, 0.002883772904826539), (1448, 0.002881881815998946), (4616, 0.0028810941677754292), (2735, 0.0028796741334726726), (3558, 0.002879405127030202), (3913, 0.002879361444259706), (2399, 0.0028789842401139155), (2593, 0.0028775545929002047), (3369, 0.0028768770915393233), (3839, 0.002876770000328159), (558, 0.0028759896824032904), (355, 0.0028759185995099875), (638, 0.0028745660070818636), (1667, 0.0028743973823879315), (1543, 0.0028734839972934345), (4479, 0.002872544055191247), (1814, 0.002871731575067568), (2674, 0.002871021911017715), (2845, 0.002870667905817934), (1079, 0.0028681163887428847), (2347, 0.0028671034838893086), (2453, 0.002866538672347505), (121, 0.0028665285268448157), (3767, 0.002865024621472687), (3455, 0.002863754468608944), (3876, 0.0028629419553310976), (359, 0.00286222849350997), (2362, 0.0028589835137276987), (3050, 0.002857493799533057), (4277, 0.00285676896032428), (1672, 0.002855162620631076), (1628, 0.002853774556058418), (624, 0.0028527722337505263), (3329, 0.0028513134710104948), (863, 0.0028509300570665557), (1065, 0.002850656508825704), (4502, 0.0028485749002374224), (4359, 0.00284745855150369), (218, 0.002847407588096433), (465, 0.0028474058774587267), (4638, 0.002845061427187933), (199, 0.002843856890281509), (2728, 0.002838902627719749), (3953, 0.0028377552317985517), (3278, 0.002835961956976185), (3474, 0.0028340385523729604), (1528, 0.0028328371075502876), (1892, 0.002832100038424328), (1538, 0.002830990751153756), (3418, 0.002830438735282055), (4053, 0.0028300629648511455), (968, 0.002825256923738728), (3614, 0.00282303382583009), (3705, 0.002822238655804266), (473, 0.0028216903751862492), (1826, 0.0028202992476621495), (4154, 0.0028182742587298747), (1387, 0.002815559522715358), (2323, 0.002814565319462352), (1366, 0.002813380811425791), (563, 0.00281237381185862), (515, 0.00281133319695816), (4350, 0.0028111958005212446), (3318, 0.002810956571755705), (581, 0.002810624431165357), (1690, 0.0028100167398416496), (4712, 0.0028096212714502043), (2741, 0.0028082183386367626), (3974, 0.00280718915815188), (2457, 0.002805575873351871), (4475, 0.002804662300303856), (1625, 0.002804549748388565), (1739, 0.002804352882708061), (2248, 0.002803953481420427), (161, 0.0028034281421529155), (3863, 0.0028026349768852346), (4304, 0.002799233955906208), (2591, 0.0027981289537442056), (158, 0.002797665522178506), (1980, 0.002797428133221097), (2191, 0.0027970936774115657), (4080, 0.0027964887648429058), (2607, 0.0027956077639614547), (1004, 0.0027955233063099495), (3801, 0.002794313913198584), (3167, 0.0027931348931816767), (917, 0.0027917003259571535), (3795, 0.0027899395454695766), (3556, 0.002788701274795869), (1921, 0.0027873590113622966), (2580, 0.002785281000971019), (1934, 0.002784862030026592), (2163, 0.0027829439088661967), (268, 0.0027817484600845006), (1318, 0.0027815583901597556), (672, 0.0027811225739602283), (4141, 0.0027808284587680795), (3956, 0.002779864697577408), (1977, 0.002776913990830678), (3380, 0.002768635347578381), (1423, 0.0027679924639281337), (4608, 0.00276772138299583), (132, 0.002765121022321432), (4661, 0.0027646355630951327), (4104, 0.002764554246010065), (1290, 0.0027631242014148835), (1954, 0.0027628017792735173), (252, 0.002762667344344571), (705, 0.002761160414622974), (1251, 0.002759895991857262), (4343, 0.0027587145455399567), (3755, 0.0027564604171305767), (200, 0.002755875689604676), (712, 0.002755523732607809), (519, 0.002753819785054523), (4220, 0.002751414689877947), (2617, 0.0027497954427832864), (808, 0.002749562760252109), (1776, 0.002746754282129235), (605, 0.0027443724842558157), (1616, 0.0027408564325967118), (4066, 0.0027389867747269992), (3910, 0.0027381907122803447), (647, 0.0027365223287239004), (32, 0.00273508469757173), (851, 0.0027322657090211484), (3895, 0.0027302595727962506), (3880, 0.0027210552269390544), (4296, 0.002716690871408457), (1943, 0.0027147036779534557), (2621, 0.0027134868440834388), (4232, 0.00271144430931549), (3096, 0.002711162348309879), (2692, 0.002708340354961457), (4429, 0.0027080096622037865), (2747, 0.0027024941473471845), (103, 0.0027014112278552394), (147, 0.0026983500164547126), (1397, 0.0026971111665471718), (2270, 0.0026947815868760007), (642, 0.0026939892549073547), (4386, 0.0026899129133601363), (1370, 0.002689257020408655), (1450, 0.00268773855594944), (278, 0.0026861908936705093), (861, 0.002685759651033975), (364, 0.0026832022115260306), (2527, 0.0026824880000092034), (3629, 0.002678550161759977), (4627, 0.002676215972511397), (4411, 0.002671963034404152), (1763, 0.002670853514901356), (1833, 0.0026706726152872823), (445, 0.0026699917419772874), (4476, 0.002668844584257907), (1088, 0.0026661558023756368), (190, 0.002661545437365883), (3065, 0.002649174587809379), (2758, 0.002648851451467507), (4095, 0.0026468730820171935), (1202, 0.0026455178314084707), (626, 0.0026431229039333933), (3669, 0.002643119168146753), (2035, 0.002642185202695726), (3634, 0.0026370100344658633), (617, 0.0026332533315478832), (951, 0.0026329343399394594), (3657, 0.0026319893081649622), (4636, 0.0026301624058007213), (707, 0.0026233079690847682), (196, 0.002619687322732167), (4610, 0.0026175876161137245), (3091, 0.0026105606707732647), (2132, 0.002605625662929356), (2876, 0.002604852305573424), (1367, 0.0026045627776580455), (2355, 0.0026002092736538583), (3331, 0.0025998824949672017), (16, 0.0025995607491428093), (616, 0.002599112915858481), (1209, 0.0025990541962677832), (3252, 0.0025988363068671456), (44, 0.002596256673736641), (2602, 0.002587902231805874), (901, 0.0025833052154410653), (3024, 0.0025800456083984904), (3548, 0.002564818155985776), (113, 0.0025647574710902918), (1427, 0.002556679792868263), (1415, 0.0025553374646611936), (2697, 0.0025533139259601343), (433, 0.0025512376947300665), (3756, 0.0025511964989179737), (645, 0.0025473322183197705), (1098, 0.0025432762873035222), (816, 0.002538502172154928), (1624, 0.0025379939351489822), (942, 0.0025355577835097457), (4311, 0.0025339344091760696), (4744, 0.002528345982530772), (1317, 0.0025270105655153217), (4626, 0.002521601545481161), (1303, 0.002514635171213239), (953, 0.002511196912416476), (2908, 0.0025063605457537235), (1989, 0.0025050558274932293), (3431, 0.0025045656407517354), (2925, 0.0025041490829792418), (194, 0.0025023656533130945), (63, 0.002482225154767513), (3471, 0.002479845496971115), (1677, 0.0024537558896903177), (4598, 0.00244686476401007), (2469, 0.0024419053458016892), (1040, 0.0024359914449111814), (1417, 0.0024345939415009715), (1747, 0.002427206566694408), (1403, 0.0023962921141600637), (2760, 0.002393877196825095), (271, 0.0023902574113274133), (224, 0.0023862637261604287), (1774, 0.0023814099456575385), (351, 0.0023795249514360806), (1861, 0.0023640950118792615), (3645, 0.0023508474324239284), (296, 0.002337545749563127), (256, 0.0023300836204128406), (4301, 0.0023139765131080466), (831, 0.00220180772075528), (542, 0.0021871137487955586), (940, 0.00218277987289421), (129, 0.002177923876158063), (858, 0.002105871146308784), (3608, 0.0020314915726727446), (2538, 0.0018661309338089075), (475, 0.001090333613154162), (13, 0.0), (27, 0.0), (30, 0.0), (40, 0.0), (42, 0.0), (46, 0.0), (47, 0.0), (49, 0.0), (54, 0.0), (59, 0.0), (69, 0.0), (70, 0.0), (77, 0.0), (81, 0.0), (90, 0.0), (95, 0.0), (99, 0.0), (100, 0.0), (117, 0.0), (133, 0.0), (134, 0.0), (139, 0.0), (141, 0.0), (143, 0.0), (144, 0.0), (146, 0.0), (151, 0.0), (155, 0.0), (160, 0.0), (163, 0.0), (180, 0.0), (181, 0.0), (185, 0.0), (187, 0.0), (205, 0.0), (207, 0.0), (217, 0.0), (233, 0.0), (244, 0.0), (245, 0.0), (248, 0.0), (258, 0.0), (265, 0.0), (273, 0.0), (275, 0.0), (290, 0.0), (300, 0.0), (304, 0.0), (311, 0.0), (314, 0.0), (315, 0.0), (316, 0.0), (320, 0.0), (321, 0.0), (331, 0.0), (332, 0.0), (333, 0.0), (340, 0.0), (360, 0.0), (362, 0.0), (363, 0.0), (365, 0.0), (367, 0.0), (375, 0.0), (376, 0.0), (379, 0.0), (382, 0.0), (383, 0.0), (385, 0.0), (390, 0.0), (391, 0.0), (393, 0.0), (394, 0.0), (397, 0.0), (398, 0.0), (401, 0.0), (404, 0.0), (405, 0.0), (414, 0.0), (422, 0.0), (423, 0.0), (435, 0.0), (438, 0.0), (459, 0.0), (461, 0.0), (462, 0.0), (474, 0.0), (494, 0.0), (501, 0.0), (503, 0.0), (506, 0.0), (513, 0.0), (514, 0.0), (516, 0.0), (517, 0.0), (520, 0.0), (528, 0.0), (531, 0.0), (535, 0.0), (536, 0.0), (537, 0.0), (539, 0.0), (546, 0.0), (554, 0.0), (556, 0.0), (557, 0.0), (559, 0.0), (565, 0.0), (574, 0.0), (582, 0.0), (586, 0.0), (592, 0.0), (601, 0.0), (602, 0.0), (619, 0.0), (621, 0.0), (625, 0.0), (629, 0.0), (630, 0.0), (632, 0.0), (634, 0.0), (649, 0.0), (650, 0.0), (656, 0.0), (663, 0.0), (665, 0.0), (667, 0.0), (671, 0.0), (674, 0.0), (682, 0.0), (686, 0.0), (695, 0.0), (708, 0.0), (709, 0.0), (711, 0.0), (720, 0.0), (724, 0.0), (730, 0.0), (745, 0.0), (746, 0.0), (752, 0.0), (754, 0.0), (760, 0.0), (764, 0.0), (771, 0.0), (772, 0.0), (784, 0.0), (786, 0.0), (793, 0.0), (795, 0.0), (801, 0.0), (814, 0.0), (819, 0.0), (822, 0.0), (825, 0.0), (827, 0.0), (833, 0.0), (834, 0.0), (835, 0.0), (836, 0.0), (842, 0.0), (849, 0.0), (855, 0.0), (869, 0.0), (873, 0.0), (877, 0.0), (892, 0.0), (905, 0.0), (906, 0.0), (912, 0.0), (914, 0.0), (920, 0.0), (926, 0.0), (932, 0.0), (943, 0.0), (954, 0.0), (958, 0.0), (961, 0.0), (964, 0.0), (965, 0.0), (972, 0.0), (976, 0.0), (979, 0.0), (983, 0.0), (990, 0.0), (992, 0.0), (996, 0.0), (1003, 0.0), (1014, 0.0), (1024, 0.0), (1028, 0.0), (1038, 0.0), (1045, 0.0), (1051, 0.0), (1055, 0.0), (1057, 0.0), (1058, 0.0), (1061, 0.0), (1062, 0.0), (1070, 0.0), (1073, 0.0), (1074, 0.0), (1076, 0.0), (1081, 0.0), (1082, 0.0), (1085, 0.0), (1089, 0.0), (1092, 0.0), (1093, 0.0), (1094, 0.0), (1099, 0.0), (1101, 0.0), (1103, 0.0), (1108, 0.0), (1115, 0.0), (1116, 0.0), (1125, 0.0), (1127, 0.0), (1128, 0.0), (1142, 0.0), (1143, 0.0), (1147, 0.0), (1149, 0.0), (1151, 0.0), (1152, 0.0), (1153, 0.0), (1154, 0.0), (1156, 0.0), (1158, 0.0), (1159, 0.0), (1162, 0.0), (1164, 0.0), (1165, 0.0), (1166, 0.0), (1167, 0.0), (1172, 0.0), (1180, 0.0), (1181, 0.0), (1189, 0.0), (1190, 0.0), (1196, 0.0), (1198, 0.0), (1200, 0.0), (1201, 0.0), (1205, 0.0), (1207, 0.0), (1211, 0.0), (1212, 0.0), (1226, 0.0), (1228, 0.0), (1230, 0.0), (1231, 0.0), (1235, 0.0), (1240, 0.0), (1242, 0.0), (1249, 0.0), (1258, 0.0), (1260, 0.0), (1268, 0.0), (1269, 0.0), (1272, 0.0), (1280, 0.0), (1281, 0.0), (1283, 0.0), (1285, 0.0), (1287, 0.0), (1289, 0.0), (1292, 0.0), (1295, 0.0), (1299, 0.0), (1302, 0.0), (1309, 0.0), (1310, 0.0), (1311, 0.0), (1315, 0.0), (1316, 0.0), (1320, 0.0), (1323, 0.0), (1326, 0.0), (1327, 0.0), (1330, 0.0), (1331, 0.0), (1333, 0.0), (1342, 0.0), (1345, 0.0), (1348, 0.0), (1353, 0.0), (1361, 0.0), (1362, 0.0), (1363, 0.0), (1376, 0.0), (1386, 0.0), (1388, 0.0), (1391, 0.0), (1393, 0.0), (1401, 0.0), (1405, 0.0), (1406, 0.0), (1407, 0.0), (1424, 0.0), (1428, 0.0), (1437, 0.0), (1441, 0.0), (1444, 0.0), (1445, 0.0), (1449, 0.0), (1455, 0.0), (1457, 0.0), (1458, 0.0), (1460, 0.0), (1469, 0.0), (1470, 0.0), (1473, 0.0), (1480, 0.0), (1485, 0.0), (1490, 0.0), (1491, 0.0), (1492, 0.0), (1504, 0.0), (1505, 0.0), (1512, 0.0), (1529, 0.0), (1531, 0.0), (1532, 0.0), (1540, 0.0), (1541, 0.0), (1542, 0.0), (1544, 0.0), (1545, 0.0), (1549, 0.0), (1556, 0.0), (1560, 0.0), (1561, 0.0), (1563, 0.0), (1566, 0.0), (1567, 0.0), (1569, 0.0), (1575, 0.0), (1581, 0.0), (1585, 0.0), (1589, 0.0), (1590, 0.0), (1591, 0.0), (1596, 0.0), (1600, 0.0), (1601, 0.0), (1602, 0.0), (1603, 0.0), (1606, 0.0), (1609, 0.0), (1610, 0.0), (1615, 0.0), (1618, 0.0), (1622, 0.0), (1623, 0.0), (1633, 0.0), (1635, 0.0), (1644, 0.0), (1646, 0.0), (1647, 0.0), (1651, 0.0), (1652, 0.0), (1654, 0.0), (1657, 0.0), (1661, 0.0), (1673, 0.0), (1674, 0.0), (1676, 0.0), (1684, 0.0), (1686, 0.0), (1694, 0.0), (1696, 0.0), (1697, 0.0), (1699, 0.0), (1713, 0.0), (1715, 0.0), (1721, 0.0), (1729, 0.0), (1732, 0.0), (1735, 0.0), (1737, 0.0), (1741, 0.0), (1745, 0.0), (1749, 0.0), (1750, 0.0), (1752, 0.0), (1753, 0.0), (1761, 0.0), (1766, 0.0), (1767, 0.0), (1773, 0.0), (1777, 0.0), (1783, 0.0), (1785, 0.0), (1789, 0.0), (1791, 0.0), (1795, 0.0), (1797, 0.0), (1800, 0.0), (1803, 0.0), (1806, 0.0), (1820, 0.0), (1832, 0.0), (1834, 0.0), (1836, 0.0), (1837, 0.0), (1838, 0.0), (1839, 0.0), (1842, 0.0), (1844, 0.0), (1846, 0.0), (1855, 0.0), (1856, 0.0), (1863, 0.0), (1867, 0.0), (1868, 0.0), (1870, 0.0), (1879, 0.0), (1880, 0.0), (1889, 0.0), (1894, 0.0), (1898, 0.0), (1899, 0.0), (1900, 0.0), (1904, 0.0), (1906, 0.0), (1911, 0.0), (1912, 0.0), (1913, 0.0), (1917, 0.0), (1926, 0.0), (1927, 0.0), (1930, 0.0), (1932, 0.0), (1940, 0.0), (1941, 0.0), (1944, 0.0), (1953, 0.0), (1955, 0.0), (1956, 0.0), (1958, 0.0), (1962, 0.0), (1963, 0.0), (1966, 0.0), (1970, 0.0), (1972, 0.0), (1975, 0.0), (1976, 0.0), (1978, 0.0), (1979, 0.0), (1998, 0.0), (1999, 0.0), (2001, 0.0), (2002, 0.0), (2006, 0.0), (2007, 0.0), (2009, 0.0), (2018, 0.0), (2019, 0.0), (2021, 0.0), (2025, 0.0), (2026, 0.0), (2028, 0.0), (2030, 0.0), (2033, 0.0), (2038, 0.0), (2041, 0.0), (2042, 0.0), (2044, 0.0), (2050, 0.0), (2052, 0.0), (2054, 0.0), (2057, 0.0), (2059, 0.0), (2063, 0.0), (2064, 0.0), (2066, 0.0), (2077, 0.0), (2081, 0.0), (2084, 0.0), (2090, 0.0), (2092, 0.0), (2100, 0.0), (2101, 0.0), (2107, 0.0), (2113, 0.0), (2115, 0.0), (2120, 0.0), (2124, 0.0), (2130, 0.0), (2138, 0.0), (2140, 0.0), (2150, 0.0), (2152, 0.0), (2153, 0.0), (2158, 0.0), (2164, 0.0), (2165, 0.0), (2170, 0.0), (2171, 0.0), (2172, 0.0), (2179, 0.0), (2181, 0.0), (2182, 0.0), (2183, 0.0), (2184, 0.0), (2185, 0.0), (2186, 0.0), (2194, 0.0), (2197, 0.0), (2200, 0.0), (2202, 0.0), (2203, 0.0), (2206, 0.0), (2217, 0.0), (2219, 0.0), (2220, 0.0), (2225, 0.0), (2227, 0.0), (2228, 0.0), (2231, 0.0), (2232, 0.0), (2235, 0.0), (2238, 0.0), (2243, 0.0), (2249, 0.0), (2253, 0.0), (2256, 0.0), (2258, 0.0), (2261, 0.0), (2267, 0.0), (2272, 0.0), (2273, 0.0), (2274, 0.0), (2276, 0.0), (2281, 0.0), (2282, 0.0), (2298, 0.0), (2304, 0.0), (2307, 0.0), (2308, 0.0), (2312, 0.0), (2314, 0.0), (2316, 0.0), (2325, 0.0), (2328, 0.0), (2331, 0.0), (2332, 0.0), (2333, 0.0), (2335, 0.0), (2336, 0.0), (2341, 0.0), (2342, 0.0), (2343, 0.0), (2345, 0.0), (2352, 0.0), (2353, 0.0), (2357, 0.0), (2358, 0.0), (2360, 0.0), (2364, 0.0), (2365, 0.0), (2366, 0.0), (2368, 0.0), (2369, 0.0), (2371, 0.0), (2372, 0.0), (2373, 0.0), (2380, 0.0), (2381, 0.0), (2383, 0.0), (2389, 0.0), (2395, 0.0), (2408, 0.0), (2420, 0.0), (2424, 0.0), (2426, 0.0), (2429, 0.0), (2433, 0.0), (2435, 0.0), (2442, 0.0), (2445, 0.0), (2449, 0.0), (2450, 0.0), (2451, 0.0), (2452, 0.0), (2455, 0.0), (2460, 0.0), (2462, 0.0), (2465, 0.0), (2468, 0.0), (2471, 0.0), (2476, 0.0), (2479, 0.0), (2500, 0.0), (2506, 0.0), (2515, 0.0), (2516, 0.0), (2517, 0.0), (2519, 0.0), (2521, 0.0), (2536, 0.0), (2542, 0.0), (2543, 0.0), (2544, 0.0), (2548, 0.0), (2549, 0.0), (2564, 0.0), (2566, 0.0), (2573, 0.0), (2575, 0.0), (2576, 0.0), (2577, 0.0), (2578, 0.0), (2583, 0.0), (2586, 0.0), (2589, 0.0), (2594, 0.0), (2596, 0.0), (2599, 0.0), (2600, 0.0), (2604, 0.0), (2605, 0.0), (2618, 0.0), (2620, 0.0), (2635, 0.0), (2639, 0.0), (2644, 0.0), (2646, 0.0), (2648, 0.0), (2657, 0.0), (2658, 0.0), (2659, 0.0), (2662, 0.0), (2663, 0.0), (2667, 0.0), (2669, 0.0), (2676, 0.0), (2681, 0.0), (2683, 0.0), (2684, 0.0), (2686, 0.0), (2688, 0.0), (2690, 0.0), (2693, 0.0), (2700, 0.0), (2701, 0.0), (2704, 0.0), (2708, 0.0), (2709, 0.0), (2711, 0.0), (2715, 0.0), (2717, 0.0), (2718, 0.0), (2726, 0.0), (2733, 0.0), (2736, 0.0), (2737, 0.0), (2750, 0.0), (2751, 0.0), (2754, 0.0), (2759, 0.0), (2762, 0.0), (2770, 0.0), (2773, 0.0), (2780, 0.0), (2781, 0.0), (2804, 0.0), (2806, 0.0), (2815, 0.0), (2819, 0.0), (2822, 0.0), (2823, 0.0), (2824, 0.0), (2825, 0.0), (2827, 0.0), (2828, 0.0), (2835, 0.0), (2836, 0.0), (2837, 0.0), (2843, 0.0), (2847, 0.0), (2851, 0.0), (2856, 0.0), (2860, 0.0), (2864, 0.0), (2865, 0.0), (2866, 0.0), (2869, 0.0), (2871, 0.0), (2875, 0.0), (2880, 0.0), (2885, 0.0), (2891, 0.0), (2896, 0.0), (2905, 0.0), (2913, 0.0), (2918, 0.0), (2921, 0.0), (2922, 0.0), (2927, 0.0), (2930, 0.0), (2939, 0.0), (2941, 0.0), (2947, 0.0), (2948, 0.0), (2950, 0.0), (2952, 0.0), (2956, 0.0), (2958, 0.0), (2960, 0.0), (2967, 0.0), (2971, 0.0), (2973, 0.0), (2979, 0.0), (2982, 0.0), (2984, 0.0), (2990, 0.0), (2994, 0.0), (3001, 0.0), (3002, 0.0), (3005, 0.0), (3009, 0.0), (3017, 0.0), (3021, 0.0), (3023, 0.0), (3025, 0.0), (3029, 0.0), (3034, 0.0), (3038, 0.0), (3041, 0.0), (3045, 0.0), (3049, 0.0), (3054, 0.0), (3058, 0.0), (3059, 0.0), (3060, 0.0), (3061, 0.0), (3063, 0.0), (3068, 0.0), (3078, 0.0), (3080, 0.0), (3087, 0.0), (3088, 0.0), (3089, 0.0), (3090, 0.0), (3092, 0.0), (3098, 0.0), (3099, 0.0), (3102, 0.0), (3104, 0.0), (3105, 0.0), (3106, 0.0), (3107, 0.0), (3110, 0.0), (3114, 0.0), (3115, 0.0), (3117, 0.0), (3118, 0.0), (3126, 0.0), (3130, 0.0), (3132, 0.0), (3134, 0.0), (3135, 0.0), (3138, 0.0), (3143, 0.0), (3158, 0.0), (3161, 0.0), (3162, 0.0), (3169, 0.0), (3175, 0.0), (3176, 0.0), (3179, 0.0), (3180, 0.0), (3189, 0.0), (3190, 0.0), (3191, 0.0), (3197, 0.0), (3202, 0.0), (3203, 0.0), (3204, 0.0), (3208, 0.0), (3209, 0.0), (3212, 0.0), (3213, 0.0), (3215, 0.0), (3217, 0.0), (3236, 0.0), (3245, 0.0), (3250, 0.0), (3251, 0.0), (3255, 0.0), (3256, 0.0), (3263, 0.0), (3266, 0.0), (3272, 0.0), (3279, 0.0), (3281, 0.0), (3286, 0.0), (3287, 0.0), (3288, 0.0), (3305, 0.0), (3309, 0.0), (3310, 0.0), (3319, 0.0), (3323, 0.0), (3324, 0.0), (3333, 0.0), (3334, 0.0), (3338, 0.0), (3339, 0.0), (3340, 0.0), (3366, 0.0), (3375, 0.0), (3383, 0.0), (3385, 0.0), (3387, 0.0), (3394, 0.0), (3401, 0.0), (3404, 0.0), (3415, 0.0), (3416, 0.0), (3422, 0.0), (3427, 0.0), (3429, 0.0), (3432, 0.0), (3439, 0.0), (3440, 0.0), (3442, 0.0), (3443, 0.0), (3451, 0.0), (3462, 0.0), (3467, 0.0), (3470, 0.0), (3472, 0.0), (3475, 0.0), (3476, 0.0), (3480, 0.0), (3482, 0.0), (3485, 0.0), (3486, 0.0), (3488, 0.0), (3489, 0.0), (3494, 0.0), (3495, 0.0), (3505, 0.0), (3508, 0.0), (3510, 0.0), (3513, 0.0), (3519, 0.0), (3520, 0.0), (3522, 0.0), (3528, 0.0), (3529, 0.0), (3530, 0.0), (3531, 0.0), (3532, 0.0), (3533, 0.0), (3535, 0.0), (3543, 0.0), (3545, 0.0), (3547, 0.0), (3555, 0.0), (3559, 0.0), (3570, 0.0), (3573, 0.0), (3576, 0.0), (3580, 0.0), (3581, 0.0), (3582, 0.0), (3583, 0.0), (3585, 0.0), (3588, 0.0), (3591, 0.0), (3595, 0.0), (3597, 0.0), (3600, 0.0), (3603, 0.0), (3604, 0.0), (3605, 0.0), (3607, 0.0), (3609, 0.0), (3622, 0.0), (3625, 0.0), (3628, 0.0), (3630, 0.0), (3632, 0.0), (3649, 0.0), (3652, 0.0), (3659, 0.0), (3663, 0.0), (3664, 0.0), (3671, 0.0), (3676, 0.0), (3679, 0.0), (3682, 0.0), (3683, 0.0), (3685, 0.0), (3686, 0.0), (3688, 0.0), (3693, 0.0), (3702, 0.0), (3708, 0.0), (3710, 0.0), (3715, 0.0), (3716, 0.0), (3717, 0.0), (3721, 0.0), (3723, 0.0), (3726, 0.0), (3735, 0.0), (3740, 0.0), (3744, 0.0), (3747, 0.0), (3753, 0.0), (3758, 0.0), (3760, 0.0), (3761, 0.0), (3764, 0.0), (3768, 0.0), (3769, 0.0), (3785, 0.0), (3787, 0.0), (3789, 0.0), (3790, 0.0), (3791, 0.0), (3793, 0.0), (3794, 0.0), (3796, 0.0), (3798, 0.0), (3800, 0.0), (3805, 0.0), (3808, 0.0), (3812, 0.0), (3814, 0.0), (3815, 0.0), (3816, 0.0), (3820, 0.0), (3830, 0.0), (3833, 0.0), (3836, 0.0), (3837, 0.0), (3838, 0.0), (3842, 0.0), (3843, 0.0), (3846, 0.0), (3847, 0.0), (3849, 0.0), (3850, 0.0), (3851, 0.0), (3853, 0.0), (3856, 0.0), (3859, 0.0), (3860, 0.0), (3861, 0.0), (3864, 0.0), (3871, 0.0), (3872, 0.0), (3879, 0.0), (3885, 0.0), (3887, 0.0), (3896, 0.0), (3916, 0.0), (3918, 0.0), (3923, 0.0), (3929, 0.0), (3931, 0.0), (3933, 0.0), (3934, 0.0), (3936, 0.0), (3938, 0.0), (3940, 0.0), (3943, 0.0), (3946, 0.0), (3947, 0.0), (3948, 0.0), (3949, 0.0), (3950, 0.0), (3958, 0.0), (3964, 0.0), (3971, 0.0), (3976, 0.0), (3979, 0.0), (3981, 0.0), (3982, 0.0), (3985, 0.0), (3988, 0.0), (3989, 0.0), (3991, 0.0), (3995, 0.0), (3996, 0.0), (3997, 0.0), (4003, 0.0), (4008, 0.0), (4010, 0.0), (4021, 0.0), (4022, 0.0), (4026, 0.0), (4027, 0.0), (4028, 0.0), (4029, 0.0), (4034, 0.0), (4035, 0.0), (4039, 0.0), (4040, 0.0), (4041, 0.0), (4043, 0.0), (4044, 0.0), (4045, 0.0), (4047, 0.0), (4050, 0.0), (4058, 0.0), (4063, 0.0), (4065, 0.0), (4067, 0.0), (4071, 0.0), (4072, 0.0), (4073, 0.0), (4086, 0.0), (4090, 0.0), (4093, 0.0), (4094, 0.0), (4105, 0.0), (4114, 0.0), (4122, 0.0), (4125, 0.0), (4127, 0.0), (4128, 0.0), (4131, 0.0), (4134, 0.0), (4146, 0.0), (4148, 0.0), (4149, 0.0), (4153, 0.0), (4159, 0.0), (4162, 0.0), (4166, 0.0), (4167, 0.0), (4170, 0.0), (4173, 0.0), (4177, 0.0), (4179, 0.0), (4180, 0.0), (4185, 0.0), (4188, 0.0), (4190, 0.0), (4191, 0.0), (4193, 0.0), (4195, 0.0), (4196, 0.0), (4198, 0.0), (4199, 0.0), (4204, 0.0), (4207, 0.0), (4208, 0.0), (4211, 0.0), (4212, 0.0), (4214, 0.0), (4215, 0.0), (4216, 0.0), (4219, 0.0), (4223, 0.0), (4224, 0.0), (4227, 0.0), (4229, 0.0), (4233, 0.0), (4234, 0.0), (4235, 0.0), (4236, 0.0), (4237, 0.0), (4238, 0.0), (4239, 0.0), (4248, 0.0), (4250, 0.0), (4251, 0.0), (4253, 0.0), (4256, 0.0), (4258, 0.0), (4260, 0.0), (4261, 0.0), (4264, 0.0), (4270, 0.0), (4274, 0.0), (4275, 0.0), (4276, 0.0), (4278, 0.0), (4291, 0.0), (4294, 0.0), (4300, 0.0), (4302, 0.0), (4303, 0.0), (4307, 0.0), (4310, 0.0), (4314, 0.0), (4315, 0.0), (4316, 0.0), (4317, 0.0), (4319, 0.0), (4322, 0.0), (4323, 0.0), (4324, 0.0), (4327, 0.0), (4329, 0.0), (4331, 0.0), (4335, 0.0), (4337, 0.0), (4341, 0.0), (4347, 0.0), (4352, 0.0), (4358, 0.0), (4360, 0.0), (4364, 0.0), (4365, 0.0), (4367, 0.0), (4370, 0.0), (4375, 0.0), (4377, 0.0), (4378, 0.0), (4384, 0.0), (4385, 0.0), (4389, 0.0), (4392, 0.0), (4393, 0.0), (4404, 0.0), (4405, 0.0), (4408, 0.0), (4410, 0.0), (4413, 0.0), (4415, 0.0), (4417, 0.0), (4424, 0.0), (4425, 0.0), (4426, 0.0), (4433, 0.0), (4434, 0.0), (4437, 0.0), (4440, 0.0), (4447, 0.0), (4451, 0.0), (4453, 0.0), (4455, 0.0), (4456, 0.0), (4457, 0.0), (4478, 0.0), (4480, 0.0), (4483, 0.0), (4485, 0.0), (4491, 0.0), (4496, 0.0), (4498, 0.0), (4499, 0.0), (4500, 0.0), (4506, 0.0), (4509, 0.0), (4510, 0.0), (4512, 0.0), (4513, 0.0), (4514, 0.0), (4518, 0.0), (4519, 0.0), (4526, 0.0), (4527, 0.0), (4532, 0.0), (4537, 0.0), (4538, 0.0), (4542, 0.0), (4543, 0.0), (4547, 0.0), (4552, 0.0), (4556, 0.0), (4557, 0.0), (4559, 0.0), (4560, 0.0), (4561, 0.0), (4562, 0.0), (4565, 0.0), (4569, 0.0), (4570, 0.0), (4578, 0.0), (4580, 0.0), (4581, 0.0), (4582, 0.0), (4583, 0.0), (4585, 0.0), (4588, 0.0), (4597, 0.0), (4599, 0.0), (4609, 0.0), (4622, 0.0), (4623, 0.0), (4628, 0.0), (4630, 0.0), (4631, 0.0), (4639, 0.0), (4642, 0.0), (4644, 0.0), (4645, 0.0), (4648, 0.0), (4651, 0.0), (4653, 0.0), (4654, 0.0), (4655, 0.0), (4663, 0.0), (4665, 0.0), (4666, 0.0), (4667, 0.0), (4671, 0.0), (4672, 0.0), (4681, 0.0), (4683, 0.0), (4688, 0.0), (4690, 0.0), (4691, 0.0), (4697, 0.0), (4698, 0.0), (4700, 0.0), (4703, 0.0), (4707, 0.0), (4708, 0.0), (4709, 0.0), (4711, 0.0), (4714, 0.0), (4716, 0.0), (4720, 0.0), (4721, 0.0), (4725, 0.0), (4726, 0.0), (4727, 0.0), (4728, 0.0), (4730, 0.0), (4737, 0.0), (4738, 0.0), (4740, 0.0), (4741, 0.0), (4742, 0.0), (4745, 0.0), (4746, 0.0), (4750, 0.0), (4751, 0.0), (4754, 0.0), (4758, 0.0), (4759, 0.0)]\n"
          ]
        }
      ]
    },
    {
      "cell_type": "code",
      "source": [
        "print('Top 30 Movies suggested for you: \\n')\n",
        "\n",
        "i=1\n",
        "\n",
        "for movie in Sorted_Similar_Movies:\n",
        "  index=movie[0]\n",
        "  title_from_index=df[df.index==index]['Movie_Title'].values[0]\n",
        "  if(i<31):\n",
        "    print(i,'.',title_from_index)\n",
        "    i += 1"
      ],
      "metadata": {
        "colab": {
          "base_uri": "https://localhost:8080/"
        },
        "id": "stNEvZnU_nTd",
        "outputId": "9ab9abe3-6df7-461f-c627-51f768260572"
      },
      "execution_count": 31,
      "outputs": [
        {
          "output_type": "stream",
          "name": "stdout",
          "text": [
            "Top 30 Movies suggested for you: \n",
            "\n",
            "1 . Apocalypse Now\n",
            "2 . The Godfather\n",
            "3 . The Conversation\n",
            "4 . The Godfather: Part II\n",
            "5 . The Godfather: Part III\n",
            "6 . Platoon\n",
            "7 . Dracula\n",
            "8 . Gettysburg\n",
            "9 . Twixt\n",
            "10 . The Deer Hunter\n",
            "11 . Mud\n",
            "12 . Peggy Sue Got Married\n",
            "13 . New York Stories\n",
            "14 . Forrest Gump\n",
            "15 . The Rose\n",
            "16 . We Were Soldiers\n",
            "17 . The Score\n",
            "18 . Beyond Borders\n",
            "19 . On the Waterfront\n",
            "20 . Red Dawn\n",
            "21 . The Island of Dr. Moreau\n",
            "22 . The Rainmaker\n",
            "23 . Wall Street\n",
            "24 . Superman\n",
            "25 . The Apostle\n",
            "26 . Don Juan DeMarco\n",
            "27 . The Cotton Club\n",
            "28 . Finishing The Game\n",
            "29 . Salvador\n",
            "30 . Gods and Generals\n"
          ]
        }
      ]
    },
    {
      "cell_type": "code",
      "source": [
        "Movie_name=input('Enter your favourite movie name:')\n",
        "list_of_all_titles=df['Movie_Title'].tolist()\n",
        "Find_Close_Match=difflib.get_close_matches(Movie_name,list_of_all_titles)\n",
        "Close_Match=Find_Close_Match[0]\n",
        "Index_of_Movie=df[df.Movie_Title==Close_Match]['Movie_ID'].values[0]\n",
        "Recommendation_Score=list(enumerate(Similarity_Score[Index_of_Movie]))\n",
        "Sorted_Similar_Movies=sorted(Recommendation_Score,key=lambda x:x[1],reverse=True)\n",
        "print('Top 10 Movies suggested for you: \\n')\n",
        "i=1\n",
        "for movie in Sorted_Similar_Movies:\n",
        "    Movie_ID=movie[0]\n",
        "    Title_From_Index=df[df.Movie_ID==Movie_ID]['Movie_Title'].values\n",
        "    if(i<11):\n",
        "        print(i,'.',Title_From_Index)\n",
        "        i += 1"
      ],
      "metadata": {
        "colab": {
          "base_uri": "https://localhost:8080/"
        },
        "id": "edq-JM-D_2Xs",
        "outputId": "17122953-ed6d-4b99-a840-d562bb6e7b78"
      },
      "execution_count": 33,
      "outputs": [
        {
          "output_type": "stream",
          "name": "stdout",
          "text": [
            "Enter your favourite movie name:hi nanna\n",
            "Top 10 Movies suggested for you: \n",
            "\n",
            "1 . ['Hanna']\n",
            "2 . ['Patriot Games']\n",
            "3 . ['Copycat']\n",
            "4 . ['Catch That Kid']\n",
            "5 . ['Eagle Eye']\n",
            "6 . ['Tanner Hall']\n",
            "7 . ['Blue Ruin']\n",
            "8 . ['Sex and the City 2']\n",
            "9 . ['The Circle']\n",
            "10 . []\n"
          ]
        }
      ]
    }
  ]
}